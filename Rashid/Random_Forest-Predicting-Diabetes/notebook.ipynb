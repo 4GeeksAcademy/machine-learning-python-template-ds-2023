{
 "cells": [
  {
   "cell_type": "markdown",
   "metadata": {},
   "source": [
    "<!-- hide -->\n",
    "# Random forest - Step by step guide\n",
    "<!-- endhide -->\n",
    "## 📝 Instructions\n",
    "\n",
    "### Predicting diabetes\n",
    "\n",
    "In the previous project we saw how we could use a decision tree to predict data sets related to classification and regression. However, did you know that we can improve the prediction of a tree by using a random forest?\n",
    "\n",
    "As we have studied, a random forest is a grouping of trees generated with random portions of the data and with random criteria. This view would allow us to improve the effectiveness of the model when an individual tree is not sufficient.\n",
    "\n",
    "In this project you will focus on this idea by training the dataset to improve the $accuracy$.\n",
    "\n",
    "Remember that the previous project can be found [here](https://github.com/4GeeksAcademy/decision-tree-project-tutorial).\n",
    "\n",
    "### Step 1: Loading the dataset\n",
    "\n",
    "Load the processed dataset from the previous project (split into training and test samples and analyzed with EDA).\n",
    "\n",
    "### Step 2: Build a random forest\n",
    "\n",
    "One way to optimize and improve the results when using decision trees is to generate a random forest with enough trees so that there is the necessary variety to enrich the prediction. Train it and analyze its results. Try modifying the two hyperparameters that define the tree with different values and analyze their impact on the final accuracy and plot the conclusions.\n",
    "\n",
    "### Step 3: Save the model\n",
    "\n",
    "Store the model in the corresponding folder.\n",
    "\n",
    "> NOTE: Solution: https://github.com/4GeeksAcademy/random-forest-project-tutorial/blob/main/solution.ipynb"
   ]
  },
  {
   "cell_type": "markdown",
   "metadata": {},
   "source": []
  },
  {
   "cell_type": "code",
   "execution_count": 21,
   "metadata": {},
   "outputs": [],
   "source": [
    "import numpy as np\n",
    "import pandas as pd\n",
    "import seaborn as sns\n",
    "import matplotlib.pyplot as plt\n",
    "from sklearn.model_selection import train_test_split\n",
    "from sklearn.preprocessing import StandardScaler, MinMaxScaler, OneHotEncoder, PolynomialFeatures, SplineTransformer\n",
    "from sklearn.metrics import accuracy_score, mean_squared_error\n",
    "from sklearn.tree import DecisionTreeClassifier\n",
    "from sklearn.metrics import accuracy_score\n",
    "from sklearn.tree import plot_tree\n",
    "from sklearn.model_selection import GridSearchCV\n",
    "from joblib import dump\n"
   ]
  },
  {
   "cell_type": "code",
   "execution_count": 3,
   "metadata": {},
   "outputs": [],
   "source": [
    "import joblib\n",
    "\n",
    "# Load the data\n",
    "X_train, X_test, y_train, y_test = joblib.load('/workspaces/machine-learning-python-template-ds-2023/Rashid/Random_Forest-Predicting Diabetes/data/processed/train_test_split_data.joblib')"
   ]
  },
  {
   "cell_type": "code",
   "execution_count": 4,
   "metadata": {},
   "outputs": [
    {
     "data": {
      "text/html": [
       "<style>#sk-container-id-1 {color: black;}#sk-container-id-1 pre{padding: 0;}#sk-container-id-1 div.sk-toggleable {background-color: white;}#sk-container-id-1 label.sk-toggleable__label {cursor: pointer;display: block;width: 100%;margin-bottom: 0;padding: 0.3em;box-sizing: border-box;text-align: center;}#sk-container-id-1 label.sk-toggleable__label-arrow:before {content: \"▸\";float: left;margin-right: 0.25em;color: #696969;}#sk-container-id-1 label.sk-toggleable__label-arrow:hover:before {color: black;}#sk-container-id-1 div.sk-estimator:hover label.sk-toggleable__label-arrow:before {color: black;}#sk-container-id-1 div.sk-toggleable__content {max-height: 0;max-width: 0;overflow: hidden;text-align: left;background-color: #f0f8ff;}#sk-container-id-1 div.sk-toggleable__content pre {margin: 0.2em;color: black;border-radius: 0.25em;background-color: #f0f8ff;}#sk-container-id-1 input.sk-toggleable__control:checked~div.sk-toggleable__content {max-height: 200px;max-width: 100%;overflow: auto;}#sk-container-id-1 input.sk-toggleable__control:checked~label.sk-toggleable__label-arrow:before {content: \"▾\";}#sk-container-id-1 div.sk-estimator input.sk-toggleable__control:checked~label.sk-toggleable__label {background-color: #d4ebff;}#sk-container-id-1 div.sk-label input.sk-toggleable__control:checked~label.sk-toggleable__label {background-color: #d4ebff;}#sk-container-id-1 input.sk-hidden--visually {border: 0;clip: rect(1px 1px 1px 1px);clip: rect(1px, 1px, 1px, 1px);height: 1px;margin: -1px;overflow: hidden;padding: 0;position: absolute;width: 1px;}#sk-container-id-1 div.sk-estimator {font-family: monospace;background-color: #f0f8ff;border: 1px dotted black;border-radius: 0.25em;box-sizing: border-box;margin-bottom: 0.5em;}#sk-container-id-1 div.sk-estimator:hover {background-color: #d4ebff;}#sk-container-id-1 div.sk-parallel-item::after {content: \"\";width: 100%;border-bottom: 1px solid gray;flex-grow: 1;}#sk-container-id-1 div.sk-label:hover label.sk-toggleable__label {background-color: #d4ebff;}#sk-container-id-1 div.sk-serial::before {content: \"\";position: absolute;border-left: 1px solid gray;box-sizing: border-box;top: 0;bottom: 0;left: 50%;z-index: 0;}#sk-container-id-1 div.sk-serial {display: flex;flex-direction: column;align-items: center;background-color: white;padding-right: 0.2em;padding-left: 0.2em;position: relative;}#sk-container-id-1 div.sk-item {position: relative;z-index: 1;}#sk-container-id-1 div.sk-parallel {display: flex;align-items: stretch;justify-content: center;background-color: white;position: relative;}#sk-container-id-1 div.sk-item::before, #sk-container-id-1 div.sk-parallel-item::before {content: \"\";position: absolute;border-left: 1px solid gray;box-sizing: border-box;top: 0;bottom: 0;left: 50%;z-index: -1;}#sk-container-id-1 div.sk-parallel-item {display: flex;flex-direction: column;z-index: 1;position: relative;background-color: white;}#sk-container-id-1 div.sk-parallel-item:first-child::after {align-self: flex-end;width: 50%;}#sk-container-id-1 div.sk-parallel-item:last-child::after {align-self: flex-start;width: 50%;}#sk-container-id-1 div.sk-parallel-item:only-child::after {width: 0;}#sk-container-id-1 div.sk-dashed-wrapped {border: 1px dashed gray;margin: 0 0.4em 0.5em 0.4em;box-sizing: border-box;padding-bottom: 0.4em;background-color: white;}#sk-container-id-1 div.sk-label label {font-family: monospace;font-weight: bold;display: inline-block;line-height: 1.2em;}#sk-container-id-1 div.sk-label-container {text-align: center;}#sk-container-id-1 div.sk-container {/* jupyter's `normalize.less` sets `[hidden] { display: none; }` but bootstrap.min.css set `[hidden] { display: none !important; }` so we also need the `!important` here to be able to override the default hidden behavior on the sphinx rendered scikit-learn.org. See: https://github.com/scikit-learn/scikit-learn/issues/21755 */display: inline-block !important;position: relative;}#sk-container-id-1 div.sk-text-repr-fallback {display: none;}</style><div id=\"sk-container-id-1\" class=\"sk-top-container\"><div class=\"sk-text-repr-fallback\"><pre>RandomForestClassifier(random_state=42)</pre><b>In a Jupyter environment, please rerun this cell to show the HTML representation or trust the notebook. <br />On GitHub, the HTML representation is unable to render, please try loading this page with nbviewer.org.</b></div><div class=\"sk-container\" hidden><div class=\"sk-item\"><div class=\"sk-estimator sk-toggleable\"><input class=\"sk-toggleable__control sk-hidden--visually\" id=\"sk-estimator-id-1\" type=\"checkbox\" checked><label for=\"sk-estimator-id-1\" class=\"sk-toggleable__label sk-toggleable__label-arrow\">RandomForestClassifier</label><div class=\"sk-toggleable__content\"><pre>RandomForestClassifier(random_state=42)</pre></div></div></div></div></div>"
      ],
      "text/plain": [
       "RandomForestClassifier(random_state=42)"
      ]
     },
     "execution_count": 4,
     "metadata": {},
     "output_type": "execute_result"
    }
   ],
   "source": [
    "from sklearn.ensemble import RandomForestClassifier\n",
    "\n",
    "model1 = RandomForestClassifier(random_state = 42)\n",
    "model1.fit(X_train, y_train)"
   ]
  },
  {
   "cell_type": "code",
   "execution_count": 5,
   "metadata": {},
   "outputs": [
    {
     "name": "stdout",
     "output_type": "stream",
     "text": [
      "1.0\n",
      "0.7337662337662337\n"
     ]
    }
   ],
   "source": [
    "y_pred_in = model1.predict(X_train)\n",
    "y_pred = model1.predict(X_test)\n",
    "print(accuracy_score(y_train, y_pred_in))\n",
    "print(accuracy_score(y_test, y_pred))"
   ]
  },
  {
   "cell_type": "code",
   "execution_count": 6,
   "metadata": {},
   "outputs": [],
   "source": [
    "grid_param = {\n",
    "    \"n_estimators\": [100, 200],\n",
    "    'max_features': [3,5],\n",
    "    'min_samples_split': [2,5],\n",
    "    'max_depth': [3,5]\n",
    "}"
   ]
  },
  {
   "cell_type": "code",
   "execution_count": 7,
   "metadata": {},
   "outputs": [],
   "source": [
    "rf_model = RandomForestClassifier(random_state = 12345)"
   ]
  },
  {
   "cell_type": "code",
   "execution_count": 8,
   "metadata": {},
   "outputs": [],
   "source": [
    "gd_cv = GridSearchCV(estimator=rf_model, param_grid=grid_param, cv=5, n_jobs=-1, verbose=2)"
   ]
  },
  {
   "cell_type": "code",
   "execution_count": 9,
   "metadata": {},
   "outputs": [
    {
     "name": "stdout",
     "output_type": "stream",
     "text": [
      "Fitting 5 folds for each of 16 candidates, totalling 80 fits\n",
      "[CV] END max_depth=3, max_features=3, min_samples_split=2, n_estimators=100; total time=   0.2s\n",
      "[CV] END max_depth=3, max_features=3, min_samples_split=2, n_estimators=100; total time=   0.2s\n",
      "[CV] END max_depth=3, max_features=3, min_samples_split=2, n_estimators=100; total time=   0.2s\n",
      "[CV] END max_depth=3, max_features=3, min_samples_split=2, n_estimators=100; total time=   0.2s\n",
      "[CV] END max_depth=3, max_features=3, min_samples_split=2, n_estimators=100; total time=   0.2s\n",
      "[CV] END max_depth=3, max_features=3, min_samples_split=2, n_estimators=200; total time=   0.5s\n",
      "[CV] END max_depth=3, max_features=3, min_samples_split=2, n_estimators=200; total time=   0.4s\n"
     ]
    },
    {
     "name": "stdout",
     "output_type": "stream",
     "text": [
      "[CV] END max_depth=3, max_features=3, min_samples_split=2, n_estimators=200; total time=   0.4s\n",
      "[CV] END max_depth=3, max_features=3, min_samples_split=2, n_estimators=200; total time=   0.4s\n",
      "[CV] END max_depth=3, max_features=3, min_samples_split=5, n_estimators=100; total time=   0.2s\n",
      "[CV] END max_depth=3, max_features=3, min_samples_split=2, n_estimators=200; total time=   0.4s\n",
      "[CV] END max_depth=3, max_features=3, min_samples_split=5, n_estimators=100; total time=   0.2s\n",
      "[CV] END max_depth=3, max_features=3, min_samples_split=5, n_estimators=100; total time=   0.2s\n",
      "[CV] END max_depth=3, max_features=3, min_samples_split=5, n_estimators=100; total time=   0.2s\n",
      "[CV] END max_depth=3, max_features=3, min_samples_split=5, n_estimators=100; total time=   0.3s\n",
      "[CV] END max_depth=3, max_features=3, min_samples_split=5, n_estimators=200; total time=   0.4s\n",
      "[CV] END max_depth=3, max_features=3, min_samples_split=5, n_estimators=200; total time=   0.4s\n",
      "[CV] END max_depth=3, max_features=3, min_samples_split=5, n_estimators=200; total time=   0.4s\n",
      "[CV] END max_depth=3, max_features=3, min_samples_split=5, n_estimators=200; total time=   0.4s\n",
      "[CV] END max_depth=3, max_features=5, min_samples_split=2, n_estimators=100; total time=   0.2s\n",
      "[CV] END max_depth=3, max_features=3, min_samples_split=5, n_estimators=200; total time=   0.4s\n",
      "[CV] END max_depth=3, max_features=5, min_samples_split=2, n_estimators=100; total time=   0.2s\n",
      "[CV] END max_depth=3, max_features=5, min_samples_split=2, n_estimators=100; total time=   0.2s\n",
      "[CV] END max_depth=3, max_features=5, min_samples_split=2, n_estimators=100; total time=   0.2s\n",
      "[CV] END max_depth=3, max_features=5, min_samples_split=2, n_estimators=100; total time=   0.2s\n",
      "[CV] END max_depth=3, max_features=5, min_samples_split=2, n_estimators=200; total time=   0.5s\n",
      "[CV] END max_depth=3, max_features=5, min_samples_split=2, n_estimators=200; total time=   0.5s\n",
      "[CV] END max_depth=3, max_features=5, min_samples_split=2, n_estimators=200; total time=   0.5s\n",
      "[CV] END max_depth=3, max_features=5, min_samples_split=2, n_estimators=200; total time=   0.5s\n",
      "[CV] END max_depth=3, max_features=5, min_samples_split=5, n_estimators=100; total time=   0.2s\n",
      "[CV] END max_depth=3, max_features=5, min_samples_split=2, n_estimators=200; total time=   0.4s\n",
      "[CV] END max_depth=3, max_features=5, min_samples_split=5, n_estimators=100; total time=   0.2s\n",
      "[CV] END max_depth=3, max_features=5, min_samples_split=5, n_estimators=100; total time=   0.2s\n",
      "[CV] END max_depth=3, max_features=5, min_samples_split=5, n_estimators=100; total time=   0.2s\n",
      "[CV] END max_depth=3, max_features=5, min_samples_split=5, n_estimators=100; total time=   0.3s\n",
      "[CV] END max_depth=3, max_features=5, min_samples_split=5, n_estimators=200; total time=   0.4s\n",
      "[CV] END max_depth=3, max_features=5, min_samples_split=5, n_estimators=200; total time=   0.4s\n",
      "[CV] END max_depth=3, max_features=5, min_samples_split=5, n_estimators=200; total time=   0.4s\n",
      "[CV] END max_depth=3, max_features=5, min_samples_split=5, n_estimators=200; total time=   0.4s\n",
      "[CV] END max_depth=3, max_features=5, min_samples_split=5, n_estimators=200; total time=   0.4s\n",
      "[CV] END max_depth=5, max_features=3, min_samples_split=2, n_estimators=100; total time=   0.2s\n",
      "[CV] END max_depth=5, max_features=3, min_samples_split=2, n_estimators=100; total time=   0.2s\n",
      "[CV] END max_depth=5, max_features=3, min_samples_split=2, n_estimators=100; total time=   0.2s\n",
      "[CV] END max_depth=5, max_features=3, min_samples_split=2, n_estimators=100; total time=   0.2s\n",
      "[CV] END max_depth=5, max_features=3, min_samples_split=2, n_estimators=100; total time=   0.2s\n",
      "[CV] END max_depth=5, max_features=3, min_samples_split=2, n_estimators=200; total time=   0.4s\n",
      "[CV] END max_depth=5, max_features=3, min_samples_split=2, n_estimators=200; total time=   0.4s\n",
      "[CV] END max_depth=5, max_features=3, min_samples_split=2, n_estimators=200; total time=   0.4s\n",
      "[CV] END max_depth=5, max_features=3, min_samples_split=2, n_estimators=200; total time=   0.4s\n",
      "[CV] END max_depth=5, max_features=3, min_samples_split=5, n_estimators=100; total time=   0.2s\n",
      "[CV] END max_depth=5, max_features=3, min_samples_split=2, n_estimators=200; total time=   0.4s\n",
      "[CV] END max_depth=5, max_features=3, min_samples_split=5, n_estimators=100; total time=   0.2s\n",
      "[CV] END max_depth=5, max_features=3, min_samples_split=5, n_estimators=100; total time=   0.2s\n",
      "[CV] END max_depth=5, max_features=3, min_samples_split=5, n_estimators=100; total time=   0.2s\n",
      "[CV] END max_depth=5, max_features=3, min_samples_split=5, n_estimators=100; total time=   0.2s\n",
      "[CV] END max_depth=5, max_features=3, min_samples_split=5, n_estimators=200; total time=   0.4s\n",
      "[CV] END max_depth=5, max_features=3, min_samples_split=5, n_estimators=200; total time=   0.5s\n",
      "[CV] END max_depth=5, max_features=3, min_samples_split=5, n_estimators=200; total time=   0.4s\n",
      "[CV] END max_depth=5, max_features=3, min_samples_split=5, n_estimators=200; total time=   0.5s\n",
      "[CV] END max_depth=5, max_features=3, min_samples_split=5, n_estimators=200; total time=   0.5s\n",
      "[CV] END max_depth=5, max_features=5, min_samples_split=2, n_estimators=100; total time=   0.3s\n",
      "[CV] END max_depth=5, max_features=5, min_samples_split=2, n_estimators=100; total time=   0.2s\n",
      "[CV] END max_depth=5, max_features=5, min_samples_split=2, n_estimators=100; total time=   0.2s\n",
      "[CV] END max_depth=5, max_features=5, min_samples_split=2, n_estimators=100; total time=   0.2s\n",
      "[CV] END max_depth=5, max_features=5, min_samples_split=2, n_estimators=100; total time=   0.2s\n",
      "[CV] END max_depth=5, max_features=5, min_samples_split=2, n_estimators=200; total time=   0.4s\n",
      "[CV] END max_depth=5, max_features=5, min_samples_split=2, n_estimators=200; total time=   0.5s\n",
      "[CV] END max_depth=5, max_features=5, min_samples_split=2, n_estimators=200; total time=   0.6s\n",
      "[CV] END max_depth=5, max_features=5, min_samples_split=2, n_estimators=200; total time=   0.6s\n",
      "[CV] END max_depth=5, max_features=5, min_samples_split=5, n_estimators=100; total time=   0.2s\n",
      "[CV] END max_depth=5, max_features=5, min_samples_split=2, n_estimators=200; total time=   0.5s\n",
      "[CV] END max_depth=5, max_features=5, min_samples_split=5, n_estimators=100; total time=   0.3s\n",
      "[CV] END max_depth=5, max_features=5, min_samples_split=5, n_estimators=100; total time=   0.2s\n",
      "[CV] END max_depth=5, max_features=5, min_samples_split=5, n_estimators=100; total time=   0.5s\n",
      "[CV] END max_depth=5, max_features=5, min_samples_split=5, n_estimators=100; total time=   0.3s\n",
      "[CV] END max_depth=5, max_features=5, min_samples_split=5, n_estimators=200; total time=   0.5s\n",
      "[CV] END max_depth=5, max_features=5, min_samples_split=5, n_estimators=200; total time=   0.6s\n",
      "[CV] END max_depth=5, max_features=5, min_samples_split=5, n_estimators=200; total time=   0.8s\n",
      "[CV] END max_depth=5, max_features=5, min_samples_split=5, n_estimators=200; total time=   0.7s\n",
      "[CV] END max_depth=5, max_features=5, min_samples_split=5, n_estimators=200; total time=   0.3s\n"
     ]
    },
    {
     "data": {
      "text/html": [
       "<style>#sk-container-id-2 {color: black;}#sk-container-id-2 pre{padding: 0;}#sk-container-id-2 div.sk-toggleable {background-color: white;}#sk-container-id-2 label.sk-toggleable__label {cursor: pointer;display: block;width: 100%;margin-bottom: 0;padding: 0.3em;box-sizing: border-box;text-align: center;}#sk-container-id-2 label.sk-toggleable__label-arrow:before {content: \"▸\";float: left;margin-right: 0.25em;color: #696969;}#sk-container-id-2 label.sk-toggleable__label-arrow:hover:before {color: black;}#sk-container-id-2 div.sk-estimator:hover label.sk-toggleable__label-arrow:before {color: black;}#sk-container-id-2 div.sk-toggleable__content {max-height: 0;max-width: 0;overflow: hidden;text-align: left;background-color: #f0f8ff;}#sk-container-id-2 div.sk-toggleable__content pre {margin: 0.2em;color: black;border-radius: 0.25em;background-color: #f0f8ff;}#sk-container-id-2 input.sk-toggleable__control:checked~div.sk-toggleable__content {max-height: 200px;max-width: 100%;overflow: auto;}#sk-container-id-2 input.sk-toggleable__control:checked~label.sk-toggleable__label-arrow:before {content: \"▾\";}#sk-container-id-2 div.sk-estimator input.sk-toggleable__control:checked~label.sk-toggleable__label {background-color: #d4ebff;}#sk-container-id-2 div.sk-label input.sk-toggleable__control:checked~label.sk-toggleable__label {background-color: #d4ebff;}#sk-container-id-2 input.sk-hidden--visually {border: 0;clip: rect(1px 1px 1px 1px);clip: rect(1px, 1px, 1px, 1px);height: 1px;margin: -1px;overflow: hidden;padding: 0;position: absolute;width: 1px;}#sk-container-id-2 div.sk-estimator {font-family: monospace;background-color: #f0f8ff;border: 1px dotted black;border-radius: 0.25em;box-sizing: border-box;margin-bottom: 0.5em;}#sk-container-id-2 div.sk-estimator:hover {background-color: #d4ebff;}#sk-container-id-2 div.sk-parallel-item::after {content: \"\";width: 100%;border-bottom: 1px solid gray;flex-grow: 1;}#sk-container-id-2 div.sk-label:hover label.sk-toggleable__label {background-color: #d4ebff;}#sk-container-id-2 div.sk-serial::before {content: \"\";position: absolute;border-left: 1px solid gray;box-sizing: border-box;top: 0;bottom: 0;left: 50%;z-index: 0;}#sk-container-id-2 div.sk-serial {display: flex;flex-direction: column;align-items: center;background-color: white;padding-right: 0.2em;padding-left: 0.2em;position: relative;}#sk-container-id-2 div.sk-item {position: relative;z-index: 1;}#sk-container-id-2 div.sk-parallel {display: flex;align-items: stretch;justify-content: center;background-color: white;position: relative;}#sk-container-id-2 div.sk-item::before, #sk-container-id-2 div.sk-parallel-item::before {content: \"\";position: absolute;border-left: 1px solid gray;box-sizing: border-box;top: 0;bottom: 0;left: 50%;z-index: -1;}#sk-container-id-2 div.sk-parallel-item {display: flex;flex-direction: column;z-index: 1;position: relative;background-color: white;}#sk-container-id-2 div.sk-parallel-item:first-child::after {align-self: flex-end;width: 50%;}#sk-container-id-2 div.sk-parallel-item:last-child::after {align-self: flex-start;width: 50%;}#sk-container-id-2 div.sk-parallel-item:only-child::after {width: 0;}#sk-container-id-2 div.sk-dashed-wrapped {border: 1px dashed gray;margin: 0 0.4em 0.5em 0.4em;box-sizing: border-box;padding-bottom: 0.4em;background-color: white;}#sk-container-id-2 div.sk-label label {font-family: monospace;font-weight: bold;display: inline-block;line-height: 1.2em;}#sk-container-id-2 div.sk-label-container {text-align: center;}#sk-container-id-2 div.sk-container {/* jupyter's `normalize.less` sets `[hidden] { display: none; }` but bootstrap.min.css set `[hidden] { display: none !important; }` so we also need the `!important` here to be able to override the default hidden behavior on the sphinx rendered scikit-learn.org. See: https://github.com/scikit-learn/scikit-learn/issues/21755 */display: inline-block !important;position: relative;}#sk-container-id-2 div.sk-text-repr-fallback {display: none;}</style><div id=\"sk-container-id-2\" class=\"sk-top-container\"><div class=\"sk-text-repr-fallback\"><pre>GridSearchCV(cv=5, estimator=RandomForestClassifier(random_state=12345),\n",
       "             n_jobs=-1,\n",
       "             param_grid={&#x27;max_depth&#x27;: [3, 5], &#x27;max_features&#x27;: [3, 5],\n",
       "                         &#x27;min_samples_split&#x27;: [2, 5],\n",
       "                         &#x27;n_estimators&#x27;: [100, 200]},\n",
       "             verbose=2)</pre><b>In a Jupyter environment, please rerun this cell to show the HTML representation or trust the notebook. <br />On GitHub, the HTML representation is unable to render, please try loading this page with nbviewer.org.</b></div><div class=\"sk-container\" hidden><div class=\"sk-item sk-dashed-wrapped\"><div class=\"sk-label-container\"><div class=\"sk-label sk-toggleable\"><input class=\"sk-toggleable__control sk-hidden--visually\" id=\"sk-estimator-id-2\" type=\"checkbox\" ><label for=\"sk-estimator-id-2\" class=\"sk-toggleable__label sk-toggleable__label-arrow\">GridSearchCV</label><div class=\"sk-toggleable__content\"><pre>GridSearchCV(cv=5, estimator=RandomForestClassifier(random_state=12345),\n",
       "             n_jobs=-1,\n",
       "             param_grid={&#x27;max_depth&#x27;: [3, 5], &#x27;max_features&#x27;: [3, 5],\n",
       "                         &#x27;min_samples_split&#x27;: [2, 5],\n",
       "                         &#x27;n_estimators&#x27;: [100, 200]},\n",
       "             verbose=2)</pre></div></div></div><div class=\"sk-parallel\"><div class=\"sk-parallel-item\"><div class=\"sk-item\"><div class=\"sk-label-container\"><div class=\"sk-label sk-toggleable\"><input class=\"sk-toggleable__control sk-hidden--visually\" id=\"sk-estimator-id-3\" type=\"checkbox\" ><label for=\"sk-estimator-id-3\" class=\"sk-toggleable__label sk-toggleable__label-arrow\">estimator: RandomForestClassifier</label><div class=\"sk-toggleable__content\"><pre>RandomForestClassifier(random_state=12345)</pre></div></div></div><div class=\"sk-serial\"><div class=\"sk-item\"><div class=\"sk-estimator sk-toggleable\"><input class=\"sk-toggleable__control sk-hidden--visually\" id=\"sk-estimator-id-4\" type=\"checkbox\" ><label for=\"sk-estimator-id-4\" class=\"sk-toggleable__label sk-toggleable__label-arrow\">RandomForestClassifier</label><div class=\"sk-toggleable__content\"><pre>RandomForestClassifier(random_state=12345)</pre></div></div></div></div></div></div></div></div></div></div>"
      ],
      "text/plain": [
       "GridSearchCV(cv=5, estimator=RandomForestClassifier(random_state=12345),\n",
       "             n_jobs=-1,\n",
       "             param_grid={'max_depth': [3, 5], 'max_features': [3, 5],\n",
       "                         'min_samples_split': [2, 5],\n",
       "                         'n_estimators': [100, 200]},\n",
       "             verbose=2)"
      ]
     },
     "execution_count": 9,
     "metadata": {},
     "output_type": "execute_result"
    }
   ],
   "source": [
    "gd_cv.fit(X_train, y_train)"
   ]
  },
  {
   "cell_type": "code",
   "execution_count": 10,
   "metadata": {},
   "outputs": [
    {
     "data": {
      "text/plain": [
       "{'max_depth': 5,\n",
       " 'max_features': 5,\n",
       " 'min_samples_split': 2,\n",
       " 'n_estimators': 100}"
      ]
     },
     "execution_count": 10,
     "metadata": {},
     "output_type": "execute_result"
    }
   ],
   "source": [
    "gd_cv.best_params_"
   ]
  },
  {
   "cell_type": "code",
   "execution_count": 11,
   "metadata": {},
   "outputs": [],
   "source": [
    "best_gd_rf_model = gd_cv.best_estimator_"
   ]
  },
  {
   "cell_type": "code",
   "execution_count": 12,
   "metadata": {},
   "outputs": [
    {
     "name": "stdout",
     "output_type": "stream",
     "text": [
      "0.8680781758957655\n",
      "0.7532467532467533\n"
     ]
    }
   ],
   "source": [
    "y_pred_in = best_gd_rf_model.predict(X_train)\n",
    "y_pred = best_gd_rf_model.predict(X_test)\n",
    "print(accuracy_score(y_train, y_pred_in))\n",
    "print(accuracy_score(y_test, y_pred))"
   ]
  },
  {
   "cell_type": "code",
   "execution_count": 13,
   "metadata": {},
   "outputs": [
    {
     "name": "stdout",
     "output_type": "stream",
     "text": [
      "Fitting 5 folds for each of 50 candidates, totalling 250 fits\n",
      "[CV] END max_depth=None, max_features=7, min_samples_split=30, n_estimators=200; total time=   0.5s\n",
      "[CV] END max_depth=None, max_features=7, min_samples_split=30, n_estimators=200; total time=   0.6s\n"
     ]
    },
    {
     "name": "stdout",
     "output_type": "stream",
     "text": [
      "[CV] END max_depth=None, max_features=7, min_samples_split=30, n_estimators=200; total time=   0.6s\n",
      "[CV] END max_depth=None, max_features=7, min_samples_split=30, n_estimators=200; total time=   0.6s\n",
      "[CV] END max_depth=None, max_features=7, min_samples_split=30, n_estimators=200; total time=   0.7s\n",
      "[CV] END max_depth=None, max_features=3, min_samples_split=5, n_estimators=500; total time=   1.2s\n",
      "[CV] END max_depth=None, max_features=3, min_samples_split=5, n_estimators=500; total time=   1.2s\n",
      "[CV] END max_depth=None, max_features=3, min_samples_split=5, n_estimators=500; total time=   1.1s\n",
      "[CV] END max_depth=None, max_features=3, min_samples_split=5, n_estimators=500; total time=   1.2s\n",
      "[CV] END max_depth=None, max_features=3, min_samples_split=5, n_estimators=500; total time=   1.1s\n",
      "[CV] END max_depth=8, max_features=7, min_samples_split=10, n_estimators=1000; total time=   2.9s\n",
      "[CV] END max_depth=8, max_features=7, min_samples_split=10, n_estimators=1000; total time=   3.3s\n",
      "[CV] END max_depth=8, max_features=7, min_samples_split=10, n_estimators=1000; total time=   3.5s\n",
      "[CV] END max_depth=8, max_features=7, min_samples_split=10, n_estimators=1000; total time=   3.4s\n",
      "[CV] END max_depth=5, max_features=3, min_samples_split=10, n_estimators=100; total time=   0.2s\n",
      "[CV] END max_depth=5, max_features=3, min_samples_split=10, n_estimators=100; total time=   0.2s\n",
      "[CV] END max_depth=5, max_features=3, min_samples_split=10, n_estimators=100; total time=   0.2s\n",
      "[CV] END max_depth=5, max_features=3, min_samples_split=10, n_estimators=100; total time=   0.2s\n",
      "[CV] END max_depth=5, max_features=3, min_samples_split=10, n_estimators=100; total time=   0.2s\n",
      "[CV] END max_depth=8, max_features=3, min_samples_split=30, n_estimators=100; total time=   0.2s\n",
      "[CV] END max_depth=8, max_features=3, min_samples_split=30, n_estimators=100; total time=   0.2s\n",
      "[CV] END max_depth=8, max_features=3, min_samples_split=30, n_estimators=100; total time=   0.2s\n",
      "[CV] END max_depth=8, max_features=3, min_samples_split=30, n_estimators=100; total time=   0.2s\n",
      "[CV] END max_depth=8, max_features=3, min_samples_split=30, n_estimators=100; total time=   0.2s\n",
      "[CV] END max_depth=8, max_features=7, min_samples_split=10, n_estimators=1000; total time=   3.0s\n",
      "[CV] END max_depth=8, max_features=3, min_samples_split=10, n_estimators=1000; total time=   2.2s\n",
      "[CV] END max_depth=8, max_features=3, min_samples_split=10, n_estimators=1000; total time=   2.2s\n",
      "[CV] END max_depth=8, max_features=3, min_samples_split=10, n_estimators=1000; total time=   2.2s\n",
      "[CV] END max_depth=8, max_features=3, min_samples_split=10, n_estimators=1000; total time=   2.3s\n",
      "[CV] END max_depth=8, max_features=3, min_samples_split=10, n_estimators=1000; total time=   2.1s\n",
      "[CV] END max_depth=5, max_features=7, min_samples_split=30, n_estimators=1000; total time=   2.3s\n",
      "[CV] END max_depth=5, max_features=7, min_samples_split=30, n_estimators=1000; total time=   2.4s\n",
      "[CV] END max_depth=5, max_features=7, min_samples_split=30, n_estimators=1000; total time=   2.6s\n",
      "[CV] END max_depth=5, max_features=7, min_samples_split=30, n_estimators=1000; total time=   2.3s\n",
      "[CV] END max_depth=5, max_features=7, min_samples_split=30, n_estimators=1000; total time=   2.4s\n",
      "[CV] END max_depth=3, max_features=3, min_samples_split=10, n_estimators=500; total time=   0.9s\n",
      "[CV] END max_depth=3, max_features=3, min_samples_split=10, n_estimators=500; total time=   1.0s\n",
      "[CV] END max_depth=3, max_features=3, min_samples_split=10, n_estimators=500; total time=   0.9s\n",
      "[CV] END max_depth=3, max_features=3, min_samples_split=10, n_estimators=500; total time=   1.0s\n",
      "[CV] END max_depth=3, max_features=3, min_samples_split=10, n_estimators=500; total time=   1.0s\n",
      "[CV] END max_depth=8, max_features=3, min_samples_split=30, n_estimators=500; total time=   1.1s\n",
      "[CV] END max_depth=8, max_features=3, min_samples_split=30, n_estimators=500; total time=   1.2s\n",
      "[CV] END max_depth=8, max_features=3, min_samples_split=30, n_estimators=500; total time=   1.0s\n",
      "[CV] END max_depth=8, max_features=3, min_samples_split=30, n_estimators=500; total time=   1.0s\n",
      "[CV] END max_depth=8, max_features=7, min_samples_split=30, n_estimators=100; total time=   0.3s\n",
      "[CV] END max_depth=8, max_features=7, min_samples_split=30, n_estimators=100; total time=   0.3s\n",
      "[CV] END max_depth=8, max_features=7, min_samples_split=30, n_estimators=100; total time=   0.2s\n",
      "[CV] END max_depth=8, max_features=3, min_samples_split=30, n_estimators=500; total time=   1.1s\n",
      "[CV] END max_depth=8, max_features=7, min_samples_split=30, n_estimators=100; total time=   0.2s\n",
      "[CV] END max_depth=8, max_features=7, min_samples_split=30, n_estimators=100; total time=   0.3s\n",
      "[CV] END max_depth=5, max_features=7, min_samples_split=30, n_estimators=200; total time=   0.5s\n",
      "[CV] END max_depth=5, max_features=7, min_samples_split=30, n_estimators=200; total time=   0.5s\n",
      "[CV] END max_depth=5, max_features=7, min_samples_split=30, n_estimators=200; total time=   0.5s\n",
      "[CV] END max_depth=5, max_features=7, min_samples_split=30, n_estimators=200; total time=   0.5s\n",
      "[CV] END max_depth=5, max_features=7, min_samples_split=30, n_estimators=200; total time=   0.4s\n",
      "[CV] END max_depth=8, max_features=7, min_samples_split=10, n_estimators=500; total time=   1.5s\n",
      "[CV] END max_depth=8, max_features=7, min_samples_split=10, n_estimators=500; total time=   1.5s\n",
      "[CV] END max_depth=8, max_features=7, min_samples_split=10, n_estimators=500; total time=   1.3s\n",
      "[CV] END max_depth=8, max_features=7, min_samples_split=10, n_estimators=500; total time=   1.4s\n",
      "[CV] END max_depth=8, max_features=7, min_samples_split=10, n_estimators=500; total time=   1.4s\n",
      "[CV] END max_depth=8, max_features=3, min_samples_split=10, n_estimators=500; total time=   1.1s\n",
      "[CV] END max_depth=8, max_features=3, min_samples_split=10, n_estimators=500; total time=   1.1s\n",
      "[CV] END max_depth=8, max_features=3, min_samples_split=10, n_estimators=500; total time=   1.1s\n",
      "[CV] END max_depth=8, max_features=3, min_samples_split=10, n_estimators=500; total time=   1.1s\n",
      "[CV] END max_depth=8, max_features=3, min_samples_split=10, n_estimators=500; total time=   1.2s\n",
      "[CV] END max_depth=3, max_features=5, min_samples_split=10, n_estimators=1000; total time=   2.1s\n",
      "[CV] END max_depth=3, max_features=5, min_samples_split=10, n_estimators=1000; total time=   2.1s\n",
      "[CV] END max_depth=3, max_features=5, min_samples_split=10, n_estimators=1000; total time=   2.1s\n",
      "[CV] END max_depth=3, max_features=5, min_samples_split=10, n_estimators=1000; total time=   2.1s\n",
      "[CV] END max_depth=None, max_features=5, min_samples_split=2, n_estimators=100; total time=   0.3s\n",
      "[CV] END max_depth=None, max_features=5, min_samples_split=2, n_estimators=100; total time=   0.3s\n",
      "[CV] END max_depth=None, max_features=5, min_samples_split=2, n_estimators=100; total time=   0.4s\n",
      "[CV] END max_depth=None, max_features=5, min_samples_split=2, n_estimators=100; total time=   0.2s\n",
      "[CV] END max_depth=None, max_features=5, min_samples_split=2, n_estimators=100; total time=   0.2s\n",
      "[CV] END max_depth=3, max_features=5, min_samples_split=10, n_estimators=1000; total time=   2.2s\n",
      "[CV] END max_depth=8, max_features=5, min_samples_split=5, n_estimators=1000; total time=   2.5s\n",
      "[CV] END max_depth=8, max_features=5, min_samples_split=5, n_estimators=1000; total time=   2.4s\n",
      "[CV] END max_depth=8, max_features=5, min_samples_split=5, n_estimators=1000; total time=   2.6s\n",
      "[CV] END max_depth=8, max_features=5, min_samples_split=5, n_estimators=1000; total time=   2.5s\n",
      "[CV] END max_depth=3, max_features=7, min_samples_split=10, n_estimators=200; total time=   0.4s\n",
      "[CV] END max_depth=3, max_features=7, min_samples_split=10, n_estimators=200; total time=   0.5s\n",
      "[CV] END max_depth=3, max_features=7, min_samples_split=10, n_estimators=200; total time=   0.4s\n",
      "[CV] END max_depth=3, max_features=7, min_samples_split=10, n_estimators=200; total time=   0.4s\n",
      "[CV] END max_depth=3, max_features=7, min_samples_split=10, n_estimators=200; total time=   0.4s\n",
      "[CV] END max_depth=8, max_features=5, min_samples_split=5, n_estimators=1000; total time=   2.4s\n",
      "[CV] END max_depth=None, max_features=3, min_samples_split=10, n_estimators=1000; total time=   2.2s\n",
      "[CV] END max_depth=None, max_features=3, min_samples_split=10, n_estimators=1000; total time=   2.3s\n",
      "[CV] END max_depth=None, max_features=3, min_samples_split=10, n_estimators=1000; total time=   2.2s\n",
      "[CV] END max_depth=None, max_features=3, min_samples_split=10, n_estimators=1000; total time=   2.3s\n",
      "[CV] END max_depth=8, max_features=7, min_samples_split=30, n_estimators=500; total time=   1.4s\n",
      "[CV] END max_depth=None, max_features=3, min_samples_split=10, n_estimators=1000; total time=   2.7s\n",
      "[CV] END max_depth=8, max_features=7, min_samples_split=30, n_estimators=500; total time=   2.0s\n",
      "[CV] END max_depth=8, max_features=7, min_samples_split=30, n_estimators=500; total time=   1.4s\n",
      "[CV] END max_depth=8, max_features=7, min_samples_split=30, n_estimators=500; total time=   1.2s\n",
      "[CV] END max_depth=8, max_features=7, min_samples_split=30, n_estimators=500; total time=   1.4s\n",
      "[CV] END max_depth=8, max_features=5, min_samples_split=5, n_estimators=200; total time=   0.7s\n",
      "[CV] END max_depth=8, max_features=5, min_samples_split=5, n_estimators=200; total time=   0.5s\n",
      "[CV] END max_depth=8, max_features=5, min_samples_split=5, n_estimators=200; total time=   0.5s\n",
      "[CV] END max_depth=8, max_features=5, min_samples_split=5, n_estimators=200; total time=   0.5s\n",
      "[CV] END max_depth=8, max_features=5, min_samples_split=5, n_estimators=200; total time=   0.5s\n",
      "[CV] END max_depth=8, max_features=3, min_samples_split=5, n_estimators=1000; total time=   2.4s\n",
      "[CV] END max_depth=8, max_features=3, min_samples_split=5, n_estimators=1000; total time=   2.4s\n",
      "[CV] END max_depth=8, max_features=3, min_samples_split=5, n_estimators=1000; total time=   2.2s\n",
      "[CV] END max_depth=8, max_features=3, min_samples_split=5, n_estimators=1000; total time=   2.3s\n",
      "[CV] END max_depth=5, max_features=3, min_samples_split=2, n_estimators=500; total time=   1.1s\n",
      "[CV] END max_depth=5, max_features=3, min_samples_split=2, n_estimators=500; total time=   1.4s\n",
      "[CV] END max_depth=8, max_features=3, min_samples_split=5, n_estimators=1000; total time=   2.9s\n",
      "[CV] END max_depth=5, max_features=3, min_samples_split=2, n_estimators=500; total time=   1.8s\n",
      "[CV] END max_depth=5, max_features=3, min_samples_split=2, n_estimators=500; total time=   2.0s\n",
      "[CV] END max_depth=5, max_features=3, min_samples_split=2, n_estimators=500; total time=   1.4s\n",
      "[CV] END max_depth=None, max_features=7, min_samples_split=5, n_estimators=1000; total time=   6.2s\n",
      "[CV] END max_depth=None, max_features=7, min_samples_split=5, n_estimators=1000; total time=   5.6s\n",
      "[CV] END max_depth=None, max_features=7, min_samples_split=5, n_estimators=1000; total time=   3.3s\n",
      "[CV] END max_depth=None, max_features=7, min_samples_split=5, n_estimators=1000; total time=   3.0s\n",
      "[CV] END max_depth=None, max_features=7, min_samples_split=30, n_estimators=100; total time=   0.3s\n",
      "[CV] END max_depth=None, max_features=7, min_samples_split=30, n_estimators=100; total time=   0.3s\n",
      "[CV] END max_depth=None, max_features=7, min_samples_split=30, n_estimators=100; total time=   0.3s\n",
      "[CV] END max_depth=None, max_features=7, min_samples_split=30, n_estimators=100; total time=   0.2s\n",
      "[CV] END max_depth=None, max_features=7, min_samples_split=30, n_estimators=100; total time=   0.2s\n",
      "[CV] END max_depth=None, max_features=7, min_samples_split=5, n_estimators=1000; total time=   2.8s\n",
      "[CV] END max_depth=3, max_features=7, min_samples_split=30, n_estimators=1000; total time=   2.2s\n",
      "[CV] END max_depth=3, max_features=7, min_samples_split=30, n_estimators=1000; total time=   2.3s\n",
      "[CV] END max_depth=3, max_features=7, min_samples_split=30, n_estimators=1000; total time=   3.0s\n",
      "[CV] END max_depth=3, max_features=7, min_samples_split=30, n_estimators=1000; total time=   3.7s\n",
      "[CV] END max_depth=3, max_features=7, min_samples_split=30, n_estimators=1000; total time=   2.6s\n",
      "[CV] END max_depth=5, max_features=3, min_samples_split=5, n_estimators=1000; total time=   2.2s\n",
      "[CV] END max_depth=5, max_features=3, min_samples_split=5, n_estimators=1000; total time=   2.1s\n",
      "[CV] END max_depth=5, max_features=3, min_samples_split=5, n_estimators=1000; total time=   2.1s\n",
      "[CV] END max_depth=5, max_features=3, min_samples_split=5, n_estimators=1000; total time=   2.2s\n",
      "[CV] END max_depth=5, max_features=3, min_samples_split=5, n_estimators=1000; total time=   2.1s\n",
      "[CV] END max_depth=3, max_features=7, min_samples_split=5, n_estimators=1000; total time=   2.3s\n",
      "[CV] END max_depth=3, max_features=7, min_samples_split=5, n_estimators=1000; total time=   2.3s\n",
      "[CV] END max_depth=3, max_features=7, min_samples_split=5, n_estimators=1000; total time=   2.1s\n",
      "[CV] END max_depth=3, max_features=7, min_samples_split=5, n_estimators=1000; total time=   2.2s\n",
      "[CV] END max_depth=None, max_features=7, min_samples_split=5, n_estimators=200; total time=   0.6s\n",
      "[CV] END max_depth=3, max_features=7, min_samples_split=5, n_estimators=1000; total time=   2.3s\n",
      "[CV] END max_depth=None, max_features=7, min_samples_split=5, n_estimators=200; total time=   0.6s\n",
      "[CV] END max_depth=None, max_features=7, min_samples_split=5, n_estimators=200; total time=   0.6s\n",
      "[CV] END max_depth=None, max_features=7, min_samples_split=5, n_estimators=200; total time=   0.7s\n",
      "[CV] END max_depth=None, max_features=7, min_samples_split=5, n_estimators=200; total time=   0.7s\n",
      "[CV] END max_depth=8, max_features=7, min_samples_split=5, n_estimators=1000; total time=   2.9s\n",
      "[CV] END max_depth=8, max_features=7, min_samples_split=5, n_estimators=1000; total time=   2.9s\n",
      "[CV] END max_depth=8, max_features=7, min_samples_split=5, n_estimators=1000; total time=   2.9s\n",
      "[CV] END max_depth=8, max_features=7, min_samples_split=5, n_estimators=1000; total time=   2.8s\n",
      "[CV] END max_depth=None, max_features=7, min_samples_split=2, n_estimators=200; total time=   0.6s\n",
      "[CV] END max_depth=None, max_features=7, min_samples_split=2, n_estimators=200; total time=   0.5s\n",
      "[CV] END max_depth=None, max_features=7, min_samples_split=2, n_estimators=200; total time=   0.7s\n",
      "[CV] END max_depth=8, max_features=7, min_samples_split=5, n_estimators=1000; total time=   2.8s\n",
      "[CV] END max_depth=None, max_features=7, min_samples_split=2, n_estimators=200; total time=   0.6s\n",
      "[CV] END max_depth=3, max_features=3, min_samples_split=30, n_estimators=200; total time=   0.4s\n",
      "[CV] END max_depth=None, max_features=7, min_samples_split=2, n_estimators=200; total time=   0.6s\n",
      "[CV] END max_depth=3, max_features=3, min_samples_split=30, n_estimators=200; total time=   0.4s\n",
      "[CV] END max_depth=3, max_features=3, min_samples_split=30, n_estimators=200; total time=   0.4s\n",
      "[CV] END max_depth=3, max_features=3, min_samples_split=30, n_estimators=200; total time=   0.4s\n",
      "[CV] END max_depth=3, max_features=3, min_samples_split=30, n_estimators=200; total time=   0.4s\n",
      "[CV] END max_depth=None, max_features=7, min_samples_split=30, n_estimators=500; total time=   1.4s\n",
      "[CV] END max_depth=None, max_features=7, min_samples_split=30, n_estimators=500; total time=   1.5s\n",
      "[CV] END max_depth=None, max_features=7, min_samples_split=30, n_estimators=500; total time=   1.2s\n",
      "[CV] END max_depth=None, max_features=7, min_samples_split=30, n_estimators=500; total time=   1.3s\n",
      "[CV] END max_depth=8, max_features=5, min_samples_split=2, n_estimators=100; total time=   0.3s\n",
      "[CV] END max_depth=8, max_features=5, min_samples_split=2, n_estimators=100; total time=   0.3s\n",
      "[CV] END max_depth=8, max_features=5, min_samples_split=2, n_estimators=100; total time=   0.3s\n",
      "[CV] END max_depth=8, max_features=5, min_samples_split=2, n_estimators=100; total time=   0.3s\n",
      "[CV] END max_depth=None, max_features=7, min_samples_split=30, n_estimators=500; total time=   1.4s\n",
      "[CV] END max_depth=8, max_features=5, min_samples_split=2, n_estimators=100; total time=   0.2s\n",
      "[CV] END max_depth=8, max_features=5, min_samples_split=10, n_estimators=1000; total time=   2.7s\n",
      "[CV] END max_depth=8, max_features=5, min_samples_split=10, n_estimators=1000; total time=   2.8s\n",
      "[CV] END max_depth=8, max_features=5, min_samples_split=10, n_estimators=1000; total time=   3.1s\n",
      "[CV] END max_depth=8, max_features=5, min_samples_split=10, n_estimators=1000; total time=   2.8s\n",
      "[CV] END max_depth=5, max_features=3, min_samples_split=5, n_estimators=200; total time=   0.5s\n",
      "[CV] END max_depth=5, max_features=3, min_samples_split=5, n_estimators=200; total time=   0.5s\n",
      "[CV] END max_depth=5, max_features=3, min_samples_split=5, n_estimators=200; total time=   0.6s\n",
      "[CV] END max_depth=5, max_features=3, min_samples_split=5, n_estimators=200; total time=   0.5s\n",
      "[CV] END max_depth=5, max_features=3, min_samples_split=5, n_estimators=200; total time=   0.4s\n",
      "[CV] END max_depth=8, max_features=5, min_samples_split=10, n_estimators=1000; total time=   2.8s\n",
      "[CV] END max_depth=3, max_features=7, min_samples_split=2, n_estimators=500; total time=   1.2s\n",
      "[CV] END max_depth=3, max_features=7, min_samples_split=2, n_estimators=500; total time=   1.6s\n",
      "[CV] END max_depth=3, max_features=7, min_samples_split=2, n_estimators=500; total time=   1.5s\n",
      "[CV] END max_depth=3, max_features=7, min_samples_split=2, n_estimators=500; total time=   1.1s\n",
      "[CV] END max_depth=3, max_features=7, min_samples_split=2, n_estimators=500; total time=   1.1s\n",
      "[CV] END max_depth=3, max_features=5, min_samples_split=10, n_estimators=500; total time=   1.0s\n",
      "[CV] END max_depth=3, max_features=5, min_samples_split=10, n_estimators=500; total time=   1.2s\n",
      "[CV] END max_depth=3, max_features=5, min_samples_split=10, n_estimators=500; total time=   1.1s\n",
      "[CV] END max_depth=3, max_features=5, min_samples_split=10, n_estimators=500; total time=   1.0s\n",
      "[CV] END max_depth=3, max_features=5, min_samples_split=10, n_estimators=500; total time=   1.1s\n",
      "[CV] END max_depth=5, max_features=7, min_samples_split=30, n_estimators=500; total time=   1.3s\n",
      "[CV] END max_depth=5, max_features=7, min_samples_split=30, n_estimators=500; total time=   1.3s\n",
      "[CV] END max_depth=5, max_features=7, min_samples_split=30, n_estimators=500; total time=   1.3s\n",
      "[CV] END max_depth=5, max_features=7, min_samples_split=30, n_estimators=500; total time=   1.2s\n",
      "[CV] END max_depth=8, max_features=7, min_samples_split=30, n_estimators=200; total time=   0.5s\n",
      "[CV] END max_depth=5, max_features=7, min_samples_split=30, n_estimators=500; total time=   1.3s\n",
      "[CV] END max_depth=8, max_features=7, min_samples_split=30, n_estimators=200; total time=   0.6s\n",
      "[CV] END max_depth=8, max_features=7, min_samples_split=30, n_estimators=200; total time=   0.5s\n",
      "[CV] END max_depth=8, max_features=7, min_samples_split=30, n_estimators=200; total time=   0.7s\n",
      "[CV] END max_depth=8, max_features=7, min_samples_split=30, n_estimators=200; total time=   0.5s\n",
      "[CV] END max_depth=None, max_features=5, min_samples_split=2, n_estimators=200; total time=   0.5s\n",
      "[CV] END max_depth=None, max_features=5, min_samples_split=2, n_estimators=200; total time=   0.5s\n",
      "[CV] END max_depth=None, max_features=5, min_samples_split=2, n_estimators=200; total time=   0.6s\n",
      "[CV] END max_depth=None, max_features=5, min_samples_split=2, n_estimators=200; total time=   0.5s\n",
      "[CV] END max_depth=None, max_features=5, min_samples_split=2, n_estimators=200; total time=   0.6s\n",
      "[CV] END max_depth=None, max_features=5, min_samples_split=30, n_estimators=500; total time=   1.2s\n",
      "[CV] END max_depth=None, max_features=5, min_samples_split=30, n_estimators=500; total time=   1.3s\n",
      "[CV] END max_depth=None, max_features=5, min_samples_split=30, n_estimators=500; total time=   1.1s\n",
      "[CV] END max_depth=None, max_features=5, min_samples_split=30, n_estimators=500; total time=   1.1s\n",
      "[CV] END max_depth=8, max_features=7, min_samples_split=5, n_estimators=100; total time=   0.3s\n",
      "[CV] END max_depth=8, max_features=7, min_samples_split=5, n_estimators=100; total time=   0.4s\n",
      "[CV] END max_depth=8, max_features=7, min_samples_split=5, n_estimators=100; total time=   0.3s\n",
      "[CV] END max_depth=None, max_features=5, min_samples_split=30, n_estimators=500; total time=   1.2s\n",
      "[CV] END max_depth=8, max_features=7, min_samples_split=5, n_estimators=100; total time=   0.3s\n",
      "[CV] END max_depth=8, max_features=7, min_samples_split=5, n_estimators=100; total time=   0.3s\n",
      "[CV] END max_depth=3, max_features=3, min_samples_split=5, n_estimators=500; total time=   1.0s\n",
      "[CV] END max_depth=3, max_features=3, min_samples_split=5, n_estimators=500; total time=   0.9s\n",
      "[CV] END max_depth=3, max_features=3, min_samples_split=5, n_estimators=500; total time=   0.9s\n",
      "[CV] END max_depth=3, max_features=3, min_samples_split=5, n_estimators=500; total time=   1.0s\n",
      "[CV] END max_depth=8, max_features=5, min_samples_split=30, n_estimators=200; total time=   0.5s\n",
      "[CV] END max_depth=3, max_features=3, min_samples_split=5, n_estimators=500; total time=   0.9s\n",
      "[CV] END max_depth=8, max_features=5, min_samples_split=30, n_estimators=200; total time=   0.5s\n",
      "[CV] END max_depth=8, max_features=5, min_samples_split=30, n_estimators=200; total time=   0.4s\n",
      "[CV] END max_depth=8, max_features=5, min_samples_split=30, n_estimators=200; total time=   0.5s\n",
      "[CV] END max_depth=8, max_features=5, min_samples_split=30, n_estimators=200; total time=   0.4s\n",
      "[CV] END max_depth=8, max_features=7, min_samples_split=5, n_estimators=500; total time=   1.5s\n",
      "[CV] END max_depth=8, max_features=7, min_samples_split=5, n_estimators=500; total time=   1.5s\n",
      "[CV] END max_depth=8, max_features=7, min_samples_split=5, n_estimators=500; total time=   1.5s\n",
      "[CV] END max_depth=8, max_features=7, min_samples_split=5, n_estimators=500; total time=   1.4s\n",
      "[CV] END max_depth=8, max_features=5, min_samples_split=5, n_estimators=500; total time=   1.3s\n",
      "[CV] END max_depth=8, max_features=7, min_samples_split=5, n_estimators=500; total time=   1.6s\n",
      "[CV] END max_depth=8, max_features=5, min_samples_split=5, n_estimators=500; total time=   1.3s\n",
      "[CV] END max_depth=8, max_features=5, min_samples_split=5, n_estimators=500; total time=   1.2s\n",
      "[CV] END max_depth=8, max_features=5, min_samples_split=5, n_estimators=500; total time=   1.5s\n",
      "[CV] END max_depth=8, max_features=5, min_samples_split=5, n_estimators=500; total time=   1.4s\n",
      "[CV] END max_depth=5, max_features=5, min_samples_split=30, n_estimators=100; total time=   0.2s\n",
      "[CV] END max_depth=5, max_features=5, min_samples_split=30, n_estimators=100; total time=   0.3s\n",
      "[CV] END max_depth=5, max_features=5, min_samples_split=30, n_estimators=100; total time=   0.3s\n",
      "[CV] END max_depth=5, max_features=5, min_samples_split=30, n_estimators=100; total time=   0.2s\n",
      "[CV] END max_depth=5, max_features=5, min_samples_split=30, n_estimators=100; total time=   0.2s\n",
      "[CV] END max_depth=3, max_features=5, min_samples_split=5, n_estimators=100; total time=   0.2s\n",
      "[CV] END max_depth=3, max_features=5, min_samples_split=5, n_estimators=100; total time=   0.2s\n",
      "[CV] END max_depth=3, max_features=5, min_samples_split=5, n_estimators=100; total time=   0.2s\n",
      "[CV] END max_depth=3, max_features=5, min_samples_split=5, n_estimators=100; total time=   0.2s\n",
      "[CV] END max_depth=3, max_features=5, min_samples_split=5, n_estimators=100; total time=   0.2s\n",
      "[CV] END max_depth=8, max_features=5, min_samples_split=30, n_estimators=1000; total time=   2.3s\n",
      "[CV] END max_depth=8, max_features=5, min_samples_split=30, n_estimators=1000; total time=   2.4s\n",
      "[CV] END max_depth=8, max_features=5, min_samples_split=30, n_estimators=1000; total time=   2.4s\n",
      "[CV] END max_depth=8, max_features=5, min_samples_split=30, n_estimators=1000; total time=   2.5s\n",
      "[CV] END max_depth=5, max_features=5, min_samples_split=2, n_estimators=1000; total time=   2.3s\n",
      "[CV] END max_depth=8, max_features=5, min_samples_split=30, n_estimators=1000; total time=   2.4s\n",
      "[CV] END max_depth=5, max_features=5, min_samples_split=2, n_estimators=1000; total time=   2.5s\n",
      "[CV] END max_depth=5, max_features=5, min_samples_split=2, n_estimators=1000; total time=   2.5s\n",
      "[CV] END max_depth=5, max_features=5, min_samples_split=2, n_estimators=1000; total time=   2.3s\n",
      "[CV] END max_depth=5, max_features=5, min_samples_split=2, n_estimators=1000; total time=   2.3s\n"
     ]
    },
    {
     "data": {
      "text/html": [
       "<style>#sk-container-id-3 {color: black;}#sk-container-id-3 pre{padding: 0;}#sk-container-id-3 div.sk-toggleable {background-color: white;}#sk-container-id-3 label.sk-toggleable__label {cursor: pointer;display: block;width: 100%;margin-bottom: 0;padding: 0.3em;box-sizing: border-box;text-align: center;}#sk-container-id-3 label.sk-toggleable__label-arrow:before {content: \"▸\";float: left;margin-right: 0.25em;color: #696969;}#sk-container-id-3 label.sk-toggleable__label-arrow:hover:before {color: black;}#sk-container-id-3 div.sk-estimator:hover label.sk-toggleable__label-arrow:before {color: black;}#sk-container-id-3 div.sk-toggleable__content {max-height: 0;max-width: 0;overflow: hidden;text-align: left;background-color: #f0f8ff;}#sk-container-id-3 div.sk-toggleable__content pre {margin: 0.2em;color: black;border-radius: 0.25em;background-color: #f0f8ff;}#sk-container-id-3 input.sk-toggleable__control:checked~div.sk-toggleable__content {max-height: 200px;max-width: 100%;overflow: auto;}#sk-container-id-3 input.sk-toggleable__control:checked~label.sk-toggleable__label-arrow:before {content: \"▾\";}#sk-container-id-3 div.sk-estimator input.sk-toggleable__control:checked~label.sk-toggleable__label {background-color: #d4ebff;}#sk-container-id-3 div.sk-label input.sk-toggleable__control:checked~label.sk-toggleable__label {background-color: #d4ebff;}#sk-container-id-3 input.sk-hidden--visually {border: 0;clip: rect(1px 1px 1px 1px);clip: rect(1px, 1px, 1px, 1px);height: 1px;margin: -1px;overflow: hidden;padding: 0;position: absolute;width: 1px;}#sk-container-id-3 div.sk-estimator {font-family: monospace;background-color: #f0f8ff;border: 1px dotted black;border-radius: 0.25em;box-sizing: border-box;margin-bottom: 0.5em;}#sk-container-id-3 div.sk-estimator:hover {background-color: #d4ebff;}#sk-container-id-3 div.sk-parallel-item::after {content: \"\";width: 100%;border-bottom: 1px solid gray;flex-grow: 1;}#sk-container-id-3 div.sk-label:hover label.sk-toggleable__label {background-color: #d4ebff;}#sk-container-id-3 div.sk-serial::before {content: \"\";position: absolute;border-left: 1px solid gray;box-sizing: border-box;top: 0;bottom: 0;left: 50%;z-index: 0;}#sk-container-id-3 div.sk-serial {display: flex;flex-direction: column;align-items: center;background-color: white;padding-right: 0.2em;padding-left: 0.2em;position: relative;}#sk-container-id-3 div.sk-item {position: relative;z-index: 1;}#sk-container-id-3 div.sk-parallel {display: flex;align-items: stretch;justify-content: center;background-color: white;position: relative;}#sk-container-id-3 div.sk-item::before, #sk-container-id-3 div.sk-parallel-item::before {content: \"\";position: absolute;border-left: 1px solid gray;box-sizing: border-box;top: 0;bottom: 0;left: 50%;z-index: -1;}#sk-container-id-3 div.sk-parallel-item {display: flex;flex-direction: column;z-index: 1;position: relative;background-color: white;}#sk-container-id-3 div.sk-parallel-item:first-child::after {align-self: flex-end;width: 50%;}#sk-container-id-3 div.sk-parallel-item:last-child::after {align-self: flex-start;width: 50%;}#sk-container-id-3 div.sk-parallel-item:only-child::after {width: 0;}#sk-container-id-3 div.sk-dashed-wrapped {border: 1px dashed gray;margin: 0 0.4em 0.5em 0.4em;box-sizing: border-box;padding-bottom: 0.4em;background-color: white;}#sk-container-id-3 div.sk-label label {font-family: monospace;font-weight: bold;display: inline-block;line-height: 1.2em;}#sk-container-id-3 div.sk-label-container {text-align: center;}#sk-container-id-3 div.sk-container {/* jupyter's `normalize.less` sets `[hidden] { display: none; }` but bootstrap.min.css set `[hidden] { display: none !important; }` so we also need the `!important` here to be able to override the default hidden behavior on the sphinx rendered scikit-learn.org. See: https://github.com/scikit-learn/scikit-learn/issues/21755 */display: inline-block !important;position: relative;}#sk-container-id-3 div.sk-text-repr-fallback {display: none;}</style><div id=\"sk-container-id-3\" class=\"sk-top-container\"><div class=\"sk-text-repr-fallback\"><pre>RandomizedSearchCV(cv=5, estimator=RandomForestClassifier(random_state=12345),\n",
       "                   n_iter=50, n_jobs=-1,\n",
       "                   param_distributions={&#x27;max_depth&#x27;: [3, 5, 8, None],\n",
       "                                        &#x27;max_features&#x27;: [3, 5, 7],\n",
       "                                        &#x27;min_samples_split&#x27;: [2, 5, 10, 30],\n",
       "                                        &#x27;n_estimators&#x27;: [100, 200, 500, 1000]},\n",
       "                   verbose=2)</pre><b>In a Jupyter environment, please rerun this cell to show the HTML representation or trust the notebook. <br />On GitHub, the HTML representation is unable to render, please try loading this page with nbviewer.org.</b></div><div class=\"sk-container\" hidden><div class=\"sk-item sk-dashed-wrapped\"><div class=\"sk-label-container\"><div class=\"sk-label sk-toggleable\"><input class=\"sk-toggleable__control sk-hidden--visually\" id=\"sk-estimator-id-5\" type=\"checkbox\" ><label for=\"sk-estimator-id-5\" class=\"sk-toggleable__label sk-toggleable__label-arrow\">RandomizedSearchCV</label><div class=\"sk-toggleable__content\"><pre>RandomizedSearchCV(cv=5, estimator=RandomForestClassifier(random_state=12345),\n",
       "                   n_iter=50, n_jobs=-1,\n",
       "                   param_distributions={&#x27;max_depth&#x27;: [3, 5, 8, None],\n",
       "                                        &#x27;max_features&#x27;: [3, 5, 7],\n",
       "                                        &#x27;min_samples_split&#x27;: [2, 5, 10, 30],\n",
       "                                        &#x27;n_estimators&#x27;: [100, 200, 500, 1000]},\n",
       "                   verbose=2)</pre></div></div></div><div class=\"sk-parallel\"><div class=\"sk-parallel-item\"><div class=\"sk-item\"><div class=\"sk-label-container\"><div class=\"sk-label sk-toggleable\"><input class=\"sk-toggleable__control sk-hidden--visually\" id=\"sk-estimator-id-6\" type=\"checkbox\" ><label for=\"sk-estimator-id-6\" class=\"sk-toggleable__label sk-toggleable__label-arrow\">estimator: RandomForestClassifier</label><div class=\"sk-toggleable__content\"><pre>RandomForestClassifier(random_state=12345)</pre></div></div></div><div class=\"sk-serial\"><div class=\"sk-item\"><div class=\"sk-estimator sk-toggleable\"><input class=\"sk-toggleable__control sk-hidden--visually\" id=\"sk-estimator-id-7\" type=\"checkbox\" ><label for=\"sk-estimator-id-7\" class=\"sk-toggleable__label sk-toggleable__label-arrow\">RandomForestClassifier</label><div class=\"sk-toggleable__content\"><pre>RandomForestClassifier(random_state=12345)</pre></div></div></div></div></div></div></div></div></div></div>"
      ],
      "text/plain": [
       "RandomizedSearchCV(cv=5, estimator=RandomForestClassifier(random_state=12345),\n",
       "                   n_iter=50, n_jobs=-1,\n",
       "                   param_distributions={'max_depth': [3, 5, 8, None],\n",
       "                                        'max_features': [3, 5, 7],\n",
       "                                        'min_samples_split': [2, 5, 10, 30],\n",
       "                                        'n_estimators': [100, 200, 500, 1000]},\n",
       "                   verbose=2)"
      ]
     },
     "execution_count": 13,
     "metadata": {},
     "output_type": "execute_result"
    }
   ],
   "source": [
    "from sklearn.model_selection import RandomizedSearchCV\n",
    "\n",
    "random_param = {\n",
    "    \"n_estimators\": [100, 200, 500, 1000],\n",
    "    'max_features': [3, 5, 7],\n",
    "    'min_samples_split': [2, 5, 10, 30],\n",
    "    'max_depth': [3, 5, 8, None]\n",
    "}\n",
    "\n",
    "rs_rf_model = RandomForestClassifier(random_state=12345)\n",
    "random_cv = RandomizedSearchCV(estimator=rs_rf_model, param_distributions=random_param, n_iter=50, cv=5, n_jobs=-1, verbose=2)\n",
    "random_cv.fit(X_train, y_train)"
   ]
  },
  {
   "cell_type": "code",
   "execution_count": 14,
   "metadata": {},
   "outputs": [],
   "source": [
    "best_model = random_cv.best_estimator_"
   ]
  },
  {
   "cell_type": "code",
   "execution_count": 15,
   "metadata": {},
   "outputs": [],
   "source": [
    "best_params = random_cv.best_params_"
   ]
  },
  {
   "cell_type": "code",
   "execution_count": 16,
   "metadata": {},
   "outputs": [
    {
     "name": "stdout",
     "output_type": "stream",
     "text": [
      "0.993485342019544\n",
      "0.7532467532467533\n"
     ]
    }
   ],
   "source": [
    "y_pred_in = best_model.predict(X_train)\n",
    "y_pred = best_model.predict(X_test)\n",
    "print(accuracy_score(y_train, y_pred_in))\n",
    "print(accuracy_score(y_test, y_pred))"
   ]
  },
  {
   "cell_type": "code",
   "execution_count": 17,
   "metadata": {},
   "outputs": [
    {
     "name": "stdout",
     "output_type": "stream",
     "text": [
      "mean squared error-in: 0.006514657980456026\n",
      "mean squared error-out: 0.24675324675324675\n"
     ]
    }
   ],
   "source": [
    "print(f\"mean squared error-in: {mean_squared_error(y_train, y_pred_in)}\")\n",
    "print(f\"mean squared error-out: {mean_squared_error(y_test, y_pred)}\")"
   ]
  },
  {
   "cell_type": "code",
   "execution_count": 19,
   "metadata": {},
   "outputs": [
    {
     "data": {
      "image/png": "[encoded data removed]",
      "text/plain": [
       "<Figure size 640x480 with 1 Axes>"
      ]
     },
     "metadata": {},
     "output_type": "display_data"
    }
   ],
   "source": [
    "feature_imp = pd.Series(best_model.feature_importances_,\n",
    "                        index=X_train.columns).sort_values(ascending=False)\n",
    "\n",
    "sns.barplot(x=feature_imp, y=feature_imp.index)\n",
    "plt.xlabel('Significance Score Of Variables')\n",
    "plt.ylabel('Variables')\n",
    "plt.title(\"Variable Severity Levels\")\n",
    "plt.show()"
   ]
  },
  {
   "cell_type": "code",
   "execution_count": 22,
   "metadata": {},
   "outputs": [],
   "source": [
    "dump(best_gd_rf_model, open(\"best_gd_rf_model.sav\", \"wb\"))"
   ]
  },
  {
   "cell_type": "code",
   "execution_count": null,
   "metadata": {},
   "outputs": [],
   "source": []
  }
 ],
 "metadata": {
  "kernelspec": {
   "display_name": "Python 3",
   "language": "python",
   "name": "python3"
  },
  "language_info": {
   "codemirror_mode": {
    "name": "ipython",
    "version": 3
   },
   "file_extension": ".py",
   "mimetype": "text/x-python",
   "name": "python",
   "nbconvert_exporter": "python",
   "pygments_lexer": "ipython3",
   "version": "3.11.4"
  }
 },
 "nbformat": 4,
 "nbformat_minor": 2
}
