{
 "cells": [
  {
   "cell_type": "markdown",
   "metadata": {},
   "source": [
    "## 📝 Instructions\n",
    "\n",
    "### US county-level sociodemographic and health resource data (2018-2019).\n",
    "\n",
    "Sociodemographic and health resource data have been collected by county in the United States and we want to find out if there is any relationship between health resources and sociodemographic data.\n",
    "\n",
    "To do this, you need to set a target variable (health-related) to conduct the analysis.\n",
    "\n",
    "#### Step 1: Loading the dataset\n",
    "\n",
    "The dataset can be found in this project folder under the name `demographic_health_data.csv`. You can load it into the code directly from the link (`https://raw.githubusercontent.com/4GeeksAcademy/regularized-linear-regression-project-tutorial/main/demographic_health_data.csv`) or download it and add it by hand in your repository. In this dataset you will find a large number of variables, which you will find defined [here](https://raw.githubusercontent.com/4GeeksAcademy/regularized-linear-regression-project-tutorial/main/data_dict.csv).\n",
    "\n",
    "#### Step 2: Perform a full EDA\n",
    "\n",
    "This second step is vital to ensure that we keep the variables that are strictly necessary and eliminate those that are not relevant or do not provide information. Use the example Notebook we worked on and adapt it to this use case.\n",
    "\n",
    "Be sure to conveniently divide the data set into `train` and `test` as we have seen in previous lessons.\n",
    "\n",
    "#### Step 3: Build a regression model\n",
    "\n",
    "Start solving the problem by implementing a linear regression model and analyze the results. Then, using the same data and default attributes, build a Lasso model and compare the results with the baseline linear regression.\n",
    "\n",
    "Analyze how $R^2$ evolves when the hyperparameter of the Lasso model changes (you can for example start testing from a value of 0.0 and work your way up to a value of 20). Draw these values in a line diagram.\n",
    "\n",
    "#### Step 4: Optimize the previous model\n",
    "\n",
    "After training the Lasso model, if the results are not satisfactory, optimize it using one of the techniques seen above."
   ]
  },
  {
   "cell_type": "code",
   "execution_count": 1,
   "metadata": {},
   "outputs": [],
   "source": [
    "import pandas as pd\n",
    "import numpy as np\n",
    "import matplotlib.pyplot as plt\n",
    "import seaborn as sns\n",
    "from sklearn.linear_model import LinearRegression, Lasso, Ridge\n",
    "from sklearn.metrics import mean_squared_error, r2_score\n",
    "from sklearn.model_selection import train_test_split\n",
    "from sklearn.preprocessing import StandardScaler, OneHotEncoder, PolynomialFeatures, SplineTransformer\n",
    "pd.set_option('display.max_columns', None)\n"
   ]
  },
  {
   "cell_type": "code",
   "execution_count": 2,
   "metadata": {},
   "outputs": [],
   "source": [
    "df = pd.read_csv(\"https://raw.githubusercontent.com/4GeeksAcademy/regularized-linear-regression-project-tutorial/main/demographic_health_data.csv\",sep=\",\")"
   ]
  },
  {
   "cell_type": "code",
   "execution_count": 3,
   "metadata": {},
   "outputs": [
    {
     "name": "stderr",
     "output_type": "stream",
     "text": [
      "C:\\Users\\Rashid\\AppData\\Local\\Temp\\ipykernel_10540\\2986756480.py:3: DeprecationWarning: Importing display from IPython.core.display is deprecated since IPython 7.14, please import from IPython display\n",
      "  from IPython.core.display import display, HTML\n"
     ]
    },
    {
     "data": {
      "text/html": [
       "fips, TOT_POP, 0-9, 0-9 y/o % of total pop, 19-Oct, 10-19 y/o % of total pop, 20-29, 20-29 y/o % of total pop, 30-39, 30-39 y/o % of total pop, 40-49, 40-49 y/o % of total pop, 50-59, 50-59 y/o % of total pop, 60-69, 60-69 y/o % of total pop, 70-79, 70-79 y/o % of total pop, 80+, 80+ y/o % of total pop, White-alone pop, % White-alone, Black-alone pop, % Black-alone, Native American/American Indian-alone pop, % NA/AI-alone, Asian-alone pop, % Asian-alone, Hawaiian/Pacific Islander-alone pop, % Hawaiian/PI-alone, Two or more races pop, % Two or more races, POP_ESTIMATE_2018, N_POP_CHG_2018, GQ_ESTIMATES_2018, R_birth_2018, R_death_2018, R_NATURAL_INC_2018, R_INTERNATIONAL_MIG_2018, R_DOMESTIC_MIG_2018, R_NET_MIG_2018, Less than a high school diploma 2014-18, High school diploma only 2014-18, Some college or associate's degree 2014-18, Bachelor's degree or higher 2014-18, Percent of adults with less than a high school diploma 2014-18, Percent of adults with a high school diploma only 2014-18, Percent of adults completing some college or associate's degree 2014-18, Percent of adults with a bachelor's degree or higher 2014-18, POVALL_2018, PCTPOVALL_2018, PCTPOV017_2018, PCTPOV517_2018, MEDHHINC_2018, CI90LBINC_2018, CI90UBINC_2018, Civilian_labor_force_2018, Employed_2018, Unemployed_2018, Unemployment_rate_2018, Median_Household_Income_2018, Med_HH_Income_Percent_of_State_Total_2018, Active Physicians per 100000 Population 2018 (AAMC), Total Active Patient Care Physicians per 100000 Population 2018 (AAMC), Active Primary Care Physicians per 100000 Population 2018 (AAMC), Active Patient Care Primary Care Physicians per 100000 Population 2018 (AAMC), Active General Surgeons per 100000 Population 2018 (AAMC), Active Patient Care General Surgeons per 100000 Population 2018 (AAMC), Total nurse practitioners (2019), Total physician assistants (2019), Total Hospitals (2019), Internal Medicine Primary Care (2019), Family Medicine/General Practice Primary Care (2019), Total Specialist Physicians (2019), ICU Beds_x, Total Population, Population Aged 60+, Percent of Population Aged 60+, COUNTY_NAME, STATE_NAME, STATE_FIPS, CNTY_FIPS, county_pop2018_18 and older, anycondition_prevalence, anycondition_Lower 95% CI, anycondition_Upper 95% CI, anycondition_number, Obesity_prevalence, Obesity_Lower 95% CI, Obesity_Upper 95% CI, Obesity_number, Heart disease_prevalence, Heart disease_Lower 95% CI, Heart disease_Upper 95% CI, Heart disease_number, COPD_prevalence, COPD_Lower 95% CI, COPD_Upper 95% CI, COPD_number, diabetes_prevalence, diabetes_Lower 95% CI, diabetes_Upper 95% CI, diabetes_number, CKD_prevalence, CKD_Lower 95% CI, CKD_Upper 95% CI, CKD_number, Urban_rural_code"
      ],
      "text/plain": [
       "<IPython.core.display.HTML object>"
      ]
     },
     "metadata": {},
     "output_type": "display_data"
    }
   ],
   "source": [
    "column_names = df.columns.tolist()\n",
    "\n",
    "from IPython.core.display import display, HTML\n",
    "display(HTML(', '.join(column_names)))"
   ]
  },
  {
   "cell_type": "markdown",
   "metadata": {},
   "source": [
    "- No columns have missing or NaN values"
   ]
  },
  {
   "cell_type": "code",
   "execution_count": 4,
   "metadata": {},
   "outputs": [
    {
     "data": {
      "text/plain": [
       "(3140, 108)"
      ]
     },
     "execution_count": 4,
     "metadata": {},
     "output_type": "execute_result"
    }
   ],
   "source": [
    "df.shape"
   ]
  },
  {
   "cell_type": "code",
   "execution_count": 5,
   "metadata": {},
   "outputs": [
    {
     "name": "stdout",
     "output_type": "stream",
     "text": [
      "Categorical Columns:\n",
      "Index(['COUNTY_NAME', 'STATE_NAME'], dtype='object')\n"
     ]
    }
   ],
   "source": [
    "categorical_columns = df.select_dtypes(include=['object']).columns\n",
    "\n",
    "print(\"Categorical Columns:\")\n",
    "print(categorical_columns)\n"
   ]
  },
  {
   "cell_type": "code",
   "execution_count": 6,
   "metadata": {},
   "outputs": [
    {
     "name": "stdout",
     "output_type": "stream",
     "text": [
      "Number of 0 rows in '0-9': 1\n",
      "Number of 0 rows in '0-9 y/o % of total pop': 1\n",
      "Number of 0 rows in '19-Oct': 1\n",
      "Number of 0 rows in '10-19 y/o % of total pop': 1\n",
      "Number of 0 rows in '20-29': 1\n",
      "Number of 0 rows in '20-29 y/o % of total pop': 1\n",
      "Number of 0 rows in '80+': 1\n",
      "Number of 0 rows in '80+ y/o % of total pop': 1\n",
      "Number of 0 rows in 'Black-alone pop': 10\n",
      "Number of 0 rows in '% Black-alone': 10\n",
      "Number of 0 rows in 'Native American/American Indian-alone pop': 2\n",
      "Number of 0 rows in '% NA/AI-alone': 2\n",
      "Number of 0 rows in 'Asian-alone pop': 9\n",
      "Number of 0 rows in '% Asian-alone': 9\n",
      "Number of 0 rows in 'Hawaiian/Pacific Islander-alone pop': 214\n",
      "Number of 0 rows in '% Hawaiian/PI-alone': 214\n",
      "Number of 0 rows in 'Two or more races pop': 2\n",
      "Number of 0 rows in '% Two or more races': 2\n",
      "Number of 0 rows in 'N_POP_CHG_2018': 12\n",
      "Number of 0 rows in 'GQ_ESTIMATES_2018': 65\n",
      "Number of 0 rows in 'R_birth_2018': 3\n",
      "Number of 0 rows in 'R_death_2018': 5\n",
      "Number of 0 rows in 'R_NATURAL_INC_2018': 68\n",
      "Number of 0 rows in 'R_INTERNATIONAL_MIG_2018': 395\n",
      "Number of 0 rows in 'R_DOMESTIC_MIG_2018': 8\n",
      "Number of 0 rows in 'R_NET_MIG_2018': 19\n",
      "Number of 0 rows in 'Bachelor's degree or higher 2014-18': 1\n",
      "Number of 0 rows in 'Percent of adults with a bachelor's degree or higher 2014-18': 1\n",
      "Number of 0 rows in 'POVALL_2018': 1\n",
      "Number of 0 rows in 'PCTPOVALL_2018': 1\n",
      "Number of 0 rows in 'PCTPOV017_2018': 1\n",
      "Number of 0 rows in 'PCTPOV517_2018': 1\n",
      "Number of 0 rows in 'MEDHHINC_2018': 1\n",
      "Number of 0 rows in 'CI90LBINC_2018': 1\n",
      "Number of 0 rows in 'CI90UBINC_2018': 1\n",
      "Number of 0 rows in 'Civilian_labor_force_2018': 1\n",
      "Number of 0 rows in 'Employed_2018': 1\n",
      "Number of 0 rows in 'Unemployed_2018': 1\n",
      "Number of 0 rows in 'Unemployment_rate_2018': 1\n",
      "Number of 0 rows in 'Median_Household_Income_2018': 1\n",
      "Number of 0 rows in 'Med_HH_Income_Percent_of_State_Total_2018': 1\n",
      "Number of 0 rows in 'ICU Beds_x': 1664\n"
     ]
    }
   ],
   "source": [
    "import pandas as pd\n",
    "\n",
    "# check for 0 values\n",
    "zero_columns = df.columns[(df == 0).any()].tolist()\n",
    "\n",
    "for column in zero_columns:\n",
    "    zero_rows_count = (df[column] == 0).sum()\n",
    "    print(f\"Number of 0 rows in '{column}': {zero_rows_count}\")\n"
   ]
  },
  {
   "cell_type": "code",
   "execution_count": 7,
   "metadata": {},
   "outputs": [
    {
     "data": {
      "text/plain": [
       "count    3140.000000\n",
       "mean       35.019299\n",
       "std         4.517088\n",
       "min        15.200000\n",
       "25%        32.400000\n",
       "50%        35.400000\n",
       "75%        37.900000\n",
       "max        49.900000\n",
       "Name: Obesity_prevalence, dtype: float64"
      ]
     },
     "execution_count": 7,
     "metadata": {},
     "output_type": "execute_result"
    }
   ],
   "source": [
    "df['Obesity_prevalence'].describe()"
   ]
  },
  {
   "cell_type": "code",
   "execution_count": 8,
   "metadata": {},
   "outputs": [
    {
     "name": "stderr",
     "output_type": "stream",
     "text": [
      "C:\\Users\\Rashid\\AppData\\Local\\Packages\\PythonSoftwareFoundation.Python.3.11_qbz5n2kfra8p0\\LocalCache\\local-packages\\Python311\\site-packages\\seaborn\\axisgrid.py:118: UserWarning: The figure layout has changed to tight\n",
      "  self._figure.tight_layout(*args, **kwargs)\n"
     ]
    },
    {
     "data": {
      "image/png": "[encoded data removed]",
      "text/plain": [
       "<Figure size 500x500 with 1 Axes>"
      ]
     },
     "metadata": {},
     "output_type": "display_data"
    }
   ],
   "source": [
    "sns.displot(df['Obesity_prevalence'], kde=True, bins=20)  \n",
    "plt.title('Distribution Plot')\n",
    "plt.xlabel('Number of Heart Disease Cases')\n",
    "plt.ylabel('Frequency')\n",
    "plt.show()"
   ]
  },
  {
   "cell_type": "markdown",
   "metadata": {},
   "source": [
    "### Feature selection based on correlation with a target variable"
   ]
  },
  {
   "cell_type": "code",
   "execution_count": 9,
   "metadata": {},
   "outputs": [
    {
     "name": "stdout",
     "output_type": "stream",
     "text": [
      "Index(['TOT_POP', '0-9', '0-9 y/o % of total pop', '19-Oct', '20-29', '30-39',\n",
      "       '40-49', '50-59', '60-69', '70-79', '80+', 'White-alone pop',\n",
      "       '% White-alone', '% Black-alone', 'Asian-alone pop', '% Asian-alone',\n",
      "       'Two or more races pop', '% Two or more races', 'POP_ESTIMATE_2018',\n",
      "       'N_POP_CHG_2018', 'GQ_ESTIMATES_2018', 'R_death_2018',\n",
      "       'R_INTERNATIONAL_MIG_2018', 'R_DOMESTIC_MIG_2018', 'R_NET_MIG_2018',\n",
      "       'High school diploma only 2014-18',\n",
      "       'Some college or associate's degree 2014-18',\n",
      "       'Bachelor's degree or higher 2014-18',\n",
      "       'Percent of adults with less than a high school diploma 2014-18',\n",
      "       'Percent of adults with a high school diploma only 2014-18',\n",
      "       'Percent of adults with a bachelor's degree or higher 2014-18',\n",
      "       'PCTPOVALL_2018', 'PCTPOV017_2018', 'PCTPOV517_2018', 'MEDHHINC_2018',\n",
      "       'CI90LBINC_2018', 'CI90UBINC_2018', 'Civilian_labor_force_2018',\n",
      "       'Employed_2018', 'Unemployed_2018', 'Unemployment_rate_2018',\n",
      "       'Median_Household_Income_2018',\n",
      "       'Med_HH_Income_Percent_of_State_Total_2018',\n",
      "       'Active Physicians per 100000 Population 2018 (AAMC)',\n",
      "       'Total Active Patient Care Physicians per 100000 Population 2018 (AAMC)',\n",
      "       'Active Primary Care Physicians per 100000 Population 2018 (AAMC)',\n",
      "       'Active Patient Care Primary Care Physicians per 100000 Population 2018 (AAMC)',\n",
      "       'Total nurse practitioners (2019)', 'Total physician assistants (2019)',\n",
      "       'Total Hospitals (2019)', 'Internal Medicine Primary Care (2019)',\n",
      "       'Family Medicine/General Practice Primary Care (2019)',\n",
      "       'Total Specialist Physicians (2019)', 'ICU Beds_x', 'Total Population',\n",
      "       'Population Aged 60+', 'county_pop2018_18 and older',\n",
      "       'anycondition_prevalence', 'anycondition_Lower 95% CI',\n",
      "       'anycondition_Upper 95% CI', 'anycondition_number',\n",
      "       'Obesity_prevalence', 'Obesity_Lower 95% CI', 'Obesity_Upper 95% CI',\n",
      "       'Obesity_number', 'Heart disease_prevalence',\n",
      "       'Heart disease_Lower 95% CI', 'Heart disease_Upper 95% CI',\n",
      "       'Heart disease_number', 'COPD_prevalence', 'COPD_Lower 95% CI',\n",
      "       'COPD_Upper 95% CI', 'COPD_number', 'diabetes_prevalence',\n",
      "       'diabetes_Lower 95% CI', 'diabetes_Upper 95% CI', 'diabetes_number',\n",
      "       'CKD_prevalence', 'CKD_Lower 95% CI', 'CKD_Upper 95% CI', 'CKD_number',\n",
      "       'Urban_rural_code'],\n",
      "      dtype='object')\n"
     ]
    }
   ],
   "source": [
    "\n",
    "target_variable = 'Obesity_prevalence'\n",
    "\n",
    "# Select the columns you're interested in (e.g., numerical features)\n",
    "numerical_columns = df.select_dtypes(include=['float64', 'int64']).columns\n",
    "\n",
    "# Set the correlation threshold\n",
    "correlation_threshold = 0.2  # Adjust as needed\n",
    "\n",
    "# Calculate the correlations with the target variable\n",
    "correlations = df[numerical_columns].corrwith(df[target_variable])\n",
    "\n",
    "# Select features based on the correlation threshold\n",
    "selected_features = correlations[abs(correlations) > correlation_threshold].index\n",
    "\n",
    "# Create a subset DataFrame\n",
    "subset_df = df[selected_features]\n",
    "\n",
    "# Display selected features\n",
    "print(selected_features)"
   ]
  },
  {
   "cell_type": "code",
   "execution_count": 10,
   "metadata": {},
   "outputs": [],
   "source": [
    "### Main goal: predict\n",
    "y = subset_df[\"Obesity_prevalence\"].values\n",
    "#log_y = np.log(y)\n",
    "X_num = subset_df.select_dtypes(include=['number']).drop('Obesity_prevalence', axis=1)\n",
    "X_cat = subset_df.select_dtypes(include=['object'])\n"
   ]
  },
  {
   "cell_type": "code",
   "execution_count": 11,
   "metadata": {},
   "outputs": [],
   "source": [
    "# Encoding\n",
    "encoder = OneHotEncoder(sparse_output=False, drop='first')\n",
    "encoder.fit(X_cat)\n",
    "X_dummies = encoder.transform(X_cat)\n",
    "X_full = np.c_[X_num,X_dummies]"
   ]
  },
  {
   "cell_type": "code",
   "execution_count": 12,
   "metadata": {},
   "outputs": [],
   "source": [
    "# Standardize \n",
    "scaler = StandardScaler()\n",
    "X_scale = scaler.fit_transform(X_full)"
   ]
  },
  {
   "cell_type": "code",
   "execution_count": 13,
   "metadata": {},
   "outputs": [],
   "source": [
    "## Split data\n",
    "X_train, X_test, y_train, y_test = train_test_split(X_scale, y, test_size=0.2, random_state=12345)"
   ]
  },
  {
   "cell_type": "code",
   "execution_count": 14,
   "metadata": {},
   "outputs": [
    {
     "name": "stdout",
     "output_type": "stream",
     "text": [
      "0.0030301377745832756\n",
      "0.0030920060208030086\n",
      "0.9799909037034586\n",
      "0.9998507444532201\n"
     ]
    }
   ],
   "source": [
    "### Model 1\n",
    "model1 = LinearRegression()\n",
    "model1.fit(X_train, y_train)\n",
    "y_pred_train = model1.predict(X_train)\n",
    "y_pred_test = model1.predict(X_test)\n",
    "print(mean_squared_error(y_pred_train, y_train))\n",
    "print(mean_squared_error(y_pred_test, y_test))\n",
    "ratio1 = (mean_squared_error(y_pred_train, y_train)) / (mean_squared_error(y_pred_test, y_test))\n",
    "print(ratio1)    \n",
    "print(r2_score(y_test, y_pred_test))  "
   ]
  },
  {
   "cell_type": "code",
   "execution_count": 15,
   "metadata": {},
   "outputs": [
    {
     "name": "stdout",
     "output_type": "stream",
     "text": [
      "0.01319976049011497\n",
      "0.013349599248802295\n",
      "0.9887757860071517\n",
      "0.9993555957777032\n"
     ]
    }
   ],
   "source": [
    "### Model 2\n",
    "model2 = Lasso(alpha = 0.1, max_iter = 300)\n",
    "model2.fit(X_train, y_train)\n",
    "y_pred_train = model2.predict(X_train)\n",
    "y_pred_test = model2.predict(X_test)\n",
    "print(mean_squared_error(y_pred_train,y_train))\n",
    "print(mean_squared_error(y_pred_test,y_test))\n",
    "ratio2 = mean_squared_error(y_pred_train,y_train)/mean_squared_error(y_pred_test,y_test)\n",
    "print(ratio2)\n",
    "print(r2_score(y_test, y_pred_test))"
   ]
  },
  {
   "cell_type": "code",
   "execution_count": 16,
   "metadata": {},
   "outputs": [
    {
     "name": "stdout",
     "output_type": "stream",
     "text": [
      "0.6874061219026616\n",
      "0.6894203961061557\n",
      "0.997078307785974\n",
      "0.9667206928156874\n"
     ]
    }
   ],
   "source": [
    "### Model 3\n",
    "model3 = Ridge(alpha = 1000, max_iter = 300)\n",
    "model3.fit(X_train, y_train)\n",
    "y_pred_train = model3.predict(X_train)\n",
    "y_pred_test = model3.predict(X_test)\n",
    "print(mean_squared_error(y_pred_train,y_train))\n",
    "print(mean_squared_error(y_pred_test,y_test))\n",
    "ratio3 = mean_squared_error(y_pred_train,y_train)/mean_squared_error(y_pred_test,y_test)\n",
    "print(ratio3)\n",
    "print(r2_score(y_test, y_pred_test))"
   ]
  },
  {
   "cell_type": "code",
   "execution_count": 17,
   "metadata": {},
   "outputs": [],
   "source": [
    "alpha_ranges =  np.logspace(-5,5, 50)"
   ]
  },
  {
   "cell_type": "code",
   "execution_count": 18,
   "metadata": {},
   "outputs": [
    {
     "name": "stdout",
     "output_type": "stream",
     "text": [
      "Index 0:50 - alpha 1e-05\n",
      "Index 1:50 - alpha 1.5998587196060572e-05\n"
     ]
    },
    {
     "name": "stderr",
     "output_type": "stream",
     "text": [
      "C:\\Users\\Rashid\\AppData\\Local\\Packages\\PythonSoftwareFoundation.Python.3.11_qbz5n2kfra8p0\\LocalCache\\local-packages\\Python311\\site-packages\\sklearn\\linear_model\\_coordinate_descent.py:628: ConvergenceWarning: Objective did not converge. You might want to increase the number of iterations, check the scale of the features or consider increasing regularisation. Duality gap: 7.938e+00, tolerance: 5.104e+00\n",
      "  model = cd_fast.enet_coordinate_descent(\n",
      "C:\\Users\\Rashid\\AppData\\Local\\Packages\\PythonSoftwareFoundation.Python.3.11_qbz5n2kfra8p0\\LocalCache\\local-packages\\Python311\\site-packages\\sklearn\\linear_model\\_coordinate_descent.py:628: ConvergenceWarning: Objective did not converge. You might want to increase the number of iterations, check the scale of the features or consider increasing regularisation. Duality gap: 8.111e+00, tolerance: 5.104e+00\n",
      "  model = cd_fast.enet_coordinate_descent(\n"
     ]
    },
    {
     "name": "stdout",
     "output_type": "stream",
     "text": [
      "Index 2:50 - alpha 2.559547922699533e-05\n",
      "Index 3:50 - alpha 4.094915062380427e-05\n"
     ]
    },
    {
     "name": "stderr",
     "output_type": "stream",
     "text": [
      "C:\\Users\\Rashid\\AppData\\Local\\Packages\\PythonSoftwareFoundation.Python.3.11_qbz5n2kfra8p0\\LocalCache\\local-packages\\Python311\\site-packages\\sklearn\\linear_model\\_coordinate_descent.py:628: ConvergenceWarning: Objective did not converge. You might want to increase the number of iterations, check the scale of the features or consider increasing regularisation. Duality gap: 8.386e+00, tolerance: 5.104e+00\n",
      "  model = cd_fast.enet_coordinate_descent(\n",
      "C:\\Users\\Rashid\\AppData\\Local\\Packages\\PythonSoftwareFoundation.Python.3.11_qbz5n2kfra8p0\\LocalCache\\local-packages\\Python311\\site-packages\\sklearn\\linear_model\\_coordinate_descent.py:628: ConvergenceWarning: Objective did not converge. You might want to increase the number of iterations, check the scale of the features or consider increasing regularisation. Duality gap: 8.819e+00, tolerance: 5.104e+00\n",
      "  model = cd_fast.enet_coordinate_descent(\n",
      "C:\\Users\\Rashid\\AppData\\Local\\Packages\\PythonSoftwareFoundation.Python.3.11_qbz5n2kfra8p0\\LocalCache\\local-packages\\Python311\\site-packages\\sklearn\\linear_model\\_coordinate_descent.py:628: ConvergenceWarning: Objective did not converge. You might want to increase the number of iterations, check the scale of the features or consider increasing regularisation. Duality gap: 9.493e+00, tolerance: 5.104e+00\n",
      "  model = cd_fast.enet_coordinate_descent(\n"
     ]
    },
    {
     "name": "stdout",
     "output_type": "stream",
     "text": [
      "Index 4:50 - alpha 6.55128556859551e-05\n",
      "Index 5:50 - alpha 0.00010481131341546853\n",
      "Index 6:50 - alpha 0.00016768329368110083\n"
     ]
    },
    {
     "name": "stderr",
     "output_type": "stream",
     "text": [
      "C:\\Users\\Rashid\\AppData\\Local\\Packages\\PythonSoftwareFoundation.Python.3.11_qbz5n2kfra8p0\\LocalCache\\local-packages\\Python311\\site-packages\\sklearn\\linear_model\\_coordinate_descent.py:628: ConvergenceWarning: Objective did not converge. You might want to increase the number of iterations, check the scale of the features or consider increasing regularisation. Duality gap: 1.052e+01, tolerance: 5.104e+00\n",
      "  model = cd_fast.enet_coordinate_descent(\n",
      "C:\\Users\\Rashid\\AppData\\Local\\Packages\\PythonSoftwareFoundation.Python.3.11_qbz5n2kfra8p0\\LocalCache\\local-packages\\Python311\\site-packages\\sklearn\\linear_model\\_coordinate_descent.py:628: ConvergenceWarning: Objective did not converge. You might want to increase the number of iterations, check the scale of the features or consider increasing regularisation. Duality gap: 1.206e+01, tolerance: 5.104e+00\n",
      "  model = cd_fast.enet_coordinate_descent(\n",
      "C:\\Users\\Rashid\\AppData\\Local\\Packages\\PythonSoftwareFoundation.Python.3.11_qbz5n2kfra8p0\\LocalCache\\local-packages\\Python311\\site-packages\\sklearn\\linear_model\\_coordinate_descent.py:628: ConvergenceWarning: Objective did not converge. You might want to increase the number of iterations, check the scale of the features or consider increasing regularisation. Duality gap: 1.425e+01, tolerance: 5.104e+00\n",
      "  model = cd_fast.enet_coordinate_descent(\n"
     ]
    },
    {
     "name": "stdout",
     "output_type": "stream",
     "text": [
      "Index 7:50 - alpha 0.0002682695795279727\n",
      "Index 8:50 - alpha 0.00042919342601287783\n",
      "Index 9:50 - alpha 0.0006866488450042998\n"
     ]
    },
    {
     "name": "stderr",
     "output_type": "stream",
     "text": [
      "C:\\Users\\Rashid\\AppData\\Local\\Packages\\PythonSoftwareFoundation.Python.3.11_qbz5n2kfra8p0\\LocalCache\\local-packages\\Python311\\site-packages\\sklearn\\linear_model\\_coordinate_descent.py:628: ConvergenceWarning: Objective did not converge. You might want to increase the number of iterations, check the scale of the features or consider increasing regularisation. Duality gap: 1.714e+01, tolerance: 5.104e+00\n",
      "  model = cd_fast.enet_coordinate_descent(\n",
      "C:\\Users\\Rashid\\AppData\\Local\\Packages\\PythonSoftwareFoundation.Python.3.11_qbz5n2kfra8p0\\LocalCache\\local-packages\\Python311\\site-packages\\sklearn\\linear_model\\_coordinate_descent.py:628: ConvergenceWarning: Objective did not converge. You might want to increase the number of iterations, check the scale of the features or consider increasing regularisation. Duality gap: 2.106e+01, tolerance: 5.104e+00\n",
      "  model = cd_fast.enet_coordinate_descent(\n",
      "C:\\Users\\Rashid\\AppData\\Local\\Packages\\PythonSoftwareFoundation.Python.3.11_qbz5n2kfra8p0\\LocalCache\\local-packages\\Python311\\site-packages\\sklearn\\linear_model\\_coordinate_descent.py:628: ConvergenceWarning: Objective did not converge. You might want to increase the number of iterations, check the scale of the features or consider increasing regularisation. Duality gap: 2.598e+01, tolerance: 5.104e+00\n",
      "  model = cd_fast.enet_coordinate_descent(\n"
     ]
    },
    {
     "name": "stdout",
     "output_type": "stream",
     "text": [
      "Index 10:50 - alpha 0.0010985411419875584\n",
      "Index 11:50 - alpha 0.001757510624854793\n",
      "Index 12:50 - alpha 0.002811768697974231\n"
     ]
    },
    {
     "name": "stderr",
     "output_type": "stream",
     "text": [
      "C:\\Users\\Rashid\\AppData\\Local\\Packages\\PythonSoftwareFoundation.Python.3.11_qbz5n2kfra8p0\\LocalCache\\local-packages\\Python311\\site-packages\\sklearn\\linear_model\\_coordinate_descent.py:628: ConvergenceWarning: Objective did not converge. You might want to increase the number of iterations, check the scale of the features or consider increasing regularisation. Duality gap: 3.287e+01, tolerance: 5.104e+00\n",
      "  model = cd_fast.enet_coordinate_descent(\n",
      "C:\\Users\\Rashid\\AppData\\Local\\Packages\\PythonSoftwareFoundation.Python.3.11_qbz5n2kfra8p0\\LocalCache\\local-packages\\Python311\\site-packages\\sklearn\\linear_model\\_coordinate_descent.py:628: ConvergenceWarning: Objective did not converge. You might want to increase the number of iterations, check the scale of the features or consider increasing regularisation. Duality gap: 1.996e+01, tolerance: 5.104e+00\n",
      "  model = cd_fast.enet_coordinate_descent(\n",
      "C:\\Users\\Rashid\\AppData\\Local\\Packages\\PythonSoftwareFoundation.Python.3.11_qbz5n2kfra8p0\\LocalCache\\local-packages\\Python311\\site-packages\\sklearn\\linear_model\\_coordinate_descent.py:628: ConvergenceWarning: Objective did not converge. You might want to increase the number of iterations, check the scale of the features or consider increasing regularisation. Duality gap: 1.679e+01, tolerance: 5.104e+00\n",
      "  model = cd_fast.enet_coordinate_descent(\n"
     ]
    },
    {
     "name": "stdout",
     "output_type": "stream",
     "text": [
      "Index 13:50 - alpha 0.004498432668969444\n",
      "Index 14:50 - alpha 0.0071968567300115215\n",
      "Index 15:50 - alpha 0.011513953993264481\n"
     ]
    },
    {
     "name": "stderr",
     "output_type": "stream",
     "text": [
      "C:\\Users\\Rashid\\AppData\\Local\\Packages\\PythonSoftwareFoundation.Python.3.11_qbz5n2kfra8p0\\LocalCache\\local-packages\\Python311\\site-packages\\sklearn\\linear_model\\_coordinate_descent.py:628: ConvergenceWarning: Objective did not converge. You might want to increase the number of iterations, check the scale of the features or consider increasing regularisation. Duality gap: 1.513e+01, tolerance: 5.104e+00\n",
      "  model = cd_fast.enet_coordinate_descent(\n",
      "C:\\Users\\Rashid\\AppData\\Local\\Packages\\PythonSoftwareFoundation.Python.3.11_qbz5n2kfra8p0\\LocalCache\\local-packages\\Python311\\site-packages\\sklearn\\linear_model\\_coordinate_descent.py:628: ConvergenceWarning: Objective did not converge. You might want to increase the number of iterations, check the scale of the features or consider increasing regularisation. Duality gap: 1.198e+01, tolerance: 5.104e+00\n",
      "  model = cd_fast.enet_coordinate_descent(\n",
      "C:\\Users\\Rashid\\AppData\\Local\\Packages\\PythonSoftwareFoundation.Python.3.11_qbz5n2kfra8p0\\LocalCache\\local-packages\\Python311\\site-packages\\sklearn\\linear_model\\_coordinate_descent.py:628: ConvergenceWarning: Objective did not converge. You might want to increase the number of iterations, check the scale of the features or consider increasing regularisation. Duality gap: 7.085e+00, tolerance: 5.104e+00\n",
      "  model = cd_fast.enet_coordinate_descent(\n"
     ]
    },
    {
     "name": "stdout",
     "output_type": "stream",
     "text": [
      "Index 16:50 - alpha 0.018420699693267165\n",
      "Index 17:50 - alpha 0.029470517025518096\n",
      "Index 18:50 - alpha 0.04714866363457394\n",
      "Index 19:50 - alpha 0.07543120063354623\n",
      "Index 20:50 - alpha 0.1206792640639329\n",
      "Index 21:50 - alpha 0.19306977288832497\n",
      "Index 22:50 - alpha 0.30888435964774846\n",
      "Index 23:50 - alpha 0.49417133613238384\n"
     ]
    },
    {
     "name": "stdout",
     "output_type": "stream",
     "text": [
      "Index 24:50 - alpha 0.7906043210907702\n",
      "Index 25:50 - alpha 1.2648552168552958\n",
      "Index 26:50 - alpha 2.0235896477251556\n",
      "Index 27:50 - alpha 3.2374575428176464\n",
      "Index 28:50 - alpha 5.1794746792312125\n",
      "Index 29:50 - alpha 8.286427728546842\n",
      "Index 30:50 - alpha 13.257113655901108\n",
      "Index 31:50 - alpha 21.209508879201927\n",
      "Index 32:50 - alpha 33.9322177189533\n",
      "Index 33:50 - alpha 54.286754393238596\n",
      "Index 34:50 - alpha 86.85113737513521\n",
      "Index 35:50 - alpha 138.9495494373139\n",
      "Index 36:50 - alpha 222.29964825261956\n",
      "Index 37:50 - alpha 355.64803062231283\n",
      "Index 38:50 - alpha 568.9866029018305\n",
      "Index 39:50 - alpha 910.2981779915227\n",
      "Index 40:50 - alpha 1456.3484775012444\n",
      "Index 41:50 - alpha 2329.951810515372\n",
      "Index 42:50 - alpha 3727.593720314938\n",
      "Index 43:50 - alpha 5963.623316594637\n",
      "Index 44:50 - alpha 9540.954763499964\n",
      "Index 45:50 - alpha 15264.179671752365\n",
      "Index 46:50 - alpha 24420.53094548655\n",
      "Index 47:50 - alpha 39069.39937054621\n",
      "Index 48:50 - alpha 62505.51925273976\n",
      "Index 49:50 - alpha 100000.0\n"
     ]
    },
    {
     "data": {
      "text/html": [
       "<div>\n",
       "<style scoped>\n",
       "    .dataframe tbody tr th:only-of-type {\n",
       "        vertical-align: middle;\n",
       "    }\n",
       "\n",
       "    .dataframe tbody tr th {\n",
       "        vertical-align: top;\n",
       "    }\n",
       "\n",
       "    .dataframe thead th {\n",
       "        text-align: right;\n",
       "    }\n",
       "</style>\n",
       "<table border=\"1\" class=\"dataframe\">\n",
       "  <thead>\n",
       "    <tr style=\"text-align: right;\">\n",
       "      <th></th>\n",
       "      <th>MSE-in</th>\n",
       "      <th>MSE-out</th>\n",
       "      <th>Ratio</th>\n",
       "      <th>Alpha</th>\n",
       "    </tr>\n",
       "  </thead>\n",
       "  <tbody>\n",
       "    <tr>\n",
       "      <th>0</th>\n",
       "      <td>0.006070</td>\n",
       "      <td>0.007885</td>\n",
       "      <td>0.769803</td>\n",
       "      <td>0.000010</td>\n",
       "    </tr>\n",
       "    <tr>\n",
       "      <th>1</th>\n",
       "      <td>0.006059</td>\n",
       "      <td>0.007854</td>\n",
       "      <td>0.771502</td>\n",
       "      <td>0.000016</td>\n",
       "    </tr>\n",
       "    <tr>\n",
       "      <th>2</th>\n",
       "      <td>0.006043</td>\n",
       "      <td>0.007805</td>\n",
       "      <td>0.774182</td>\n",
       "      <td>0.000026</td>\n",
       "    </tr>\n",
       "    <tr>\n",
       "      <th>3</th>\n",
       "      <td>0.006018</td>\n",
       "      <td>0.007735</td>\n",
       "      <td>0.778032</td>\n",
       "      <td>0.000041</td>\n",
       "    </tr>\n",
       "    <tr>\n",
       "      <th>4</th>\n",
       "      <td>0.005981</td>\n",
       "      <td>0.007632</td>\n",
       "      <td>0.783609</td>\n",
       "      <td>0.000066</td>\n",
       "    </tr>\n",
       "    <tr>\n",
       "      <th>5</th>\n",
       "      <td>0.005926</td>\n",
       "      <td>0.007471</td>\n",
       "      <td>0.793168</td>\n",
       "      <td>0.000105</td>\n",
       "    </tr>\n",
       "    <tr>\n",
       "      <th>6</th>\n",
       "      <td>0.005837</td>\n",
       "      <td>0.007276</td>\n",
       "      <td>0.802260</td>\n",
       "      <td>0.000168</td>\n",
       "    </tr>\n",
       "    <tr>\n",
       "      <th>7</th>\n",
       "      <td>0.005658</td>\n",
       "      <td>0.006930</td>\n",
       "      <td>0.816443</td>\n",
       "      <td>0.000268</td>\n",
       "    </tr>\n",
       "    <tr>\n",
       "      <th>8</th>\n",
       "      <td>0.005324</td>\n",
       "      <td>0.006212</td>\n",
       "      <td>0.857153</td>\n",
       "      <td>0.000429</td>\n",
       "    </tr>\n",
       "    <tr>\n",
       "      <th>9</th>\n",
       "      <td>0.005026</td>\n",
       "      <td>0.005466</td>\n",
       "      <td>0.919549</td>\n",
       "      <td>0.000687</td>\n",
       "    </tr>\n",
       "    <tr>\n",
       "      <th>10</th>\n",
       "      <td>0.004884</td>\n",
       "      <td>0.004793</td>\n",
       "      <td>1.018981</td>\n",
       "      <td>0.001099</td>\n",
       "    </tr>\n",
       "    <tr>\n",
       "      <th>11</th>\n",
       "      <td>0.004768</td>\n",
       "      <td>0.004762</td>\n",
       "      <td>1.001362</td>\n",
       "      <td>0.001758</td>\n",
       "    </tr>\n",
       "    <tr>\n",
       "      <th>12</th>\n",
       "      <td>0.004089</td>\n",
       "      <td>0.004109</td>\n",
       "      <td>0.995358</td>\n",
       "      <td>0.002812</td>\n",
       "    </tr>\n",
       "    <tr>\n",
       "      <th>13</th>\n",
       "      <td>0.003790</td>\n",
       "      <td>0.003800</td>\n",
       "      <td>0.997434</td>\n",
       "      <td>0.004498</td>\n",
       "    </tr>\n",
       "    <tr>\n",
       "      <th>14</th>\n",
       "      <td>0.003641</td>\n",
       "      <td>0.003699</td>\n",
       "      <td>0.984219</td>\n",
       "      <td>0.007197</td>\n",
       "    </tr>\n",
       "    <tr>\n",
       "      <th>15</th>\n",
       "      <td>0.003552</td>\n",
       "      <td>0.003622</td>\n",
       "      <td>0.980612</td>\n",
       "      <td>0.011514</td>\n",
       "    </tr>\n",
       "    <tr>\n",
       "      <th>16</th>\n",
       "      <td>0.003577</td>\n",
       "      <td>0.003582</td>\n",
       "      <td>0.998492</td>\n",
       "      <td>0.018421</td>\n",
       "    </tr>\n",
       "    <tr>\n",
       "      <th>17</th>\n",
       "      <td>0.004051</td>\n",
       "      <td>0.004033</td>\n",
       "      <td>1.004435</td>\n",
       "      <td>0.029471</td>\n",
       "    </tr>\n",
       "    <tr>\n",
       "      <th>18</th>\n",
       "      <td>0.005391</td>\n",
       "      <td>0.005384</td>\n",
       "      <td>1.001241</td>\n",
       "      <td>0.047149</td>\n",
       "    </tr>\n",
       "    <tr>\n",
       "      <th>19</th>\n",
       "      <td>0.008867</td>\n",
       "      <td>0.008926</td>\n",
       "      <td>0.993364</td>\n",
       "      <td>0.075431</td>\n",
       "    </tr>\n",
       "    <tr>\n",
       "      <th>20</th>\n",
       "      <td>0.017790</td>\n",
       "      <td>0.018038</td>\n",
       "      <td>0.986243</td>\n",
       "      <td>0.120679</td>\n",
       "    </tr>\n",
       "    <tr>\n",
       "      <th>21</th>\n",
       "      <td>0.040648</td>\n",
       "      <td>0.041384</td>\n",
       "      <td>0.982208</td>\n",
       "      <td>0.193070</td>\n",
       "    </tr>\n",
       "    <tr>\n",
       "      <th>22</th>\n",
       "      <td>0.099181</td>\n",
       "      <td>0.101163</td>\n",
       "      <td>0.980409</td>\n",
       "      <td>0.308884</td>\n",
       "    </tr>\n",
       "    <tr>\n",
       "      <th>23</th>\n",
       "      <td>0.249046</td>\n",
       "      <td>0.254202</td>\n",
       "      <td>0.979715</td>\n",
       "      <td>0.494171</td>\n",
       "    </tr>\n",
       "    <tr>\n",
       "      <th>24</th>\n",
       "      <td>0.632707</td>\n",
       "      <td>0.645958</td>\n",
       "      <td>0.979487</td>\n",
       "      <td>0.790604</td>\n",
       "    </tr>\n",
       "    <tr>\n",
       "      <th>25</th>\n",
       "      <td>1.614827</td>\n",
       "      <td>1.648752</td>\n",
       "      <td>0.979424</td>\n",
       "      <td>1.264855</td>\n",
       "    </tr>\n",
       "    <tr>\n",
       "      <th>26</th>\n",
       "      <td>4.128801</td>\n",
       "      <td>4.215578</td>\n",
       "      <td>0.979415</td>\n",
       "      <td>2.023590</td>\n",
       "    </tr>\n",
       "    <tr>\n",
       "      <th>27</th>\n",
       "      <td>10.563687</td>\n",
       "      <td>10.785700</td>\n",
       "      <td>0.979416</td>\n",
       "      <td>3.237458</td>\n",
       "    </tr>\n",
       "    <tr>\n",
       "      <th>28</th>\n",
       "      <td>20.317283</td>\n",
       "      <td>20.719470</td>\n",
       "      <td>0.980589</td>\n",
       "      <td>5.179475</td>\n",
       "    </tr>\n",
       "    <tr>\n",
       "      <th>29</th>\n",
       "      <td>20.317283</td>\n",
       "      <td>20.719470</td>\n",
       "      <td>0.980589</td>\n",
       "      <td>8.286428</td>\n",
       "    </tr>\n",
       "    <tr>\n",
       "      <th>30</th>\n",
       "      <td>20.317283</td>\n",
       "      <td>20.719470</td>\n",
       "      <td>0.980589</td>\n",
       "      <td>13.257114</td>\n",
       "    </tr>\n",
       "    <tr>\n",
       "      <th>31</th>\n",
       "      <td>20.317283</td>\n",
       "      <td>20.719470</td>\n",
       "      <td>0.980589</td>\n",
       "      <td>21.209509</td>\n",
       "    </tr>\n",
       "    <tr>\n",
       "      <th>32</th>\n",
       "      <td>20.317283</td>\n",
       "      <td>20.719470</td>\n",
       "      <td>0.980589</td>\n",
       "      <td>33.932218</td>\n",
       "    </tr>\n",
       "    <tr>\n",
       "      <th>33</th>\n",
       "      <td>20.317283</td>\n",
       "      <td>20.719470</td>\n",
       "      <td>0.980589</td>\n",
       "      <td>54.286754</td>\n",
       "    </tr>\n",
       "    <tr>\n",
       "      <th>34</th>\n",
       "      <td>20.317283</td>\n",
       "      <td>20.719470</td>\n",
       "      <td>0.980589</td>\n",
       "      <td>86.851137</td>\n",
       "    </tr>\n",
       "    <tr>\n",
       "      <th>35</th>\n",
       "      <td>20.317283</td>\n",
       "      <td>20.719470</td>\n",
       "      <td>0.980589</td>\n",
       "      <td>138.949549</td>\n",
       "    </tr>\n",
       "    <tr>\n",
       "      <th>36</th>\n",
       "      <td>20.317283</td>\n",
       "      <td>20.719470</td>\n",
       "      <td>0.980589</td>\n",
       "      <td>222.299648</td>\n",
       "    </tr>\n",
       "    <tr>\n",
       "      <th>37</th>\n",
       "      <td>20.317283</td>\n",
       "      <td>20.719470</td>\n",
       "      <td>0.980589</td>\n",
       "      <td>355.648031</td>\n",
       "    </tr>\n",
       "    <tr>\n",
       "      <th>38</th>\n",
       "      <td>20.317283</td>\n",
       "      <td>20.719470</td>\n",
       "      <td>0.980589</td>\n",
       "      <td>568.986603</td>\n",
       "    </tr>\n",
       "    <tr>\n",
       "      <th>39</th>\n",
       "      <td>20.317283</td>\n",
       "      <td>20.719470</td>\n",
       "      <td>0.980589</td>\n",
       "      <td>910.298178</td>\n",
       "    </tr>\n",
       "    <tr>\n",
       "      <th>40</th>\n",
       "      <td>20.317283</td>\n",
       "      <td>20.719470</td>\n",
       "      <td>0.980589</td>\n",
       "      <td>1456.348478</td>\n",
       "    </tr>\n",
       "    <tr>\n",
       "      <th>41</th>\n",
       "      <td>20.317283</td>\n",
       "      <td>20.719470</td>\n",
       "      <td>0.980589</td>\n",
       "      <td>2329.951811</td>\n",
       "    </tr>\n",
       "    <tr>\n",
       "      <th>42</th>\n",
       "      <td>20.317283</td>\n",
       "      <td>20.719470</td>\n",
       "      <td>0.980589</td>\n",
       "      <td>3727.593720</td>\n",
       "    </tr>\n",
       "    <tr>\n",
       "      <th>43</th>\n",
       "      <td>20.317283</td>\n",
       "      <td>20.719470</td>\n",
       "      <td>0.980589</td>\n",
       "      <td>5963.623317</td>\n",
       "    </tr>\n",
       "    <tr>\n",
       "      <th>44</th>\n",
       "      <td>20.317283</td>\n",
       "      <td>20.719470</td>\n",
       "      <td>0.980589</td>\n",
       "      <td>9540.954763</td>\n",
       "    </tr>\n",
       "    <tr>\n",
       "      <th>45</th>\n",
       "      <td>20.317283</td>\n",
       "      <td>20.719470</td>\n",
       "      <td>0.980589</td>\n",
       "      <td>15264.179672</td>\n",
       "    </tr>\n",
       "    <tr>\n",
       "      <th>46</th>\n",
       "      <td>20.317283</td>\n",
       "      <td>20.719470</td>\n",
       "      <td>0.980589</td>\n",
       "      <td>24420.530945</td>\n",
       "    </tr>\n",
       "    <tr>\n",
       "      <th>47</th>\n",
       "      <td>20.317283</td>\n",
       "      <td>20.719470</td>\n",
       "      <td>0.980589</td>\n",
       "      <td>39069.399371</td>\n",
       "    </tr>\n",
       "    <tr>\n",
       "      <th>48</th>\n",
       "      <td>20.317283</td>\n",
       "      <td>20.719470</td>\n",
       "      <td>0.980589</td>\n",
       "      <td>62505.519253</td>\n",
       "    </tr>\n",
       "    <tr>\n",
       "      <th>49</th>\n",
       "      <td>20.317283</td>\n",
       "      <td>20.719470</td>\n",
       "      <td>0.980589</td>\n",
       "      <td>100000.000000</td>\n",
       "    </tr>\n",
       "  </tbody>\n",
       "</table>\n",
       "</div>"
      ],
      "text/plain": [
       "       MSE-in    MSE-out     Ratio          Alpha\n",
       "0    0.006070   0.007885  0.769803       0.000010\n",
       "1    0.006059   0.007854  0.771502       0.000016\n",
       "2    0.006043   0.007805  0.774182       0.000026\n",
       "3    0.006018   0.007735  0.778032       0.000041\n",
       "4    0.005981   0.007632  0.783609       0.000066\n",
       "5    0.005926   0.007471  0.793168       0.000105\n",
       "6    0.005837   0.007276  0.802260       0.000168\n",
       "7    0.005658   0.006930  0.816443       0.000268\n",
       "8    0.005324   0.006212  0.857153       0.000429\n",
       "9    0.005026   0.005466  0.919549       0.000687\n",
       "10   0.004884   0.004793  1.018981       0.001099\n",
       "11   0.004768   0.004762  1.001362       0.001758\n",
       "12   0.004089   0.004109  0.995358       0.002812\n",
       "13   0.003790   0.003800  0.997434       0.004498\n",
       "14   0.003641   0.003699  0.984219       0.007197\n",
       "15   0.003552   0.003622  0.980612       0.011514\n",
       "16   0.003577   0.003582  0.998492       0.018421\n",
       "17   0.004051   0.004033  1.004435       0.029471\n",
       "18   0.005391   0.005384  1.001241       0.047149\n",
       "19   0.008867   0.008926  0.993364       0.075431\n",
       "20   0.017790   0.018038  0.986243       0.120679\n",
       "21   0.040648   0.041384  0.982208       0.193070\n",
       "22   0.099181   0.101163  0.980409       0.308884\n",
       "23   0.249046   0.254202  0.979715       0.494171\n",
       "24   0.632707   0.645958  0.979487       0.790604\n",
       "25   1.614827   1.648752  0.979424       1.264855\n",
       "26   4.128801   4.215578  0.979415       2.023590\n",
       "27  10.563687  10.785700  0.979416       3.237458\n",
       "28  20.317283  20.719470  0.980589       5.179475\n",
       "29  20.317283  20.719470  0.980589       8.286428\n",
       "30  20.317283  20.719470  0.980589      13.257114\n",
       "31  20.317283  20.719470  0.980589      21.209509\n",
       "32  20.317283  20.719470  0.980589      33.932218\n",
       "33  20.317283  20.719470  0.980589      54.286754\n",
       "34  20.317283  20.719470  0.980589      86.851137\n",
       "35  20.317283  20.719470  0.980589     138.949549\n",
       "36  20.317283  20.719470  0.980589     222.299648\n",
       "37  20.317283  20.719470  0.980589     355.648031\n",
       "38  20.317283  20.719470  0.980589     568.986603\n",
       "39  20.317283  20.719470  0.980589     910.298178\n",
       "40  20.317283  20.719470  0.980589    1456.348478\n",
       "41  20.317283  20.719470  0.980589    2329.951811\n",
       "42  20.317283  20.719470  0.980589    3727.593720\n",
       "43  20.317283  20.719470  0.980589    5963.623317\n",
       "44  20.317283  20.719470  0.980589    9540.954763\n",
       "45  20.317283  20.719470  0.980589   15264.179672\n",
       "46  20.317283  20.719470  0.980589   24420.530945\n",
       "47  20.317283  20.719470  0.980589   39069.399371\n",
       "48  20.317283  20.719470  0.980589   62505.519253\n",
       "49  20.317283  20.719470  0.980589  100000.000000"
      ]
     },
     "execution_count": 18,
     "metadata": {},
     "output_type": "execute_result"
    }
   ],
   "source": [
    "mse_in = []\n",
    "mse_out = []\n",
    "ratio = []\n",
    "for index, alpha in enumerate(alpha_ranges):\n",
    "  print(f\"Index {index}:{len(alpha_ranges)} - alpha {alpha}\")\n",
    "  model2 = Lasso(alpha = alpha, max_iter = 300)\n",
    "  model2.fit(X_train, y_train)\n",
    "  y_pred_train = model2.predict(X_train)\n",
    "  y_pred_test = model2.predict(X_test)\n",
    "  mse_in.append(mean_squared_error(y_pred_train,y_train))\n",
    "  mse_out.append(mean_squared_error(y_pred_test,y_test))\n",
    "  ratio.append(mean_squared_error(y_pred_train,y_train)/mean_squared_error(y_pred_test,y_test))\n",
    "\n",
    "lasso_df = pd.DataFrame({\"MSE-in\":mse_in,\"MSE-out\":mse_out,\"Ratio\":ratio,\"Alpha\":alpha_ranges})\n",
    "lasso_df\n"
   ]
  },
  {
   "cell_type": "code",
   "execution_count": 19,
   "metadata": {},
   "outputs": [
    {
     "name": "stdout",
     "output_type": "stream",
     "text": [
      "0.0035770577604607038\n",
      "0.0035824586890038632\n",
      "0.9984923961413045\n",
      "0.9998270696024373\n"
     ]
    },
    {
     "name": "stderr",
     "output_type": "stream",
     "text": [
      "C:\\Users\\Rashid\\AppData\\Local\\Packages\\PythonSoftwareFoundation.Python.3.11_qbz5n2kfra8p0\\LocalCache\\local-packages\\Python311\\site-packages\\sklearn\\linear_model\\_coordinate_descent.py:628: ConvergenceWarning: Objective did not converge. You might want to increase the number of iterations, check the scale of the features or consider increasing regularisation. Duality gap: 7.085e+00, tolerance: 5.104e+00\n",
      "  model = cd_fast.enet_coordinate_descent(\n"
     ]
    }
   ],
   "source": [
    "### Model 4\n",
    "model4 = Lasso(alpha = 0.018421, max_iter = 300)\n",
    "model4.fit(X_train, y_train)\n",
    "y_pred_train = model4.predict(X_train)\n",
    "y_pred_test = model4.predict(X_test)\n",
    "print(mean_squared_error(y_pred_train,y_train))\n",
    "print(mean_squared_error(y_pred_test,y_test))\n",
    "ratio4 = mean_squared_error(y_pred_train,y_train)/mean_squared_error(y_pred_test,y_test)\n",
    "print(ratio4)\n",
    "print(r2_score(y_test, y_pred_test))"
   ]
  },
  {
   "cell_type": "code",
   "execution_count": null,
   "metadata": {},
   "outputs": [],
   "source": []
  }
 ],
 "metadata": {
  "kernelspec": {
   "display_name": "Python 3",
   "language": "python",
   "name": "python3"
  },
  "language_info": {
   "codemirror_mode": {
    "name": "ipython",
    "version": 3
   },
   "file_extension": ".py",
   "mimetype": "text/x-python",
   "name": "python",
   "nbconvert_exporter": "python",
   "pygments_lexer": "ipython3",
   "version": "3.11.5"
  }
 },
 "nbformat": 4,
 "nbformat_minor": 2
}
