{
 "cells": [
  {
   "cell_type": "code",
   "execution_count": 1,
   "metadata": {},
   "outputs": [
    {
     "name": "stdout",
     "output_type": "stream",
     "text": [
      "WARNING:tensorflow:From c:\\Users\\ricar\\AppData\\Local\\Programs\\Python\\Python311\\Lib\\site-packages\\keras\\src\\losses.py:2976: The name tf.losses.sparse_softmax_cross_entropy is deprecated. Please use tf.compat.v1.losses.sparse_softmax_cross_entropy instead.\n",
      "\n"
     ]
    }
   ],
   "source": [
    "import os\n",
    "import numpy as np\n",
    "import matplotlib.pyplot as plt\n",
    "from tensorflow import keras\n",
    "from keras.preprocessing import image\n",
    "import pandas as pd"
   ]
  },
  {
   "cell_type": "code",
   "execution_count": 3,
   "metadata": {},
   "outputs": [],
   "source": [
    "IMAGE_FOLDER_PATH=r\"C:\\Users\\ricar\\Documents\\4Geeks_Projects\\Image-Procesing\\data\\train\"\n",
    "FILE_NAMES=os.listdir(IMAGE_FOLDER_PATH)\n",
    "WIDTH=150\n",
    "HEIGHT=150"
   ]
  },
  {
   "cell_type": "code",
   "execution_count": 4,
   "metadata": {},
   "outputs": [],
   "source": [
    "targets=list()\n",
    "full_paths=list()\n",
    "for file_name in FILE_NAMES:\n",
    "    target=file_name.split(\".\")[0]\n",
    "    full_path=os.path.join(IMAGE_FOLDER_PATH, file_name)\n",
    "    full_paths.append(full_path)\n",
    "    targets.append(target)\n",
    "\n",
    "dataset=pd.DataFrame()\n",
    "dataset['image_path']=full_paths\n",
    "dataset['target']=targets"
   ]
  },
  {
   "cell_type": "code",
   "execution_count": 6,
   "metadata": {},
   "outputs": [
    {
     "data": {
      "text/html": [
       "<div>\n",
       "<style scoped>\n",
       "    .dataframe tbody tr th:only-of-type {\n",
       "        vertical-align: middle;\n",
       "    }\n",
       "\n",
       "    .dataframe tbody tr th {\n",
       "        vertical-align: top;\n",
       "    }\n",
       "\n",
       "    .dataframe thead th {\n",
       "        text-align: right;\n",
       "    }\n",
       "</style>\n",
       "<table border=\"1\" class=\"dataframe\">\n",
       "  <thead>\n",
       "    <tr style=\"text-align: right;\">\n",
       "      <th></th>\n",
       "      <th>image_path</th>\n",
       "      <th>target</th>\n",
       "    </tr>\n",
       "  </thead>\n",
       "  <tbody>\n",
       "    <tr>\n",
       "      <th>0</th>\n",
       "      <td>C:\\Users\\ricar\\Documents\\4Geeks_Projects\\Image...</td>\n",
       "      <td>cat</td>\n",
       "    </tr>\n",
       "    <tr>\n",
       "      <th>1</th>\n",
       "      <td>C:\\Users\\ricar\\Documents\\4Geeks_Projects\\Image...</td>\n",
       "      <td>cat</td>\n",
       "    </tr>\n",
       "    <tr>\n",
       "      <th>2</th>\n",
       "      <td>C:\\Users\\ricar\\Documents\\4Geeks_Projects\\Image...</td>\n",
       "      <td>cat</td>\n",
       "    </tr>\n",
       "    <tr>\n",
       "      <th>3</th>\n",
       "      <td>C:\\Users\\ricar\\Documents\\4Geeks_Projects\\Image...</td>\n",
       "      <td>cat</td>\n",
       "    </tr>\n",
       "    <tr>\n",
       "      <th>4</th>\n",
       "      <td>C:\\Users\\ricar\\Documents\\4Geeks_Projects\\Image...</td>\n",
       "      <td>cat</td>\n",
       "    </tr>\n",
       "  </tbody>\n",
       "</table>\n",
       "</div>"
      ],
      "text/plain": [
       "                                          image_path target\n",
       "0  C:\\Users\\ricar\\Documents\\4Geeks_Projects\\Image...    cat\n",
       "1  C:\\Users\\ricar\\Documents\\4Geeks_Projects\\Image...    cat\n",
       "2  C:\\Users\\ricar\\Documents\\4Geeks_Projects\\Image...    cat\n",
       "3  C:\\Users\\ricar\\Documents\\4Geeks_Projects\\Image...    cat\n",
       "4  C:\\Users\\ricar\\Documents\\4Geeks_Projects\\Image...    cat"
      ]
     },
     "execution_count": 6,
     "metadata": {},
     "output_type": "execute_result"
    }
   ],
   "source": [
    "dataset.head()"
   ]
  },
  {
   "cell_type": "code",
   "execution_count": 7,
   "metadata": {},
   "outputs": [
    {
     "data": {
      "text/plain": [
       "target\n",
       "cat    12500\n",
       "dog    12500\n",
       "Name: count, dtype: int64"
      ]
     },
     "execution_count": 7,
     "metadata": {},
     "output_type": "execute_result"
    }
   ],
   "source": [
    "dataset['target'].value_counts()"
   ]
  },
  {
   "cell_type": "code",
   "execution_count": 8,
   "metadata": {},
   "outputs": [],
   "source": [
    "dataset = dataset[dataset['target'].isin(['dog', 'cat'])]"
   ]
  },
  {
   "cell_type": "code",
   "execution_count": 9,
   "metadata": {},
   "outputs": [
    {
     "name": "stdout",
     "output_type": "stream",
     "text": [
      "Number of dogs in the dataset:12500\n",
      "Number of cats in the dataset:12500\n"
     ]
    }
   ],
   "source": [
    "target_counts=dataset['target'].value_counts()\n",
    "print(\"Number of dogs in the dataset:{}\".format(target_counts['dog']))\n",
    "print(\"Number of cats in the dataset:{}\".format(target_counts['cat']))"
   ]
  },
  {
   "cell_type": "code",
   "execution_count": 10,
   "metadata": {},
   "outputs": [],
   "source": [
    "def show_model_history(modelHistory, model_name):\n",
    "    history=pd.DataFrame()\n",
    "    history[\"Train Loss\"]=modelHistory.history['loss']\n",
    "    history[\"Validatin Loss\"]=modelHistory.history['val_loss']\n",
    "    history[\"Train Accuracy\"]=modelHistory.history['accuracy']\n",
    "    history[\"Validatin Accuracy\"]=modelHistory.history['val_accuracy']\n",
    "  \n",
    "    history.plot(figsize=(12,8))\n",
    "    plt.title(\" Convulutional Model {} Train and Validation Loss and Accuracy History\".format(model_name))\n",
    "    plt.show()"
   ]
  },
  {
   "cell_type": "code",
   "execution_count": 19,
   "metadata": {},
   "outputs": [],
   "source": [
    "from keras.models import Sequential\n",
    "from keras.layers import Dense, MaxPool2D, Flatten, Conv2D\n",
    "\n",
    "model = Sequential()\n",
    "model.add(Conv2D(input_shape=(WIDTH, HEIGHT, 3), filters=64, kernel_size=(3, 3), padding=\"same\", activation=\"relu\"))\n",
    "model.add(Conv2D(filters=64, kernel_size=(3, 3), padding=\"same\", activation=\"relu\"))\n",
    "model.add(MaxPool2D(pool_size=(2, 2), strides=(2, 2)))\n",
    "model.add(Conv2D(filters=128, kernel_size=(3, 3), padding=\"same\", activation=\"relu\"))\n",
    "model.add(Conv2D(filters=128, kernel_size=(3, 3), padding=\"same\", activation=\"relu\"))\n",
    "model.add(MaxPool2D(pool_size=(2, 2), strides=(2, 2)))\n",
    "model.add(Conv2D(filters=256, kernel_size=(3, 3), padding=\"same\", activation=\"relu\"))\n",
    "model.add(Conv2D(filters=256, kernel_size=(3, 3), padding=\"same\", activation=\"relu\"))\n",
    "model.add(Conv2D(filters=256, kernel_size=(3, 3), padding=\"same\", activation=\"relu\"))\n",
    "model.add(MaxPool2D(pool_size=(2, 2), strides=(2, 2)))\n",
    "model.add(Conv2D(filters=512, kernel_size=(3, 3), padding=\"same\", activation=\"relu\"))\n",
    "model.add(Conv2D(filters=512, kernel_size=(3, 3), padding=\"same\", activation=\"relu\"))\n",
    "model.add(Conv2D(filters=512, kernel_size=(3, 3), padding=\"same\", activation=\"relu\"))\n",
    "model.add(MaxPool2D(pool_size=(2, 2), strides=(2, 2)))\n",
    "model.add(Conv2D(filters=512, kernel_size=(3, 3), padding=\"same\", activation=\"relu\"))\n",
    "model.add(Conv2D(filters=512, kernel_size=(3, 3), padding=\"same\", activation=\"relu\"))\n",
    "model.add(Conv2D(filters=512, kernel_size=(3, 3), padding=\"same\", activation=\"relu\"))\n",
    "model.add(MaxPool2D(pool_size=(2, 2), strides=(2, 2)))\n",
    "\n",
    "# Move the Data through the Dense Layers\n",
    "model.add(Flatten())\n",
    "model.add(Dense(units=4096, activation=\"relu\"))\n",
    "model.add(Dense(units=4096, activation=\"relu\"))\n",
    "model.add(Dense(units=2, activation=\"softmax\"))"
   ]
  },
  {
   "cell_type": "code",
   "execution_count": 20,
   "metadata": {},
   "outputs": [],
   "source": [
    "from keras.optimizers import Adam\n",
    "\n",
    "model.compile(optimizer = Adam(learning_rate = 0.0001), loss = \"categorical_crossentropy\", metrics = [\"accuracy\"])"
   ]
  },
  {
   "cell_type": "code",
   "execution_count": 21,
   "metadata": {},
   "outputs": [],
   "source": [
    "from sklearn.model_selection import train_test_split\n",
    "dataset_train, dataset_test=train_test_split(dataset, test_size=0.2, random_state=42)\n"
   ]
  },
  {
   "cell_type": "code",
   "execution_count": 22,
   "metadata": {},
   "outputs": [
    {
     "name": "stdout",
     "output_type": "stream",
     "text": [
      "Found 20000 validated image filenames belonging to 2 classes.\n"
     ]
    }
   ],
   "source": [
    "from keras.preprocessing.image import ImageDataGenerator\n",
    "\n",
    "train_datagen=ImageDataGenerator(\n",
    "rotation_range=15,\n",
    "rescale=1./255,\n",
    "shear_range=0.1,\n",
    "zoom_range=0.2,\n",
    "horizontal_flip=True,\n",
    "width_shift_range=0.1,\n",
    "height_shift_range=0.1)\n",
    "\n",
    "train_datagenerator = train_datagen.flow_from_dataframe(\n",
    "    dataframe=dataset_train,\n",
    "    x_col=\"image_path\",\n",
    "    y_col=\"target\",\n",
    "    target_size=(WIDTH, HEIGHT),\n",
    "    class_mode=\"categorical\",\n",
    "    batch_size=150\n",
    ")"
   ]
  },
  {
   "cell_type": "code",
   "execution_count": 23,
   "metadata": {},
   "outputs": [
    {
     "name": "stdout",
     "output_type": "stream",
     "text": [
      "Found 5000 validated image filenames belonging to 2 classes.\n"
     ]
    }
   ],
   "source": [
    "test_datagen=ImageDataGenerator(rescale=1./255)\n",
    "\n",
    "test_datagenerator = test_datagen.flow_from_dataframe(\n",
    "    dataframe=dataset_test,\n",
    "    x_col=\"image_path\",\n",
    "    y_col=\"target\",\n",
    "    target_size=(WIDTH, HEIGHT),\n",
    "    class_mode=\"categorical\",\n",
    "    batch_size=150\n",
    ")"
   ]
  },
  {
   "cell_type": "code",
   "execution_count": 24,
   "metadata": {},
   "outputs": [
    {
     "name": "stdout",
     "output_type": "stream",
     "text": [
      "Epoch 1/2\n",
      "133/133 [==============================] - 2065s 16s/step - loss: 0.6696 - accuracy: 0.5690 - val_loss: 0.6860 - val_accuracy: 0.6026\n",
      "Epoch 2/2\n",
      "133/133 [==============================] - 2009s 15s/step - loss: 0.6199 - accuracy: 0.6501 - val_loss: 0.6375 - val_accuracy: 0.6457\n"
     ]
    }
   ],
   "source": [
    "modelHistory = model.fit(\n",
    "    train_datagenerator,\n",
    "    epochs=2,\n",
    "    validation_data=test_datagenerator,\n",
    "    validation_steps=dataset_test.shape[0]//150, \n",
    "    steps_per_epoch=dataset_train.shape[0]//150\n",
    ")"
   ]
  },
  {
   "cell_type": "code",
   "execution_count": 25,
   "metadata": {},
   "outputs": [
    {
     "name": "stderr",
     "output_type": "stream",
     "text": [
      "c:\\Users\\ricar\\AppData\\Local\\Programs\\Python\\Python311\\Lib\\site-packages\\keras\\src\\engine\\training.py:3103: UserWarning: You are saving your model as an HDF5 file via `model.save()`. This file format is considered legacy. We recommend using instead the native Keras format, e.g. `model.save('my_model.keras')`.\n",
      "  saving_api.save_model(\n"
     ]
    }
   ],
   "source": [
    "model.save(\"model.h5\")\n"
   ]
  },
  {
   "cell_type": "code",
   "execution_count": 27,
   "metadata": {},
   "outputs": [
    {
     "data": {
      "image/png": "[encoded data removed]",
      "text/plain": [
       "<Figure size 640x480 with 1 Axes>"
      ]
     },
     "metadata": {},
     "output_type": "display_data"
    }
   ],
   "source": [
    "plt.plot(modelHistory.history[\"accuracy\"])\n",
    "plt.plot(modelHistory.history[\"val_accuracy\"])\n",
    "plt.plot(modelHistory.history[\"loss\"])\n",
    "plt.plot(modelHistory.history[\"val_loss\"])\n",
    "\n",
    "# Configure the Plot Layout\n",
    "plt.title(\"Model Accuracy and Loss\")\n",
    "plt.ylabel(\"Accuracy / Loss\")\n",
    "plt.xlabel(\"Epoch\")\n",
    "plt.legend([\"Accuracy\", \"Validation Accuracy\", \"Loss\", \"Validation Loss\"])\n",
    "\n",
    "# Show the Plot\n",
    "plt.show()"
   ]
  },
  {
   "cell_type": "code",
   "execution_count": 31,
   "metadata": {},
   "outputs": [
    {
     "name": "stdout",
     "output_type": "stream",
     "text": [
      "34/34 [==============================] - 107s 3s/step\n"
     ]
    }
   ],
   "source": [
    "predictions = model.predict(test_datagenerator)\n"
   ]
  }
 ],
 "metadata": {
  "kernelspec": {
   "display_name": "Python 3",
   "language": "python",
   "name": "python3"
  },
  "language_info": {
   "codemirror_mode": {
    "name": "ipython",
    "version": 3
   },
   "file_extension": ".py",
   "mimetype": "text/x-python",
   "name": "python",
   "nbconvert_exporter": "python",
   "pygments_lexer": "ipython3",
   "version": "3.11.7"
  }
 },
 "nbformat": 4,
 "nbformat_minor": 2
}
