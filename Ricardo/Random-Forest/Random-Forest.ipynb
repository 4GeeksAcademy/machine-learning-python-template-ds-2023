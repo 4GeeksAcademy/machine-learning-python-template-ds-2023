{
 "cells": [
  {
   "cell_type": "code",
   "execution_count": 1,
   "metadata": {},
   "outputs": [],
   "source": [
    "import pandas as pd\n",
    "import numpy as np\n",
    "import matplotlib.pyplot as plt\n",
    "import seaborn as sns"
   ]
  },
  {
   "cell_type": "code",
   "execution_count": 2,
   "metadata": {},
   "outputs": [
    {
     "data": {
      "text/html": [
       "<div>\n",
       "<style scoped>\n",
       "    .dataframe tbody tr th:only-of-type {\n",
       "        vertical-align: middle;\n",
       "    }\n",
       "\n",
       "    .dataframe tbody tr th {\n",
       "        vertical-align: top;\n",
       "    }\n",
       "\n",
       "    .dataframe thead th {\n",
       "        text-align: right;\n",
       "    }\n",
       "</style>\n",
       "<table border=\"1\" class=\"dataframe\">\n",
       "  <thead>\n",
       "    <tr style=\"text-align: right;\">\n",
       "      <th></th>\n",
       "      <th>Pregnancies</th>\n",
       "      <th>Glucose</th>\n",
       "      <th>BloodPressure</th>\n",
       "      <th>SkinThickness</th>\n",
       "      <th>Insulin</th>\n",
       "      <th>BMI</th>\n",
       "      <th>DiabetesPedigreeFunction</th>\n",
       "      <th>Age</th>\n",
       "      <th>Outcome</th>\n",
       "    </tr>\n",
       "  </thead>\n",
       "  <tbody>\n",
       "    <tr>\n",
       "      <th>0</th>\n",
       "      <td>6</td>\n",
       "      <td>148</td>\n",
       "      <td>72</td>\n",
       "      <td>35</td>\n",
       "      <td>0</td>\n",
       "      <td>33.6</td>\n",
       "      <td>0.627</td>\n",
       "      <td>50</td>\n",
       "      <td>1</td>\n",
       "    </tr>\n",
       "    <tr>\n",
       "      <th>1</th>\n",
       "      <td>1</td>\n",
       "      <td>85</td>\n",
       "      <td>66</td>\n",
       "      <td>29</td>\n",
       "      <td>0</td>\n",
       "      <td>26.6</td>\n",
       "      <td>0.351</td>\n",
       "      <td>31</td>\n",
       "      <td>0</td>\n",
       "    </tr>\n",
       "    <tr>\n",
       "      <th>2</th>\n",
       "      <td>8</td>\n",
       "      <td>183</td>\n",
       "      <td>64</td>\n",
       "      <td>0</td>\n",
       "      <td>0</td>\n",
       "      <td>23.3</td>\n",
       "      <td>0.672</td>\n",
       "      <td>32</td>\n",
       "      <td>1</td>\n",
       "    </tr>\n",
       "    <tr>\n",
       "      <th>3</th>\n",
       "      <td>1</td>\n",
       "      <td>89</td>\n",
       "      <td>66</td>\n",
       "      <td>23</td>\n",
       "      <td>94</td>\n",
       "      <td>28.1</td>\n",
       "      <td>0.167</td>\n",
       "      <td>21</td>\n",
       "      <td>0</td>\n",
       "    </tr>\n",
       "    <tr>\n",
       "      <th>4</th>\n",
       "      <td>0</td>\n",
       "      <td>137</td>\n",
       "      <td>40</td>\n",
       "      <td>35</td>\n",
       "      <td>168</td>\n",
       "      <td>43.1</td>\n",
       "      <td>2.288</td>\n",
       "      <td>33</td>\n",
       "      <td>1</td>\n",
       "    </tr>\n",
       "  </tbody>\n",
       "</table>\n",
       "</div>"
      ],
      "text/plain": [
       "   Pregnancies  Glucose  BloodPressure  SkinThickness  Insulin   BMI  \\\n",
       "0            6      148             72             35        0  33.6   \n",
       "1            1       85             66             29        0  26.6   \n",
       "2            8      183             64              0        0  23.3   \n",
       "3            1       89             66             23       94  28.1   \n",
       "4            0      137             40             35      168  43.1   \n",
       "\n",
       "   DiabetesPedigreeFunction  Age  Outcome  \n",
       "0                     0.627   50        1  \n",
       "1                     0.351   31        0  \n",
       "2                     0.672   32        1  \n",
       "3                     0.167   21        0  \n",
       "4                     2.288   33        1  "
      ]
     },
     "execution_count": 2,
     "metadata": {},
     "output_type": "execute_result"
    }
   ],
   "source": [
    "diabetes_data = pd.read_csv('/workspaces/machine-learning-python-template-ds-2023/Ricardo/Random-Forest/diabetes.csv')\n",
    "diabetes_data.head()"
   ]
  },
  {
   "cell_type": "code",
   "execution_count": 3,
   "metadata": {},
   "outputs": [],
   "source": [
    "impute_cols = ['Glucose', 'BloodPressure', 'SkinThickness', 'Insulin', 'BMI']\n",
    "\n",
    "for col in impute_cols:\n",
    "    diabetes_data[col] = diabetes_data[col].replace(0, diabetes_data[col].mean())"
   ]
  },
  {
   "cell_type": "code",
   "execution_count": 6,
   "metadata": {},
   "outputs": [],
   "source": [
    "from sklearn.model_selection import train_test_split"
   ]
  },
  {
   "cell_type": "code",
   "execution_count": 7,
   "metadata": {},
   "outputs": [],
   "source": [
    "x = diabetes_data.drop('Outcome', axis=1)\n",
    "y = diabetes_data['Outcome']\n",
    "\n",
    "x_train, x_test, y_train, y_test = train_test_split(x, y, test_size=0.2, random_state=42)"
   ]
  },
  {
   "cell_type": "code",
   "execution_count": 8,
   "metadata": {},
   "outputs": [],
   "source": [
    "from sklearn.ensemble import RandomForestClassifier"
   ]
  },
  {
   "cell_type": "code",
   "execution_count": 9,
   "metadata": {},
   "outputs": [
    {
     "data": {
      "text/html": [
       "<style>#sk-container-id-1 {color: black;}#sk-container-id-1 pre{padding: 0;}#sk-container-id-1 div.sk-toggleable {background-color: white;}#sk-container-id-1 label.sk-toggleable__label {cursor: pointer;display: block;width: 100%;margin-bottom: 0;padding: 0.3em;box-sizing: border-box;text-align: center;}#sk-container-id-1 label.sk-toggleable__label-arrow:before {content: \"▸\";float: left;margin-right: 0.25em;color: #696969;}#sk-container-id-1 label.sk-toggleable__label-arrow:hover:before {color: black;}#sk-container-id-1 div.sk-estimator:hover label.sk-toggleable__label-arrow:before {color: black;}#sk-container-id-1 div.sk-toggleable__content {max-height: 0;max-width: 0;overflow: hidden;text-align: left;background-color: #f0f8ff;}#sk-container-id-1 div.sk-toggleable__content pre {margin: 0.2em;color: black;border-radius: 0.25em;background-color: #f0f8ff;}#sk-container-id-1 input.sk-toggleable__control:checked~div.sk-toggleable__content {max-height: 200px;max-width: 100%;overflow: auto;}#sk-container-id-1 input.sk-toggleable__control:checked~label.sk-toggleable__label-arrow:before {content: \"▾\";}#sk-container-id-1 div.sk-estimator input.sk-toggleable__control:checked~label.sk-toggleable__label {background-color: #d4ebff;}#sk-container-id-1 div.sk-label input.sk-toggleable__control:checked~label.sk-toggleable__label {background-color: #d4ebff;}#sk-container-id-1 input.sk-hidden--visually {border: 0;clip: rect(1px 1px 1px 1px);clip: rect(1px, 1px, 1px, 1px);height: 1px;margin: -1px;overflow: hidden;padding: 0;position: absolute;width: 1px;}#sk-container-id-1 div.sk-estimator {font-family: monospace;background-color: #f0f8ff;border: 1px dotted black;border-radius: 0.25em;box-sizing: border-box;margin-bottom: 0.5em;}#sk-container-id-1 div.sk-estimator:hover {background-color: #d4ebff;}#sk-container-id-1 div.sk-parallel-item::after {content: \"\";width: 100%;border-bottom: 1px solid gray;flex-grow: 1;}#sk-container-id-1 div.sk-label:hover label.sk-toggleable__label {background-color: #d4ebff;}#sk-container-id-1 div.sk-serial::before {content: \"\";position: absolute;border-left: 1px solid gray;box-sizing: border-box;top: 0;bottom: 0;left: 50%;z-index: 0;}#sk-container-id-1 div.sk-serial {display: flex;flex-direction: column;align-items: center;background-color: white;padding-right: 0.2em;padding-left: 0.2em;position: relative;}#sk-container-id-1 div.sk-item {position: relative;z-index: 1;}#sk-container-id-1 div.sk-parallel {display: flex;align-items: stretch;justify-content: center;background-color: white;position: relative;}#sk-container-id-1 div.sk-item::before, #sk-container-id-1 div.sk-parallel-item::before {content: \"\";position: absolute;border-left: 1px solid gray;box-sizing: border-box;top: 0;bottom: 0;left: 50%;z-index: -1;}#sk-container-id-1 div.sk-parallel-item {display: flex;flex-direction: column;z-index: 1;position: relative;background-color: white;}#sk-container-id-1 div.sk-parallel-item:first-child::after {align-self: flex-end;width: 50%;}#sk-container-id-1 div.sk-parallel-item:last-child::after {align-self: flex-start;width: 50%;}#sk-container-id-1 div.sk-parallel-item:only-child::after {width: 0;}#sk-container-id-1 div.sk-dashed-wrapped {border: 1px dashed gray;margin: 0 0.4em 0.5em 0.4em;box-sizing: border-box;padding-bottom: 0.4em;background-color: white;}#sk-container-id-1 div.sk-label label {font-family: monospace;font-weight: bold;display: inline-block;line-height: 1.2em;}#sk-container-id-1 div.sk-label-container {text-align: center;}#sk-container-id-1 div.sk-container {/* jupyter's `normalize.less` sets `[hidden] { display: none; }` but bootstrap.min.css set `[hidden] { display: none !important; }` so we also need the `!important` here to be able to override the default hidden behavior on the sphinx rendered scikit-learn.org. See: https://github.com/scikit-learn/scikit-learn/issues/21755 */display: inline-block !important;position: relative;}#sk-container-id-1 div.sk-text-repr-fallback {display: none;}</style><div id=\"sk-container-id-1\" class=\"sk-top-container\"><div class=\"sk-text-repr-fallback\"><pre>RandomForestClassifier(random_state=42)</pre><b>In a Jupyter environment, please rerun this cell to show the HTML representation or trust the notebook. <br />On GitHub, the HTML representation is unable to render, please try loading this page with nbviewer.org.</b></div><div class=\"sk-container\" hidden><div class=\"sk-item\"><div class=\"sk-estimator sk-toggleable\"><input class=\"sk-toggleable__control sk-hidden--visually\" id=\"sk-estimator-id-1\" type=\"checkbox\" checked><label for=\"sk-estimator-id-1\" class=\"sk-toggleable__label sk-toggleable__label-arrow\">RandomForestClassifier</label><div class=\"sk-toggleable__content\"><pre>RandomForestClassifier(random_state=42)</pre></div></div></div></div></div>"
      ],
      "text/plain": [
       "RandomForestClassifier(random_state=42)"
      ]
     },
     "execution_count": 9,
     "metadata": {},
     "output_type": "execute_result"
    }
   ],
   "source": [
    "model = RandomForestClassifier(n_estimators=100, random_state=42)\n",
    "model.fit(x_train, y_train)\n"
   ]
  },
  {
   "cell_type": "code",
   "execution_count": 13,
   "metadata": {},
   "outputs": [
    {
     "data": {
      "text/plain": [
       "array([0, 1, 0, 0, 1, 0, 1, 1, 0, 0, 0, 1, 0, 0, 0, 1, 0, 1, 1, 0, 0, 0,\n",
       "       0, 0, 1, 1, 0, 0, 0, 1, 1, 0, 0, 0, 1, 0, 1, 0, 1, 0, 0, 0, 0, 0,\n",
       "       1, 1, 0, 0, 1, 0, 0, 0, 0, 0, 1, 1, 0, 0, 0, 0, 1, 0, 0, 1, 0, 0,\n",
       "       1, 0, 0, 0, 0, 0, 1, 1, 0, 0, 0, 0, 0, 1, 0, 0, 0, 0, 1, 1, 0, 0,\n",
       "       1, 0, 0, 0, 0, 0, 0, 0, 1, 0, 1, 0, 0, 0, 0, 1, 0, 0, 0, 1, 0, 0,\n",
       "       0, 0, 0, 0, 0, 0, 0, 0, 1, 1, 0, 0, 0, 1, 0, 0, 0, 1, 1, 1, 0, 0,\n",
       "       1, 1, 0, 0, 0, 0, 1, 0, 1, 0, 0, 1, 1, 0, 0, 1, 1, 0, 0, 0, 0, 0,\n",
       "       0, 1, 0, 1, 1, 0, 0, 0, 1, 0, 0, 0, 1, 1, 1, 0, 1, 0, 0, 0, 0, 0,\n",
       "       0, 0, 0, 1, 1, 0, 1, 1, 0, 0, 1, 0, 0, 1, 1, 1, 0, 0, 0, 0, 0, 1,\n",
       "       0, 1, 0, 0, 0, 0, 0, 0, 0, 1, 1, 0, 0, 0, 0, 0, 0, 0, 1, 0, 1, 1,\n",
       "       1, 0, 0, 0, 0, 0, 1, 1, 1, 1, 0, 0, 1, 0, 0, 1, 1, 0, 1, 1, 0, 1,\n",
       "       0, 0, 0, 1, 0, 1, 0, 1, 0, 0, 0, 1, 1, 0, 1, 0, 0, 1, 0, 1, 0, 0,\n",
       "       1, 0, 0, 1, 0, 0, 1, 0, 1, 1, 0, 0, 0, 0, 1, 1, 0, 1, 0, 0, 1, 0,\n",
       "       1, 0, 1, 0, 0, 0, 0, 1, 1, 1, 1, 1, 0, 0, 0, 0, 1, 1, 0, 0, 0, 1,\n",
       "       0, 1, 0, 0, 0, 0, 0, 1, 1, 0, 1, 1, 1, 1, 1, 0, 0, 0, 0, 0, 1, 1,\n",
       "       0, 1, 1, 0, 0, 1, 0, 1, 0, 0, 0, 0, 0, 0, 1, 0, 1, 0, 0, 0, 1, 0,\n",
       "       1, 1, 1, 0, 0, 0, 0, 0, 0, 0, 0, 0, 0, 0, 1, 0, 0, 0, 1, 0, 1, 0,\n",
       "       0, 1, 0, 1, 0, 0, 0, 1, 0, 0, 1, 0, 0, 0, 0, 1, 0, 0, 0, 0, 0, 1,\n",
       "       0, 0, 0, 0, 0, 0, 0, 0, 1, 1, 0, 0, 0, 1, 0, 0, 1, 0, 1, 0, 1, 1,\n",
       "       0, 0, 0, 0, 0, 1, 1, 1, 1, 0, 0, 0, 1, 1, 1, 1, 0, 1, 0, 0, 0, 0,\n",
       "       0, 0, 0, 0, 0, 0, 0, 0, 1, 0, 0, 0, 0, 0, 0, 0, 0, 0, 1, 0, 0, 0,\n",
       "       0, 0, 1, 0, 0, 0, 1, 0, 1, 1, 0, 0, 1, 1, 0, 0, 1, 0, 0, 0, 0, 0,\n",
       "       0, 1, 1, 0, 1, 0, 0, 1, 1, 0, 1, 1, 0, 0, 1, 1, 0, 0, 0, 0, 0, 1,\n",
       "       1, 0, 1, 0, 0, 1, 1, 1, 0, 0, 0, 1, 1, 0, 0, 1, 1, 0, 0, 0, 0, 1,\n",
       "       1, 0, 1, 0, 0, 0, 1, 0, 1, 0, 0, 0, 0, 1, 0, 0, 0, 0, 0, 1, 0, 0,\n",
       "       0, 0, 1, 0, 1, 0, 1, 0, 0, 0, 1, 0, 0, 1, 0, 0, 1, 1, 1, 1, 0, 1,\n",
       "       0, 0, 0, 1, 0, 0, 1, 1, 0, 0, 1, 0, 0, 0, 0, 0, 1, 0, 0, 0, 0, 0,\n",
       "       1, 1, 1, 1, 1, 0, 0, 1, 0, 1, 0, 0, 1, 0, 0, 0, 0, 1, 1, 0])"
      ]
     },
     "execution_count": 13,
     "metadata": {},
     "output_type": "execute_result"
    }
   ],
   "source": [
    "y_pred = model.predict(x_test)\n",
    "y_pred\n",
    "\n",
    "y_pred_in = model.predict(x_train)\n",
    "y_pred_in"
   ]
  },
  {
   "cell_type": "code",
   "execution_count": 14,
   "metadata": {},
   "outputs": [
    {
     "name": "stdout",
     "output_type": "stream",
     "text": [
      "Accuracy Score:  0.7662337662337663\n",
      "Accuracy Score:  1.0\n"
     ]
    }
   ],
   "source": [
    "from sklearn.metrics import accuracy_score\n",
    "\n",
    "print('Accuracy Score: ', accuracy_score(y_test, y_pred))\n",
    "print('Accuracy Score: ', accuracy_score(y_train, y_pred_in))"
   ]
  },
  {
   "cell_type": "code",
   "execution_count": 15,
   "metadata": {},
   "outputs": [
    {
     "name": "stdout",
     "output_type": "stream",
     "text": [
      "Fitting 5 folds for each of 36 candidates, totalling 180 fits\n",
      "[CV 1/5] END max_depth=5, max_features=auto, n_estimators=100;, score=nan total time=   0.0s\n",
      "[CV 2/5] END max_depth=5, max_features=auto, n_estimators=100;, score=nan total time=   0.0s\n",
      "[CV 3/5] END max_depth=5, max_features=auto, n_estimators=100;, score=nan total time=   0.0s\n",
      "[CV 4/5] END max_depth=5, max_features=auto, n_estimators=100;, score=nan total time=   0.0s\n",
      "[CV 5/5] END max_depth=5, max_features=auto, n_estimators=100;, score=nan total time=   0.0s\n",
      "[CV 1/5] END max_depth=5, max_features=auto, n_estimators=200;, score=nan total time=   0.0s\n",
      "[CV 2/5] END max_depth=5, max_features=auto, n_estimators=200;, score=nan total time=   0.0s\n",
      "[CV 3/5] END max_depth=5, max_features=auto, n_estimators=200;, score=nan total time=   0.0s\n",
      "[CV 4/5] END max_depth=5, max_features=auto, n_estimators=200;, score=nan total time=   0.0s\n",
      "[CV 5/5] END max_depth=5, max_features=auto, n_estimators=200;, score=nan total time=   0.0s\n",
      "[CV 1/5] END max_depth=5, max_features=auto, n_estimators=300;, score=nan total time=   0.0s\n",
      "[CV 2/5] END max_depth=5, max_features=auto, n_estimators=300;, score=nan total time=   0.0s\n",
      "[CV 3/5] END max_depth=5, max_features=auto, n_estimators=300;, score=nan total time=   0.0s\n",
      "[CV 4/5] END max_depth=5, max_features=auto, n_estimators=300;, score=nan total time=   0.0s\n",
      "[CV 5/5] END max_depth=5, max_features=auto, n_estimators=300;, score=nan total time=   0.0s\n",
      "[CV 1/5] END max_depth=5, max_features=sqrt, n_estimators=100;, score=0.756 total time=   0.1s\n",
      "[CV 2/5] END max_depth=5, max_features=sqrt, n_estimators=100;, score=0.829 total time=   0.1s\n",
      "[CV 3/5] END max_depth=5, max_features=sqrt, n_estimators=100;, score=0.789 total time=   0.1s\n",
      "[CV 4/5] END max_depth=5, max_features=sqrt, n_estimators=100;, score=0.715 total time=   0.1s\n",
      "[CV 5/5] END max_depth=5, max_features=sqrt, n_estimators=100;, score=0.754 total time=   0.1s\n",
      "[CV 1/5] END max_depth=5, max_features=sqrt, n_estimators=200;, score=0.732 total time=   0.3s\n",
      "[CV 2/5] END max_depth=5, max_features=sqrt, n_estimators=200;, score=0.821 total time=   0.3s\n",
      "[CV 3/5] END max_depth=5, max_features=sqrt, n_estimators=200;, score=0.772 total time=   0.3s\n",
      "[CV 4/5] END max_depth=5, max_features=sqrt, n_estimators=200;, score=0.724 total time=   0.2s\n",
      "[CV 5/5] END max_depth=5, max_features=sqrt, n_estimators=200;, score=0.779 total time=   0.2s\n",
      "[CV 1/5] END max_depth=5, max_features=sqrt, n_estimators=300;, score=0.756 total time=   0.4s\n",
      "[CV 2/5] END max_depth=5, max_features=sqrt, n_estimators=300;, score=0.805 total time=   0.3s\n",
      "[CV 3/5] END max_depth=5, max_features=sqrt, n_estimators=300;, score=0.764 total time=   0.3s\n",
      "[CV 4/5] END max_depth=5, max_features=sqrt, n_estimators=300;, score=0.724 total time=   0.3s\n",
      "[CV 5/5] END max_depth=5, max_features=sqrt, n_estimators=300;, score=0.770 total time=   0.4s\n",
      "[CV 1/5] END max_depth=5, max_features=log2, n_estimators=100;, score=0.756 total time=   0.1s\n",
      "[CV 2/5] END max_depth=5, max_features=log2, n_estimators=100;, score=0.805 total time=   0.1s\n",
      "[CV 3/5] END max_depth=5, max_features=log2, n_estimators=100;, score=0.780 total time=   0.1s\n",
      "[CV 4/5] END max_depth=5, max_features=log2, n_estimators=100;, score=0.715 total time=   0.1s\n",
      "[CV 5/5] END max_depth=5, max_features=log2, n_estimators=100;, score=0.770 total time=   0.1s\n",
      "[CV 1/5] END max_depth=5, max_features=log2, n_estimators=200;, score=0.748 total time=   0.2s\n",
      "[CV 2/5] END max_depth=5, max_features=log2, n_estimators=200;, score=0.821 total time=   0.2s\n",
      "[CV 3/5] END max_depth=5, max_features=log2, n_estimators=200;, score=0.764 total time=   0.2s\n",
      "[CV 4/5] END max_depth=5, max_features=log2, n_estimators=200;, score=0.732 total time=   0.3s\n",
      "[CV 5/5] END max_depth=5, max_features=log2, n_estimators=200;, score=0.795 total time=   0.2s\n",
      "[CV 1/5] END max_depth=5, max_features=log2, n_estimators=300;, score=0.764 total time=   0.4s\n",
      "[CV 2/5] END max_depth=5, max_features=log2, n_estimators=300;, score=0.813 total time=   0.4s\n",
      "[CV 3/5] END max_depth=5, max_features=log2, n_estimators=300;, score=0.764 total time=   0.4s\n",
      "[CV 4/5] END max_depth=5, max_features=log2, n_estimators=300;, score=0.740 total time=   0.4s\n",
      "[CV 5/5] END max_depth=5, max_features=log2, n_estimators=300;, score=0.795 total time=   0.4s\n",
      "[CV 1/5] END max_depth=10, max_features=auto, n_estimators=100;, score=nan total time=   0.0s\n",
      "[CV 2/5] END max_depth=10, max_features=auto, n_estimators=100;, score=nan total time=   0.0s\n",
      "[CV 3/5] END max_depth=10, max_features=auto, n_estimators=100;, score=nan total time=   0.0s\n",
      "[CV 4/5] END max_depth=10, max_features=auto, n_estimators=100;, score=nan total time=   0.0s\n",
      "[CV 5/5] END max_depth=10, max_features=auto, n_estimators=100;, score=nan total time=   0.0s\n",
      "[CV 1/5] END max_depth=10, max_features=auto, n_estimators=200;, score=nan total time=   0.0s\n",
      "[CV 2/5] END max_depth=10, max_features=auto, n_estimators=200;, score=nan total time=   0.0s\n",
      "[CV 3/5] END max_depth=10, max_features=auto, n_estimators=200;, score=nan total time=   0.0s\n",
      "[CV 4/5] END max_depth=10, max_features=auto, n_estimators=200;, score=nan total time=   0.0s\n",
      "[CV 5/5] END max_depth=10, max_features=auto, n_estimators=200;, score=nan total time=   0.0s\n",
      "[CV 1/5] END max_depth=10, max_features=auto, n_estimators=300;, score=nan total time=   0.0s\n",
      "[CV 2/5] END max_depth=10, max_features=auto, n_estimators=300;, score=nan total time=   0.0s\n",
      "[CV 3/5] END max_depth=10, max_features=auto, n_estimators=300;, score=nan total time=   0.0s\n",
      "[CV 4/5] END max_depth=10, max_features=auto, n_estimators=300;, score=nan total time=   0.0s\n",
      "[CV 5/5] END max_depth=10, max_features=auto, n_estimators=300;, score=nan total time=   0.0s\n",
      "[CV 1/5] END max_depth=10, max_features=sqrt, n_estimators=100;, score=0.732 total time=   0.1s\n",
      "[CV 2/5] END max_depth=10, max_features=sqrt, n_estimators=100;, score=0.846 total time=   0.1s\n",
      "[CV 3/5] END max_depth=10, max_features=sqrt, n_estimators=100;, score=0.748 total time=   0.2s\n",
      "[CV 4/5] END max_depth=10, max_features=sqrt, n_estimators=100;, score=0.724 total time=   0.2s\n",
      "[CV 5/5] END max_depth=10, max_features=sqrt, n_estimators=100;, score=0.754 total time=   0.1s\n",
      "[CV 1/5] END max_depth=10, max_features=sqrt, n_estimators=200;, score=0.772 total time=   0.2s\n",
      "[CV 2/5] END max_depth=10, max_features=sqrt, n_estimators=200;, score=0.813 total time=   0.2s\n",
      "[CV 3/5] END max_depth=10, max_features=sqrt, n_estimators=200;, score=0.756 total time=   0.2s\n",
      "[CV 4/5] END max_depth=10, max_features=sqrt, n_estimators=200;, score=0.732 total time=   0.3s\n",
      "[CV 5/5] END max_depth=10, max_features=sqrt, n_estimators=200;, score=0.754 total time=   0.2s\n",
      "[CV 1/5] END max_depth=10, max_features=sqrt, n_estimators=300;, score=0.772 total time=   0.4s\n",
      "[CV 2/5] END max_depth=10, max_features=sqrt, n_estimators=300;, score=0.805 total time=   0.4s\n",
      "[CV 3/5] END max_depth=10, max_features=sqrt, n_estimators=300;, score=0.756 total time=   0.4s\n",
      "[CV 4/5] END max_depth=10, max_features=sqrt, n_estimators=300;, score=0.724 total time=   0.4s\n",
      "[CV 5/5] END max_depth=10, max_features=sqrt, n_estimators=300;, score=0.779 total time=   0.4s\n",
      "[CV 1/5] END max_depth=10, max_features=log2, n_estimators=100;, score=0.748 total time=   0.1s\n",
      "[CV 2/5] END max_depth=10, max_features=log2, n_estimators=100;, score=0.821 total time=   0.1s\n",
      "[CV 3/5] END max_depth=10, max_features=log2, n_estimators=100;, score=0.764 total time=   0.1s\n",
      "[CV 4/5] END max_depth=10, max_features=log2, n_estimators=100;, score=0.724 total time=   0.1s\n",
      "[CV 5/5] END max_depth=10, max_features=log2, n_estimators=100;, score=0.754 total time=   0.1s\n",
      "[CV 1/5] END max_depth=10, max_features=log2, n_estimators=200;, score=0.780 total time=   0.3s\n",
      "[CV 2/5] END max_depth=10, max_features=log2, n_estimators=200;, score=0.789 total time=   0.3s\n",
      "[CV 3/5] END max_depth=10, max_features=log2, n_estimators=200;, score=0.772 total time=   0.3s\n",
      "[CV 4/5] END max_depth=10, max_features=log2, n_estimators=200;, score=0.740 total time=   0.3s\n",
      "[CV 5/5] END max_depth=10, max_features=log2, n_estimators=200;, score=0.754 total time=   0.3s\n",
      "[CV 1/5] END max_depth=10, max_features=log2, n_estimators=300;, score=0.772 total time=   0.4s\n",
      "[CV 2/5] END max_depth=10, max_features=log2, n_estimators=300;, score=0.821 total time=   0.4s\n",
      "[CV 3/5] END max_depth=10, max_features=log2, n_estimators=300;, score=0.772 total time=   0.5s\n",
      "[CV 4/5] END max_depth=10, max_features=log2, n_estimators=300;, score=0.740 total time=   0.4s\n",
      "[CV 5/5] END max_depth=10, max_features=log2, n_estimators=300;, score=0.754 total time=   0.4s\n",
      "[CV 1/5] END max_depth=20, max_features=auto, n_estimators=100;, score=nan total time=   0.0s\n",
      "[CV 2/5] END max_depth=20, max_features=auto, n_estimators=100;, score=nan total time=   0.0s\n",
      "[CV 3/5] END max_depth=20, max_features=auto, n_estimators=100;, score=nan total time=   0.0s\n",
      "[CV 4/5] END max_depth=20, max_features=auto, n_estimators=100;, score=nan total time=   0.0s\n",
      "[CV 5/5] END max_depth=20, max_features=auto, n_estimators=100;, score=nan total time=   0.0s\n",
      "[CV 1/5] END max_depth=20, max_features=auto, n_estimators=200;, score=nan total time=   0.0s\n",
      "[CV 2/5] END max_depth=20, max_features=auto, n_estimators=200;, score=nan total time=   0.0s\n",
      "[CV 3/5] END max_depth=20, max_features=auto, n_estimators=200;, score=nan total time=   0.0s\n",
      "[CV 4/5] END max_depth=20, max_features=auto, n_estimators=200;, score=nan total time=   0.0s\n",
      "[CV 5/5] END max_depth=20, max_features=auto, n_estimators=200;, score=nan total time=   0.0s\n",
      "[CV 1/5] END max_depth=20, max_features=auto, n_estimators=300;, score=nan total time=   0.0s\n",
      "[CV 2/5] END max_depth=20, max_features=auto, n_estimators=300;, score=nan total time=   0.0s\n",
      "[CV 3/5] END max_depth=20, max_features=auto, n_estimators=300;, score=nan total time=   0.0s\n",
      "[CV 4/5] END max_depth=20, max_features=auto, n_estimators=300;, score=nan total time=   0.0s\n",
      "[CV 5/5] END max_depth=20, max_features=auto, n_estimators=300;, score=nan total time=   0.0s\n",
      "[CV 1/5] END max_depth=20, max_features=sqrt, n_estimators=100;, score=0.764 total time=   0.1s\n",
      "[CV 2/5] END max_depth=20, max_features=sqrt, n_estimators=100;, score=0.797 total time=   0.2s\n",
      "[CV 3/5] END max_depth=20, max_features=sqrt, n_estimators=100;, score=0.764 total time=   0.2s\n",
      "[CV 4/5] END max_depth=20, max_features=sqrt, n_estimators=100;, score=0.740 total time=   0.2s\n",
      "[CV 5/5] END max_depth=20, max_features=sqrt, n_estimators=100;, score=0.770 total time=   0.1s\n",
      "[CV 1/5] END max_depth=20, max_features=sqrt, n_estimators=200;, score=0.772 total time=   0.3s\n",
      "[CV 2/5] END max_depth=20, max_features=sqrt, n_estimators=200;, score=0.805 total time=   0.3s\n",
      "[CV 3/5] END max_depth=20, max_features=sqrt, n_estimators=200;, score=0.748 total time=   0.3s\n",
      "[CV 4/5] END max_depth=20, max_features=sqrt, n_estimators=200;, score=0.748 total time=   0.3s\n",
      "[CV 5/5] END max_depth=20, max_features=sqrt, n_estimators=200;, score=0.795 total time=   0.3s\n",
      "[CV 1/5] END max_depth=20, max_features=sqrt, n_estimators=300;, score=0.756 total time=   0.4s\n",
      "[CV 2/5] END max_depth=20, max_features=sqrt, n_estimators=300;, score=0.821 total time=   0.4s\n",
      "[CV 3/5] END max_depth=20, max_features=sqrt, n_estimators=300;, score=0.756 total time=   0.4s\n",
      "[CV 4/5] END max_depth=20, max_features=sqrt, n_estimators=300;, score=0.715 total time=   0.4s\n",
      "[CV 5/5] END max_depth=20, max_features=sqrt, n_estimators=300;, score=0.738 total time=   0.4s\n",
      "[CV 1/5] END max_depth=20, max_features=log2, n_estimators=100;, score=0.748 total time=   0.1s\n",
      "[CV 2/5] END max_depth=20, max_features=log2, n_estimators=100;, score=0.821 total time=   0.1s\n",
      "[CV 3/5] END max_depth=20, max_features=log2, n_estimators=100;, score=0.756 total time=   0.1s\n",
      "[CV 4/5] END max_depth=20, max_features=log2, n_estimators=100;, score=0.732 total time=   0.1s\n",
      "[CV 5/5] END max_depth=20, max_features=log2, n_estimators=100;, score=0.770 total time=   0.1s\n",
      "[CV 1/5] END max_depth=20, max_features=log2, n_estimators=200;, score=0.772 total time=   0.3s\n",
      "[CV 2/5] END max_depth=20, max_features=log2, n_estimators=200;, score=0.821 total time=   0.3s\n",
      "[CV 3/5] END max_depth=20, max_features=log2, n_estimators=200;, score=0.740 total time=   0.3s\n",
      "[CV 4/5] END max_depth=20, max_features=log2, n_estimators=200;, score=0.740 total time=   0.3s\n",
      "[CV 5/5] END max_depth=20, max_features=log2, n_estimators=200;, score=0.762 total time=   0.3s\n",
      "[CV 1/5] END max_depth=20, max_features=log2, n_estimators=300;, score=0.772 total time=   0.4s\n",
      "[CV 2/5] END max_depth=20, max_features=log2, n_estimators=300;, score=0.813 total time=   0.4s\n",
      "[CV 3/5] END max_depth=20, max_features=log2, n_estimators=300;, score=0.772 total time=   0.4s\n",
      "[CV 4/5] END max_depth=20, max_features=log2, n_estimators=300;, score=0.732 total time=   0.4s\n",
      "[CV 5/5] END max_depth=20, max_features=log2, n_estimators=300;, score=0.779 total time=   0.4s\n",
      "[CV 1/5] END max_depth=30, max_features=auto, n_estimators=100;, score=nan total time=   0.0s\n",
      "[CV 2/5] END max_depth=30, max_features=auto, n_estimators=100;, score=nan total time=   0.0s\n",
      "[CV 3/5] END max_depth=30, max_features=auto, n_estimators=100;, score=nan total time=   0.0s\n",
      "[CV 4/5] END max_depth=30, max_features=auto, n_estimators=100;, score=nan total time=   0.0s\n",
      "[CV 5/5] END max_depth=30, max_features=auto, n_estimators=100;, score=nan total time=   0.0s\n",
      "[CV 1/5] END max_depth=30, max_features=auto, n_estimators=200;, score=nan total time=   0.0s\n",
      "[CV 2/5] END max_depth=30, max_features=auto, n_estimators=200;, score=nan total time=   0.0s\n",
      "[CV 3/5] END max_depth=30, max_features=auto, n_estimators=200;, score=nan total time=   0.0s\n",
      "[CV 4/5] END max_depth=30, max_features=auto, n_estimators=200;, score=nan total time=   0.0s\n",
      "[CV 5/5] END max_depth=30, max_features=auto, n_estimators=200;, score=nan total time=   0.0s\n",
      "[CV 1/5] END max_depth=30, max_features=auto, n_estimators=300;, score=nan total time=   0.0s\n",
      "[CV 2/5] END max_depth=30, max_features=auto, n_estimators=300;, score=nan total time=   0.0s\n",
      "[CV 3/5] END max_depth=30, max_features=auto, n_estimators=300;, score=nan total time=   0.0s\n",
      "[CV 4/5] END max_depth=30, max_features=auto, n_estimators=300;, score=nan total time=   0.0s\n",
      "[CV 5/5] END max_depth=30, max_features=auto, n_estimators=300;, score=nan total time=   0.0s\n",
      "[CV 1/5] END max_depth=30, max_features=sqrt, n_estimators=100;, score=0.748 total time=   0.1s\n",
      "[CV 2/5] END max_depth=30, max_features=sqrt, n_estimators=100;, score=0.829 total time=   0.1s\n",
      "[CV 3/5] END max_depth=30, max_features=sqrt, n_estimators=100;, score=0.748 total time=   0.1s\n",
      "[CV 4/5] END max_depth=30, max_features=sqrt, n_estimators=100;, score=0.748 total time=   0.1s\n",
      "[CV 5/5] END max_depth=30, max_features=sqrt, n_estimators=100;, score=0.779 total time=   0.1s\n",
      "[CV 1/5] END max_depth=30, max_features=sqrt, n_estimators=200;, score=0.772 total time=   0.2s\n",
      "[CV 2/5] END max_depth=30, max_features=sqrt, n_estimators=200;, score=0.805 total time=   0.2s\n",
      "[CV 3/5] END max_depth=30, max_features=sqrt, n_estimators=200;, score=0.756 total time=   0.3s\n",
      "[CV 4/5] END max_depth=30, max_features=sqrt, n_estimators=200;, score=0.732 total time=   0.3s\n",
      "[CV 5/5] END max_depth=30, max_features=sqrt, n_estimators=200;, score=0.746 total time=   0.3s\n",
      "[CV 1/5] END max_depth=30, max_features=sqrt, n_estimators=300;, score=0.772 total time=   0.4s\n",
      "[CV 2/5] END max_depth=30, max_features=sqrt, n_estimators=300;, score=0.821 total time=   0.4s\n",
      "[CV 3/5] END max_depth=30, max_features=sqrt, n_estimators=300;, score=0.748 total time=   0.4s\n",
      "[CV 4/5] END max_depth=30, max_features=sqrt, n_estimators=300;, score=0.732 total time=   0.4s\n",
      "[CV 5/5] END max_depth=30, max_features=sqrt, n_estimators=300;, score=0.779 total time=   0.4s\n",
      "[CV 1/5] END max_depth=30, max_features=log2, n_estimators=100;, score=0.764 total time=   0.1s\n",
      "[CV 2/5] END max_depth=30, max_features=log2, n_estimators=100;, score=0.821 total time=   0.2s\n",
      "[CV 3/5] END max_depth=30, max_features=log2, n_estimators=100;, score=0.756 total time=   0.2s\n",
      "[CV 4/5] END max_depth=30, max_features=log2, n_estimators=100;, score=0.732 total time=   0.2s\n",
      "[CV 5/5] END max_depth=30, max_features=log2, n_estimators=100;, score=0.770 total time=   0.2s\n",
      "[CV 1/5] END max_depth=30, max_features=log2, n_estimators=200;, score=0.780 total time=   0.3s\n",
      "[CV 2/5] END max_depth=30, max_features=log2, n_estimators=200;, score=0.813 total time=   0.3s\n",
      "[CV 3/5] END max_depth=30, max_features=log2, n_estimators=200;, score=0.756 total time=   0.3s\n",
      "[CV 4/5] END max_depth=30, max_features=log2, n_estimators=200;, score=0.740 total time=   0.3s\n",
      "[CV 5/5] END max_depth=30, max_features=log2, n_estimators=200;, score=0.779 total time=   0.3s\n",
      "[CV 1/5] END max_depth=30, max_features=log2, n_estimators=300;, score=0.764 total time=   0.4s\n",
      "[CV 2/5] END max_depth=30, max_features=log2, n_estimators=300;, score=0.821 total time=   0.5s\n",
      "[CV 3/5] END max_depth=30, max_features=log2, n_estimators=300;, score=0.748 total time=   0.5s\n",
      "[CV 4/5] END max_depth=30, max_features=log2, n_estimators=300;, score=0.740 total time=   0.5s\n",
      "[CV 5/5] END max_depth=30, max_features=log2, n_estimators=300;, score=0.762 total time=   0.4s\n"
     ]
    },
    {
     "name": "stderr",
     "output_type": "stream",
     "text": [
      "/home/vscode/.local/lib/python3.11/site-packages/sklearn/model_selection/_validation.py:425: FitFailedWarning: \n",
      "60 fits failed out of a total of 180.\n",
      "The score on these train-test partitions for these parameters will be set to nan.\n",
      "If these failures are not expected, you can try to debug them by setting error_score='raise'.\n",
      "\n",
      "Below are more details about the failures:\n",
      "--------------------------------------------------------------------------------\n",
      "60 fits failed with the following error:\n",
      "Traceback (most recent call last):\n",
      "  File \"/home/vscode/.local/lib/python3.11/site-packages/sklearn/model_selection/_validation.py\", line 729, in _fit_and_score\n",
      "    estimator.fit(X_train, y_train, **fit_params)\n",
      "  File \"/home/vscode/.local/lib/python3.11/site-packages/sklearn/base.py\", line 1145, in wrapper\n",
      "    estimator._validate_params()\n",
      "  File \"/home/vscode/.local/lib/python3.11/site-packages/sklearn/base.py\", line 638, in _validate_params\n",
      "    validate_parameter_constraints(\n",
      "  File \"/home/vscode/.local/lib/python3.11/site-packages/sklearn/utils/_param_validation.py\", line 96, in validate_parameter_constraints\n",
      "    raise InvalidParameterError(\n",
      "sklearn.utils._param_validation.InvalidParameterError: The 'max_features' parameter of RandomForestClassifier must be an int in the range [1, inf), a float in the range (0.0, 1.0], a str among {'sqrt', 'log2'} or None. Got 'auto' instead.\n",
      "\n",
      "  warnings.warn(some_fits_failed_message, FitFailedWarning)\n",
      "/home/vscode/.local/lib/python3.11/site-packages/sklearn/model_selection/_search.py:979: UserWarning: One or more of the test scores are non-finite: [       nan        nan        nan 0.76870585 0.7654938  0.76385446\n",
      " 0.76548047 0.77202452 0.77527656        nan        nan        nan\n",
      " 0.76057577 0.76545382 0.76711982 0.76220179 0.76707983 0.77195788\n",
      "        nan        nan        nan 0.76710649 0.77365054 0.75729708\n",
      " 0.76548047 0.76709316 0.77362388        nan        nan        nan\n",
      " 0.77037185 0.76218846 0.77037185 0.76873251 0.77362388 0.76709316]\n",
      "  warnings.warn(\n"
     ]
    },
    {
     "name": "stdout",
     "output_type": "stream",
     "text": [
      "Accuracy Score:  0.7467532467532467\n",
      "Best Parameters:  {'max_depth': 5, 'max_features': 'log2', 'n_estimators': 300}\n"
     ]
    }
   ],
   "source": [
    "from sklearn.model_selection import GridSearchCV\n",
    "\n",
    "param_grid = {'n_estimators': [100, 200, 300], 'max_depth': [5, 10, 20, 30], 'max_features': ['auto', 'sqrt', 'log2']}\n",
    "grid = GridSearchCV(RandomForestClassifier(), param_grid, refit=True, verbose=4)\n",
    "\n",
    "model2 = grid.fit(x_train, y_train)\n",
    "\n",
    "best_params = model2.best_params_\n",
    "\n",
    "best_grid = model2.best_estimator_\n",
    "\n",
    "y_pred_best = best_grid.predict(x_test)\n",
    "\n",
    "accuracy_best = accuracy_score(y_test, y_pred_best)\n",
    "\n",
    "print('Accuracy Score: ', accuracy_best)\n",
    "print('Best Parameters: ', best_params)\n",
    "\n"
   ]
  },
  {
   "cell_type": "code",
   "execution_count": 17,
   "metadata": {},
   "outputs": [
    {
     "data": {
      "text/html": [
       "<style>#sk-container-id-2 {color: black;}#sk-container-id-2 pre{padding: 0;}#sk-container-id-2 div.sk-toggleable {background-color: white;}#sk-container-id-2 label.sk-toggleable__label {cursor: pointer;display: block;width: 100%;margin-bottom: 0;padding: 0.3em;box-sizing: border-box;text-align: center;}#sk-container-id-2 label.sk-toggleable__label-arrow:before {content: \"▸\";float: left;margin-right: 0.25em;color: #696969;}#sk-container-id-2 label.sk-toggleable__label-arrow:hover:before {color: black;}#sk-container-id-2 div.sk-estimator:hover label.sk-toggleable__label-arrow:before {color: black;}#sk-container-id-2 div.sk-toggleable__content {max-height: 0;max-width: 0;overflow: hidden;text-align: left;background-color: #f0f8ff;}#sk-container-id-2 div.sk-toggleable__content pre {margin: 0.2em;color: black;border-radius: 0.25em;background-color: #f0f8ff;}#sk-container-id-2 input.sk-toggleable__control:checked~div.sk-toggleable__content {max-height: 200px;max-width: 100%;overflow: auto;}#sk-container-id-2 input.sk-toggleable__control:checked~label.sk-toggleable__label-arrow:before {content: \"▾\";}#sk-container-id-2 div.sk-estimator input.sk-toggleable__control:checked~label.sk-toggleable__label {background-color: #d4ebff;}#sk-container-id-2 div.sk-label input.sk-toggleable__control:checked~label.sk-toggleable__label {background-color: #d4ebff;}#sk-container-id-2 input.sk-hidden--visually {border: 0;clip: rect(1px 1px 1px 1px);clip: rect(1px, 1px, 1px, 1px);height: 1px;margin: -1px;overflow: hidden;padding: 0;position: absolute;width: 1px;}#sk-container-id-2 div.sk-estimator {font-family: monospace;background-color: #f0f8ff;border: 1px dotted black;border-radius: 0.25em;box-sizing: border-box;margin-bottom: 0.5em;}#sk-container-id-2 div.sk-estimator:hover {background-color: #d4ebff;}#sk-container-id-2 div.sk-parallel-item::after {content: \"\";width: 100%;border-bottom: 1px solid gray;flex-grow: 1;}#sk-container-id-2 div.sk-label:hover label.sk-toggleable__label {background-color: #d4ebff;}#sk-container-id-2 div.sk-serial::before {content: \"\";position: absolute;border-left: 1px solid gray;box-sizing: border-box;top: 0;bottom: 0;left: 50%;z-index: 0;}#sk-container-id-2 div.sk-serial {display: flex;flex-direction: column;align-items: center;background-color: white;padding-right: 0.2em;padding-left: 0.2em;position: relative;}#sk-container-id-2 div.sk-item {position: relative;z-index: 1;}#sk-container-id-2 div.sk-parallel {display: flex;align-items: stretch;justify-content: center;background-color: white;position: relative;}#sk-container-id-2 div.sk-item::before, #sk-container-id-2 div.sk-parallel-item::before {content: \"\";position: absolute;border-left: 1px solid gray;box-sizing: border-box;top: 0;bottom: 0;left: 50%;z-index: -1;}#sk-container-id-2 div.sk-parallel-item {display: flex;flex-direction: column;z-index: 1;position: relative;background-color: white;}#sk-container-id-2 div.sk-parallel-item:first-child::after {align-self: flex-end;width: 50%;}#sk-container-id-2 div.sk-parallel-item:last-child::after {align-self: flex-start;width: 50%;}#sk-container-id-2 div.sk-parallel-item:only-child::after {width: 0;}#sk-container-id-2 div.sk-dashed-wrapped {border: 1px dashed gray;margin: 0 0.4em 0.5em 0.4em;box-sizing: border-box;padding-bottom: 0.4em;background-color: white;}#sk-container-id-2 div.sk-label label {font-family: monospace;font-weight: bold;display: inline-block;line-height: 1.2em;}#sk-container-id-2 div.sk-label-container {text-align: center;}#sk-container-id-2 div.sk-container {/* jupyter's `normalize.less` sets `[hidden] { display: none; }` but bootstrap.min.css set `[hidden] { display: none !important; }` so we also need the `!important` here to be able to override the default hidden behavior on the sphinx rendered scikit-learn.org. See: https://github.com/scikit-learn/scikit-learn/issues/21755 */display: inline-block !important;position: relative;}#sk-container-id-2 div.sk-text-repr-fallback {display: none;}</style><div id=\"sk-container-id-2\" class=\"sk-top-container\"><div class=\"sk-text-repr-fallback\"><pre>RandomForestClassifier(max_depth=5, max_features=&#x27;log2&#x27;, n_estimators=300,\n",
       "                       random_state=42)</pre><b>In a Jupyter environment, please rerun this cell to show the HTML representation or trust the notebook. <br />On GitHub, the HTML representation is unable to render, please try loading this page with nbviewer.org.</b></div><div class=\"sk-container\" hidden><div class=\"sk-item\"><div class=\"sk-estimator sk-toggleable\"><input class=\"sk-toggleable__control sk-hidden--visually\" id=\"sk-estimator-id-2\" type=\"checkbox\" checked><label for=\"sk-estimator-id-2\" class=\"sk-toggleable__label sk-toggleable__label-arrow\">RandomForestClassifier</label><div class=\"sk-toggleable__content\"><pre>RandomForestClassifier(max_depth=5, max_features=&#x27;log2&#x27;, n_estimators=300,\n",
       "                       random_state=42)</pre></div></div></div></div></div>"
      ],
      "text/plain": [
       "RandomForestClassifier(max_depth=5, max_features='log2', n_estimators=300,\n",
       "                       random_state=42)"
      ]
     },
     "execution_count": 17,
     "metadata": {},
     "output_type": "execute_result"
    }
   ],
   "source": [
    "model3 = RandomForestClassifier(n_estimators=300, max_depth=5, max_features='log2', random_state=42)\n",
    "model3.fit(x_train, y_train)\n"
   ]
  },
  {
   "cell_type": "code",
   "execution_count": 18,
   "metadata": {},
   "outputs": [
    {
     "data": {
      "text/plain": [
       "array([0, 1, 0, 0, 1, 0, 0, 1, 0, 0, 0, 1, 0, 0, 1, 1, 0, 0, 0, 0, 1, 0,\n",
       "       0, 0, 1, 1, 0, 0, 0, 1, 1, 0, 0, 0, 1, 1, 0, 0, 1, 0, 0, 0, 0, 0,\n",
       "       0, 1, 0, 0, 0, 0, 1, 0, 0, 0, 1, 1, 0, 0, 0, 0, 1, 0, 0, 1, 0, 1,\n",
       "       1, 0, 0, 0, 0, 1, 0, 0, 0, 0, 0, 0, 0, 1, 0, 0, 0, 0, 0, 1, 0, 0,\n",
       "       1, 0, 0, 1, 1, 0, 0, 0, 0, 0, 1, 0, 0, 0, 0, 1, 0, 0, 0, 1, 0, 0,\n",
       "       0, 0, 1, 0, 0, 0, 0, 0, 1, 1, 0, 0, 0, 1, 0, 0, 0, 1, 1, 1, 0, 0,\n",
       "       1, 1, 0, 1, 0, 0, 1, 0, 1, 0, 0, 1, 0, 0, 0, 1, 1, 0, 0, 0, 0, 0,\n",
       "       0, 1, 0, 1, 1, 0, 0, 0, 1, 0, 0, 0, 0, 1, 1, 0, 0, 0, 0, 0, 0, 0,\n",
       "       0, 0, 0, 1, 1, 0, 1, 1, 0, 0, 1, 0, 0, 1, 1, 1, 0, 0, 0, 0, 0, 1,\n",
       "       0, 1, 0, 0, 0, 0, 0, 0, 0, 1, 1, 0, 0, 0, 0, 0, 0, 0, 1, 0, 1, 0,\n",
       "       1, 0, 1, 0, 0, 0, 1, 1, 1, 1, 0, 0, 1, 0, 0, 0, 0, 0, 0, 1, 1, 1,\n",
       "       0, 0, 1, 1, 0, 0, 0, 0, 0, 0, 0, 1, 1, 0, 1, 0, 0, 0, 0, 1, 0, 0,\n",
       "       1, 0, 0, 1, 0, 0, 0, 0, 1, 1, 0, 0, 0, 0, 1, 1, 0, 1, 0, 0, 1, 0,\n",
       "       0, 0, 1, 0, 0, 0, 0, 1, 0, 1, 0, 0, 1, 1, 0, 0, 1, 1, 0, 0, 0, 1,\n",
       "       0, 0, 0, 0, 0, 0, 0, 1, 1, 1, 1, 1, 1, 1, 1, 0, 0, 0, 0, 0, 0, 1,\n",
       "       0, 1, 1, 0, 0, 1, 0, 1, 0, 0, 0, 0, 0, 0, 1, 0, 1, 0, 0, 1, 1, 0,\n",
       "       1, 1, 1, 0, 0, 0, 1, 0, 0, 0, 0, 0, 0, 0, 1, 0, 0, 0, 1, 0, 0, 0,\n",
       "       0, 0, 0, 1, 0, 0, 0, 1, 0, 0, 1, 0, 1, 0, 0, 1, 0, 0, 0, 0, 0, 1,\n",
       "       0, 0, 1, 0, 0, 0, 0, 0, 1, 1, 0, 0, 0, 1, 0, 0, 0, 0, 0, 0, 0, 0,\n",
       "       0, 0, 0, 0, 0, 1, 0, 0, 1, 0, 0, 0, 0, 0, 1, 1, 0, 1, 1, 0, 0, 0,\n",
       "       0, 0, 0, 0, 1, 0, 0, 0, 1, 0, 0, 0, 0, 0, 0, 0, 0, 0, 0, 0, 0, 0,\n",
       "       1, 0, 1, 0, 0, 0, 0, 0, 0, 1, 0, 0, 1, 0, 0, 0, 1, 1, 0, 0, 0, 0,\n",
       "       0, 1, 1, 0, 0, 0, 0, 1, 1, 0, 1, 1, 0, 0, 0, 1, 0, 0, 0, 0, 0, 0,\n",
       "       1, 0, 1, 0, 0, 1, 1, 1, 0, 0, 0, 1, 1, 0, 0, 1, 1, 0, 0, 0, 0, 1,\n",
       "       0, 0, 1, 1, 0, 0, 1, 0, 0, 0, 0, 0, 0, 0, 0, 0, 0, 0, 0, 1, 0, 0,\n",
       "       0, 0, 1, 0, 0, 0, 1, 0, 1, 0, 1, 0, 0, 1, 0, 0, 1, 1, 1, 1, 0, 0,\n",
       "       0, 0, 0, 0, 0, 0, 1, 0, 1, 0, 1, 0, 0, 0, 0, 0, 0, 1, 0, 0, 0, 0,\n",
       "       0, 1, 1, 1, 1, 0, 0, 1, 0, 1, 0, 0, 1, 0, 0, 0, 0, 1, 1, 0])"
      ]
     },
     "execution_count": 18,
     "metadata": {},
     "output_type": "execute_result"
    }
   ],
   "source": [
    "y_pred3 = model3.predict(x_test)\n",
    "y_pred3\n",
    "\n",
    "y_pred_in3 = model3.predict(x_train)\n",
    "y_pred_in3"
   ]
  },
  {
   "cell_type": "code",
   "execution_count": 19,
   "metadata": {},
   "outputs": [
    {
     "name": "stdout",
     "output_type": "stream",
     "text": [
      "Accuracy Score:  0.7467532467532467\n",
      "Accuracy Score:  0.8680781758957655\n"
     ]
    }
   ],
   "source": [
    "print('Accuracy Score: ', accuracy_score(y_test, y_pred3))\n",
    "print('Accuracy Score: ', accuracy_score(y_train, y_pred_in3))"
   ]
  },
  {
   "cell_type": "code",
   "execution_count": null,
   "metadata": {},
   "outputs": [],
   "source": []
  }
 ],
 "metadata": {
  "kernelspec": {
   "display_name": "Python 3",
   "language": "python",
   "name": "python3"
  },
  "language_info": {
   "codemirror_mode": {
    "name": "ipython",
    "version": 3
   },
   "file_extension": ".py",
   "mimetype": "text/x-python",
   "name": "python",
   "nbconvert_exporter": "python",
   "pygments_lexer": "ipython3",
   "version": "3.11.4"
  }
 },
 "nbformat": 4,
 "nbformat_minor": 2
}
