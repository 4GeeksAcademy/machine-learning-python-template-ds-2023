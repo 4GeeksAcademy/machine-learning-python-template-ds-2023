{
 "cells": [
  {
   "cell_type": "code",
   "execution_count": 147,
   "metadata": {},
   "outputs": [],
   "source": [
    "import pandas as pd\n",
    "from sklearn.model_selection import train_test_split\n",
    "from sklearn.feature_extraction.text import TfidfVectorizer\n",
    "from sklearn.svm import SVC\n",
    "from sklearn.model_selection import GridSearchCV\n",
    "from sklearn.metrics import accuracy_score, precision_score, recall_score, f1_score, classification_report\n",
    "import joblib\n",
    "import nltk\n",
    "from nltk.corpus import stopwords\n",
    "from nltk.stem import WordNetLemmatizer\n",
    "import string\n",
    "import re\n",
    "import wordninja\n",
    "\n"
   ]
  },
  {
   "cell_type": "code",
   "execution_count": 81,
   "metadata": {},
   "outputs": [],
   "source": [
    "pd.set_option('display.max_colwidth', None)  \n"
   ]
  },
  {
   "cell_type": "code",
   "execution_count": 131,
   "metadata": {},
   "outputs": [],
   "source": [
    "df = pd.read_csv(\"https://raw.githubusercontent.com/4GeeksAcademy/NLP-project-tutorial/main/url_spam.csv\")\n"
   ]
  },
  {
   "cell_type": "code",
   "execution_count": 125,
   "metadata": {},
   "outputs": [
    {
     "data": {
      "text/html": [
       "<div>\n",
       "<style scoped>\n",
       "    .dataframe tbody tr th:only-of-type {\n",
       "        vertical-align: middle;\n",
       "    }\n",
       "\n",
       "    .dataframe tbody tr th {\n",
       "        vertical-align: top;\n",
       "    }\n",
       "\n",
       "    .dataframe thead th {\n",
       "        text-align: right;\n",
       "    }\n",
       "</style>\n",
       "<table border=\"1\" class=\"dataframe\">\n",
       "  <thead>\n",
       "    <tr style=\"text-align: right;\">\n",
       "      <th></th>\n",
       "      <th>url</th>\n",
       "      <th>is_spam</th>\n",
       "    </tr>\n",
       "  </thead>\n",
       "  <tbody>\n",
       "    <tr>\n",
       "      <th>0</th>\n",
       "      <td>https://briefingday.us8.list-manage.com/unsubscribe</td>\n",
       "      <td>True</td>\n",
       "    </tr>\n",
       "    <tr>\n",
       "      <th>1</th>\n",
       "      <td>https://www.hvper.com/</td>\n",
       "      <td>True</td>\n",
       "    </tr>\n",
       "    <tr>\n",
       "      <th>2</th>\n",
       "      <td>https://briefingday.com/m/v4n3i4f3</td>\n",
       "      <td>True</td>\n",
       "    </tr>\n",
       "    <tr>\n",
       "      <th>3</th>\n",
       "      <td>https://briefingday.com/n/20200618/m#commentform</td>\n",
       "      <td>False</td>\n",
       "    </tr>\n",
       "    <tr>\n",
       "      <th>4</th>\n",
       "      <td>https://briefingday.com/fan</td>\n",
       "      <td>True</td>\n",
       "    </tr>\n",
       "    <tr>\n",
       "      <th>5</th>\n",
       "      <td>https://www.brookings.edu/interactives/reopening-america-and-the-world/</td>\n",
       "      <td>False</td>\n",
       "    </tr>\n",
       "    <tr>\n",
       "      <th>6</th>\n",
       "      <td>https://www.reuters.com/investigates/special-report/health-coronavirus-britain-pub/</td>\n",
       "      <td>False</td>\n",
       "    </tr>\n",
       "    <tr>\n",
       "      <th>7</th>\n",
       "      <td>https://www.theatlantic.com/magazine/archive/2020/07/supermarkets-are-a-miracle/612244/</td>\n",
       "      <td>False</td>\n",
       "    </tr>\n",
       "    <tr>\n",
       "      <th>8</th>\n",
       "      <td>https://www.vox.com/2020/6/17/21294680/john-bolton-book-excerpts-trump-ukraine-china</td>\n",
       "      <td>False</td>\n",
       "    </tr>\n",
       "    <tr>\n",
       "      <th>9</th>\n",
       "      <td>https://www.theguardian.com/travel/2020/jun/18/end-of-tourism-coronavirus-pandemic-travel-industry</td>\n",
       "      <td>False</td>\n",
       "    </tr>\n",
       "    <tr>\n",
       "      <th>10</th>\n",
       "      <td>https://www.bbc.com/future/article/20200617-what-if-all-viruses-disappeared</td>\n",
       "      <td>False</td>\n",
       "    </tr>\n",
       "    <tr>\n",
       "      <th>11</th>\n",
       "      <td>https://narratively.com/the-quarantined-hippies-trapped-in-a-jungle-paradise/</td>\n",
       "      <td>False</td>\n",
       "    </tr>\n",
       "    <tr>\n",
       "      <th>12</th>\n",
       "      <td>https://ourworldindata.org/grapher/daily-covid-cases-3-day-average</td>\n",
       "      <td>False</td>\n",
       "    </tr>\n",
       "    <tr>\n",
       "      <th>13</th>\n",
       "      <td>https://www.spiked-online.com/2020/06/17/a-healthy-society-does-not-destroy-its-monuments/</td>\n",
       "      <td>False</td>\n",
       "    </tr>\n",
       "    <tr>\n",
       "      <th>14</th>\n",
       "      <td>https://www.nytimes.com/interactive/2020/06/17/business/economy/how-container-ships-are-built.html</td>\n",
       "      <td>False</td>\n",
       "    </tr>\n",
       "    <tr>\n",
       "      <th>15</th>\n",
       "      <td>https://aeon.co/essays/nostalgia-is-the-rocket-fuel-that-powers-hope-and-change</td>\n",
       "      <td>False</td>\n",
       "    </tr>\n",
       "  </tbody>\n",
       "</table>\n",
       "</div>"
      ],
      "text/plain": [
       "                                                                                                   url  \\\n",
       "0                                                  https://briefingday.us8.list-manage.com/unsubscribe   \n",
       "1                                                                               https://www.hvper.com/   \n",
       "2                                                                   https://briefingday.com/m/v4n3i4f3   \n",
       "3                                                     https://briefingday.com/n/20200618/m#commentform   \n",
       "4                                                                          https://briefingday.com/fan   \n",
       "5                              https://www.brookings.edu/interactives/reopening-america-and-the-world/   \n",
       "6                  https://www.reuters.com/investigates/special-report/health-coronavirus-britain-pub/   \n",
       "7              https://www.theatlantic.com/magazine/archive/2020/07/supermarkets-are-a-miracle/612244/   \n",
       "8                 https://www.vox.com/2020/6/17/21294680/john-bolton-book-excerpts-trump-ukraine-china   \n",
       "9   https://www.theguardian.com/travel/2020/jun/18/end-of-tourism-coronavirus-pandemic-travel-industry   \n",
       "10                         https://www.bbc.com/future/article/20200617-what-if-all-viruses-disappeared   \n",
       "11                       https://narratively.com/the-quarantined-hippies-trapped-in-a-jungle-paradise/   \n",
       "12                                  https://ourworldindata.org/grapher/daily-covid-cases-3-day-average   \n",
       "13          https://www.spiked-online.com/2020/06/17/a-healthy-society-does-not-destroy-its-monuments/   \n",
       "14  https://www.nytimes.com/interactive/2020/06/17/business/economy/how-container-ships-are-built.html   \n",
       "15                     https://aeon.co/essays/nostalgia-is-the-rocket-fuel-that-powers-hope-and-change   \n",
       "\n",
       "    is_spam  \n",
       "0      True  \n",
       "1      True  \n",
       "2      True  \n",
       "3     False  \n",
       "4      True  \n",
       "5     False  \n",
       "6     False  \n",
       "7     False  \n",
       "8     False  \n",
       "9     False  \n",
       "10    False  \n",
       "11    False  \n",
       "12    False  \n",
       "13    False  \n",
       "14    False  \n",
       "15    False  "
      ]
     },
     "execution_count": 125,
     "metadata": {},
     "output_type": "execute_result"
    }
   ],
   "source": [
    "df.head(16)"
   ]
  },
  {
   "cell_type": "code",
   "execution_count": 126,
   "metadata": {},
   "outputs": [],
   "source": [
    "df['is_spam'] = df['is_spam'].astype(int)\n"
   ]
  },
  {
   "cell_type": "code",
   "execution_count": 136,
   "metadata": {},
   "outputs": [
    {
     "name": "stdout",
     "output_type": "stream",
     "text": [
      "Collecting wordninja\n",
      "  Downloading wordninja-2.0.0.tar.gz (541 kB)\n",
      "     ---------------------------------------- 0.0/541.6 kB ? eta -:--:--\n",
      "     ------------------------- ------------ 358.4/541.6 kB 5.5 MB/s eta 0:00:01\n",
      "     -------------------------------------- 541.6/541.6 kB 4.3 MB/s eta 0:00:00\n",
      "  Preparing metadata (setup.py): started\n",
      "  Preparing metadata (setup.py): finished with status 'done'\n",
      "Building wheels for collected packages: wordninja\n",
      "  Building wheel for wordninja (setup.py): started\n",
      "  Building wheel for wordninja (setup.py): finished with status 'done'\n",
      "  Created wheel for wordninja: filename=wordninja-2.0.0-py3-none-any.whl size=541535 sha256=3c28598eaf2c61d78bcb4276390d120f8bc754591670264dbd679f7c84768f2e\n",
      "  Stored in directory: c:\\users\\rashid\\appdata\\local\\packages\\pythonsoftwarefoundation.python.3.11_qbz5n2kfra8p0\\localcache\\local\\pip\\cache\\wheels\\e6\\66\\9c\\712044a983337f5d44f90abcd244bd4b8ad28ee64750404b50\n",
      "Successfully built wordninja\n",
      "Installing collected packages: wordninja\n",
      "Successfully installed wordninja-2.0.0\n"
     ]
    }
   ],
   "source": [
    "#!pip install wordninja"
   ]
  },
  {
   "cell_type": "code",
   "execution_count": 138,
   "metadata": {},
   "outputs": [],
   "source": [
    "def preprocess_url(url):\n",
    "    # Remove \"http://\" and \"www.\"\n",
    "    url = re.sub(r'https?://(?:www\\.)?', '', url)\n",
    "\n",
    "    # Remove specific patterns, split words at hyphens and periods\n",
    "    url = re.sub(r'[/=_#]|com|net|org|io|co|us|www', ' ', url, flags=re.IGNORECASE)\n",
    "    url = re.sub(r'[.-]+', ' ', url)  # Replace multiple hyphens or periods with a single space\n",
    "\n",
    "    # Use wordninja to separate CamelCase words\n",
    "    url = ' '.join(wordninja.split(url))\n",
    "\n",
    "    # Use regular expression to split the URL at spaces\n",
    "    url_parts = re.split(r'\\s+', url)\n",
    "\n",
    "    # Tokenization\n",
    "    tokens = [part.strip() for part in url_parts if part.strip()]\n",
    "\n",
    "    # Remove stopwords\n",
    "    stop_words = set(stopwords.words(\"english\"))\n",
    "    tokens = [token for token in tokens if token.lower() not in stop_words]\n",
    "\n",
    "    # Lemmatization\n",
    "    lemmatizer = WordNetLemmatizer()\n",
    "    tokens = [lemmatizer.lemmatize(token) for token in tokens]\n",
    "\n",
    "    # Reassemble the URL\n",
    "    preprocessed_url = \" \".join(tokens)\n",
    "    return preprocessed_url\n"
   ]
  },
  {
   "cell_type": "code",
   "execution_count": 139,
   "metadata": {},
   "outputs": [],
   "source": [
    "df['url'] = df['url'].apply(preprocess_url)"
   ]
  },
  {
   "cell_type": "code",
   "execution_count": 140,
   "metadata": {},
   "outputs": [
    {
     "data": {
      "text/plain": [
       "0                                                  briefing day 8 list manage unsubscribe\n",
       "1                                                                                  hv per\n",
       "2                                                              briefing day v 4 n 3 4 f 3\n",
       "3                                                       briefing day n 20200618 ment form\n",
       "4                                                                        briefing day fan\n",
       "                                              ...                                        \n",
       "2994    smart city world news news deep fake technology ed advance auto nomo vehicle 5408\n",
       "2995                                                                        youtube watch\n",
       "2996                                     tech crunch 2019 07 04 optimistic view deep fake\n",
       "2997          technology review 2019 12 20 131462 startup claim deep fake protect privacy\n",
       "2998                                                         bbc news technology 51018758\n",
       "Name: url, Length: 2999, dtype: object"
      ]
     },
     "execution_count": 140,
     "metadata": {},
     "output_type": "execute_result"
    }
   ],
   "source": [
    "df['url']"
   ]
  },
  {
   "cell_type": "code",
   "execution_count": 142,
   "metadata": {},
   "outputs": [],
   "source": [
    "X_train, X_test, y_train, y_test = train_test_split(\n",
    "    df['url'], df['is_spam'], test_size=0.2, random_state=42\n",
    ")"
   ]
  },
  {
   "cell_type": "code",
   "execution_count": 143,
   "metadata": {},
   "outputs": [
    {
     "data": {
      "text/html": [
       "<style>#sk-container-id-1 {color: black;}#sk-container-id-1 pre{padding: 0;}#sk-container-id-1 div.sk-toggleable {background-color: white;}#sk-container-id-1 label.sk-toggleable__label {cursor: pointer;display: block;width: 100%;margin-bottom: 0;padding: 0.3em;box-sizing: border-box;text-align: center;}#sk-container-id-1 label.sk-toggleable__label-arrow:before {content: \"▸\";float: left;margin-right: 0.25em;color: #696969;}#sk-container-id-1 label.sk-toggleable__label-arrow:hover:before {color: black;}#sk-container-id-1 div.sk-estimator:hover label.sk-toggleable__label-arrow:before {color: black;}#sk-container-id-1 div.sk-toggleable__content {max-height: 0;max-width: 0;overflow: hidden;text-align: left;background-color: #f0f8ff;}#sk-container-id-1 div.sk-toggleable__content pre {margin: 0.2em;color: black;border-radius: 0.25em;background-color: #f0f8ff;}#sk-container-id-1 input.sk-toggleable__control:checked~div.sk-toggleable__content {max-height: 200px;max-width: 100%;overflow: auto;}#sk-container-id-1 input.sk-toggleable__control:checked~label.sk-toggleable__label-arrow:before {content: \"▾\";}#sk-container-id-1 div.sk-estimator input.sk-toggleable__control:checked~label.sk-toggleable__label {background-color: #d4ebff;}#sk-container-id-1 div.sk-label input.sk-toggleable__control:checked~label.sk-toggleable__label {background-color: #d4ebff;}#sk-container-id-1 input.sk-hidden--visually {border: 0;clip: rect(1px 1px 1px 1px);clip: rect(1px, 1px, 1px, 1px);height: 1px;margin: -1px;overflow: hidden;padding: 0;position: absolute;width: 1px;}#sk-container-id-1 div.sk-estimator {font-family: monospace;background-color: #f0f8ff;border: 1px dotted black;border-radius: 0.25em;box-sizing: border-box;margin-bottom: 0.5em;}#sk-container-id-1 div.sk-estimator:hover {background-color: #d4ebff;}#sk-container-id-1 div.sk-parallel-item::after {content: \"\";width: 100%;border-bottom: 1px solid gray;flex-grow: 1;}#sk-container-id-1 div.sk-label:hover label.sk-toggleable__label {background-color: #d4ebff;}#sk-container-id-1 div.sk-serial::before {content: \"\";position: absolute;border-left: 1px solid gray;box-sizing: border-box;top: 0;bottom: 0;left: 50%;z-index: 0;}#sk-container-id-1 div.sk-serial {display: flex;flex-direction: column;align-items: center;background-color: white;padding-right: 0.2em;padding-left: 0.2em;position: relative;}#sk-container-id-1 div.sk-item {position: relative;z-index: 1;}#sk-container-id-1 div.sk-parallel {display: flex;align-items: stretch;justify-content: center;background-color: white;position: relative;}#sk-container-id-1 div.sk-item::before, #sk-container-id-1 div.sk-parallel-item::before {content: \"\";position: absolute;border-left: 1px solid gray;box-sizing: border-box;top: 0;bottom: 0;left: 50%;z-index: -1;}#sk-container-id-1 div.sk-parallel-item {display: flex;flex-direction: column;z-index: 1;position: relative;background-color: white;}#sk-container-id-1 div.sk-parallel-item:first-child::after {align-self: flex-end;width: 50%;}#sk-container-id-1 div.sk-parallel-item:last-child::after {align-self: flex-start;width: 50%;}#sk-container-id-1 div.sk-parallel-item:only-child::after {width: 0;}#sk-container-id-1 div.sk-dashed-wrapped {border: 1px dashed gray;margin: 0 0.4em 0.5em 0.4em;box-sizing: border-box;padding-bottom: 0.4em;background-color: white;}#sk-container-id-1 div.sk-label label {font-family: monospace;font-weight: bold;display: inline-block;line-height: 1.2em;}#sk-container-id-1 div.sk-label-container {text-align: center;}#sk-container-id-1 div.sk-container {/* jupyter's `normalize.less` sets `[hidden] { display: none; }` but bootstrap.min.css set `[hidden] { display: none !important; }` so we also need the `!important` here to be able to override the default hidden behavior on the sphinx rendered scikit-learn.org. See: https://github.com/scikit-learn/scikit-learn/issues/21755 */display: inline-block !important;position: relative;}#sk-container-id-1 div.sk-text-repr-fallback {display: none;}</style><div id=\"sk-container-id-1\" class=\"sk-top-container\"><div class=\"sk-text-repr-fallback\"><pre>SVC()</pre><b>In a Jupyter environment, please rerun this cell to show the HTML representation or trust the notebook. <br />On GitHub, the HTML representation is unable to render, please try loading this page with nbviewer.org.</b></div><div class=\"sk-container\" hidden><div class=\"sk-item\"><div class=\"sk-estimator sk-toggleable\"><input class=\"sk-toggleable__control sk-hidden--visually\" id=\"sk-estimator-id-1\" type=\"checkbox\" checked><label for=\"sk-estimator-id-1\" class=\"sk-toggleable__label sk-toggleable__label-arrow\">SVC</label><div class=\"sk-toggleable__content\"><pre>SVC()</pre></div></div></div></div></div>"
      ],
      "text/plain": [
       "SVC()"
      ]
     },
     "execution_count": 143,
     "metadata": {},
     "output_type": "execute_result"
    }
   ],
   "source": [
    "# SVM\n",
    "tfidf_vectorizer = TfidfVectorizer()\n",
    "X_train_tfidf = tfidf_vectorizer.fit_transform(X_train)\n",
    "X_test_tfidf = tfidf_vectorizer.transform(X_test)\n",
    "\n",
    "svm_model = SVC()\n",
    "svm_model.fit(X_train_tfidf, y_train)"
   ]
  },
  {
   "cell_type": "code",
   "execution_count": 151,
   "metadata": {},
   "outputs": [
    {
     "name": "stdout",
     "output_type": "stream",
     "text": [
      "Metrics Comparison (SVM):\n",
      "  In-Sample Accuracy: 98.92% | Out-of-Sample Accuracy: 96.50%\n",
      "  In-Sample Precision: 99.62% | Out-of-Sample Precision: 99.21%\n",
      "  In-Sample Recall: 95.64% | Out-of-Sample Recall: 86.21%\n",
      "  In-Sample F1 Score: 97.59% | Out-of-Sample F1 Score: 92.25%\n",
      "\n",
      "Classification Report (SVM):\n",
      "               precision    recall  f1-score   support\n",
      "\n",
      "       False       0.96      1.00      0.98       455\n",
      "        True       0.99      0.86      0.92       145\n",
      "\n",
      "    accuracy                           0.96       600\n",
      "   macro avg       0.97      0.93      0.95       600\n",
      "weighted avg       0.97      0.96      0.96       600\n",
      "\n"
     ]
    }
   ],
   "source": [
    "y_train_pred_svm = svm_model.predict(X_train_tfidf)\n",
    "in_sample_accuracy_svm = accuracy_score(y_train, y_train_pred_svm)\n",
    "in_sample_precision_svm = precision_score(y_train, y_train_pred_svm)\n",
    "in_sample_recall_svm = recall_score(y_train, y_train_pred_svm)\n",
    "in_sample_f1_svm = f1_score(y_train, y_train_pred_svm)\n",
    "\n",
    "y_pred_svm = svm_model.predict(X_test_tfidf)\n",
    "out_of_sample_accuracy_svm = accuracy_score(y_test, y_pred_svm)\n",
    "out_of_sample_precision_svm = precision_score(y_test, y_pred_svm)\n",
    "out_of_sample_recall_svm = recall_score(y_test, y_pred_svm)\n",
    "out_of_sample_f1_svm = f1_score(y_test, y_pred_svm)\n",
    "\n",
    "print(\"Metrics Comparison (SVM):\")\n",
    "print(f\"  In-Sample Accuracy: {in_sample_accuracy_svm:.2%} | Out-of-Sample Accuracy: {out_of_sample_accuracy_svm:.2%}\")\n",
    "print(f\"  In-Sample Precision: {in_sample_precision_svm:.2%} | Out-of-Sample Precision: {out_of_sample_precision_svm:.2%}\")\n",
    "print(f\"  In-Sample Recall: {in_sample_recall_svm:.2%} | Out-of-Sample Recall: {out_of_sample_recall_svm:.2%}\")\n",
    "print(f\"  In-Sample F1 Score: {in_sample_f1_svm:.2%} | Out-of-Sample F1 Score: {out_of_sample_f1_svm:.2%}\")"
   ]
  },
  {
   "cell_type": "code",
   "execution_count": 145,
   "metadata": {},
   "outputs": [
    {
     "name": "stdout",
     "output_type": "stream",
     "text": [
      "Fitting 3 folds for each of 32 candidates, totalling 96 fits\n",
      "[CV 1/3] END .....C=0.1, gamma=1, kernel=linear;, score=0.856 total time=   1.5s\n",
      "[CV 2/3] END .....C=0.1, gamma=1, kernel=linear;, score=0.864 total time=   1.5s\n",
      "[CV 3/3] END .....C=0.1, gamma=1, kernel=linear;, score=0.892 total time=   1.5s\n",
      "[CV 1/3] END ........C=0.1, gamma=1, kernel=rbf;, score=0.815 total time=   2.1s\n",
      "[CV 2/3] END ........C=0.1, gamma=1, kernel=rbf;, score=0.830 total time=   2.2s\n",
      "[CV 3/3] END ........C=0.1, gamma=1, kernel=rbf;, score=0.824 total time=   2.5s\n",
      "[CV 1/3] END ...C=0.1, gamma=0.1, kernel=linear;, score=0.856 total time=   1.8s\n",
      "[CV 2/3] END ...C=0.1, gamma=0.1, kernel=linear;, score=0.864 total time=   1.8s\n",
      "[CV 3/3] END ...C=0.1, gamma=0.1, kernel=linear;, score=0.892 total time=   1.3s\n",
      "[CV 1/3] END ......C=0.1, gamma=0.1, kernel=rbf;, score=0.770 total time=   1.8s\n",
      "[CV 2/3] END ......C=0.1, gamma=0.1, kernel=rbf;, score=0.770 total time=   2.1s\n",
      "[CV 3/3] END ......C=0.1, gamma=0.1, kernel=rbf;, score=0.771 total time=   1.8s\n",
      "[CV 1/3] END ..C=0.1, gamma=0.01, kernel=linear;, score=0.856 total time=   1.4s\n",
      "[CV 2/3] END ..C=0.1, gamma=0.01, kernel=linear;, score=0.864 total time=   1.0s\n",
      "[CV 3/3] END ..C=0.1, gamma=0.01, kernel=linear;, score=0.892 total time=   1.3s\n",
      "[CV 1/3] END .....C=0.1, gamma=0.01, kernel=rbf;, score=0.770 total time=   0.9s\n",
      "[CV 2/3] END .....C=0.1, gamma=0.01, kernel=rbf;, score=0.770 total time=   1.1s\n",
      "[CV 3/3] END .....C=0.1, gamma=0.01, kernel=rbf;, score=0.771 total time=   1.4s\n",
      "[CV 1/3] END .C=0.1, gamma=0.001, kernel=linear;, score=0.856 total time=   1.5s\n",
      "[CV 2/3] END .C=0.1, gamma=0.001, kernel=linear;, score=0.864 total time=   1.4s\n",
      "[CV 3/3] END .C=0.1, gamma=0.001, kernel=linear;, score=0.892 total time=   1.5s\n",
      "[CV 1/3] END ....C=0.1, gamma=0.001, kernel=rbf;, score=0.770 total time=   1.0s\n",
      "[CV 2/3] END ....C=0.1, gamma=0.001, kernel=rbf;, score=0.770 total time=   1.0s\n",
      "[CV 3/3] END ....C=0.1, gamma=0.001, kernel=rbf;, score=0.771 total time=   1.1s\n",
      "[CV 1/3] END .......C=1, gamma=1, kernel=linear;, score=0.943 total time=   1.0s\n",
      "[CV 2/3] END .......C=1, gamma=1, kernel=linear;, score=0.949 total time=   1.5s\n",
      "[CV 3/3] END .......C=1, gamma=1, kernel=linear;, score=0.970 total time=   1.3s\n",
      "[CV 1/3] END ..........C=1, gamma=1, kernel=rbf;, score=0.948 total time=   3.1s\n",
      "[CV 2/3] END ..........C=1, gamma=1, kernel=rbf;, score=0.949 total time=   3.0s\n",
      "[CV 3/3] END ..........C=1, gamma=1, kernel=rbf;, score=0.971 total time=   2.9s\n",
      "[CV 1/3] END .....C=1, gamma=0.1, kernel=linear;, score=0.943 total time=   1.4s\n",
      "[CV 2/3] END .....C=1, gamma=0.1, kernel=linear;, score=0.949 total time=   1.0s\n",
      "[CV 3/3] END .....C=1, gamma=0.1, kernel=linear;, score=0.970 total time=   1.5s\n",
      "[CV 1/3] END ........C=1, gamma=0.1, kernel=rbf;, score=0.914 total time=   1.3s\n",
      "[CV 2/3] END ........C=1, gamma=0.1, kernel=rbf;, score=0.910 total time=   1.9s\n",
      "[CV 3/3] END ........C=1, gamma=0.1, kernel=rbf;, score=0.916 total time=   1.2s\n",
      "[CV 1/3] END ....C=1, gamma=0.01, kernel=linear;, score=0.943 total time=   0.8s\n",
      "[CV 2/3] END ....C=1, gamma=0.01, kernel=linear;, score=0.949 total time=   0.9s\n",
      "[CV 3/3] END ....C=1, gamma=0.01, kernel=linear;, score=0.970 total time=   0.8s\n",
      "[CV 1/3] END .......C=1, gamma=0.01, kernel=rbf;, score=0.770 total time=   1.0s\n",
      "[CV 2/3] END .......C=1, gamma=0.01, kernel=rbf;, score=0.770 total time=   1.6s\n",
      "[CV 3/3] END .......C=1, gamma=0.01, kernel=rbf;, score=0.771 total time=   1.4s\n",
      "[CV 1/3] END ...C=1, gamma=0.001, kernel=linear;, score=0.943 total time=   0.9s\n",
      "[CV 2/3] END ...C=1, gamma=0.001, kernel=linear;, score=0.949 total time=   0.9s\n",
      "[CV 3/3] END ...C=1, gamma=0.001, kernel=linear;, score=0.970 total time=   0.8s\n",
      "[CV 1/3] END ......C=1, gamma=0.001, kernel=rbf;, score=0.770 total time=   1.1s\n",
      "[CV 2/3] END ......C=1, gamma=0.001, kernel=rbf;, score=0.770 total time=   1.0s\n",
      "[CV 3/3] END ......C=1, gamma=0.001, kernel=rbf;, score=0.771 total time=   1.0s\n",
      "[CV 1/3] END ......C=10, gamma=1, kernel=linear;, score=0.946 total time=   0.8s\n",
      "[CV 2/3] END ......C=10, gamma=1, kernel=linear;, score=0.949 total time=   0.8s\n",
      "[CV 3/3] END ......C=10, gamma=1, kernel=linear;, score=0.966 total time=   1.0s\n",
      "[CV 1/3] END .........C=10, gamma=1, kernel=rbf;, score=0.956 total time=   2.3s\n",
      "[CV 2/3] END .........C=10, gamma=1, kernel=rbf;, score=0.953 total time=   2.5s\n",
      "[CV 3/3] END .........C=10, gamma=1, kernel=rbf;, score=0.976 total time=   2.4s\n",
      "[CV 1/3] END ....C=10, gamma=0.1, kernel=linear;, score=0.946 total time=   0.7s\n",
      "[CV 2/3] END ....C=10, gamma=0.1, kernel=linear;, score=0.949 total time=   0.9s\n",
      "[CV 3/3] END ....C=10, gamma=0.1, kernel=linear;, score=0.966 total time=   1.1s\n",
      "[CV 1/3] END .......C=10, gamma=0.1, kernel=rbf;, score=0.945 total time=   0.7s\n",
      "[CV 2/3] END .......C=10, gamma=0.1, kernel=rbf;, score=0.949 total time=   0.9s\n",
      "[CV 3/3] END .......C=10, gamma=0.1, kernel=rbf;, score=0.969 total time=   1.4s\n",
      "[CV 1/3] END ...C=10, gamma=0.01, kernel=linear;, score=0.946 total time=   0.7s\n",
      "[CV 2/3] END ...C=10, gamma=0.01, kernel=linear;, score=0.949 total time=   0.6s\n",
      "[CV 3/3] END ...C=10, gamma=0.01, kernel=linear;, score=0.966 total time=   1.1s\n",
      "[CV 1/3] END ......C=10, gamma=0.01, kernel=rbf;, score=0.912 total time=   1.1s\n",
      "[CV 2/3] END ......C=10, gamma=0.01, kernel=rbf;, score=0.911 total time=   0.9s\n",
      "[CV 3/3] END ......C=10, gamma=0.01, kernel=rbf;, score=0.932 total time=   1.5s\n",
      "[CV 1/3] END ..C=10, gamma=0.001, kernel=linear;, score=0.946 total time=   0.9s\n",
      "[CV 2/3] END ..C=10, gamma=0.001, kernel=linear;, score=0.949 total time=   0.7s\n",
      "[CV 3/3] END ..C=10, gamma=0.001, kernel=linear;, score=0.966 total time=   1.2s\n",
      "[CV 1/3] END .....C=10, gamma=0.001, kernel=rbf;, score=0.770 total time=   1.1s\n",
      "[CV 2/3] END .....C=10, gamma=0.001, kernel=rbf;, score=0.770 total time=   1.2s\n",
      "[CV 3/3] END .....C=10, gamma=0.001, kernel=rbf;, score=0.771 total time=   1.6s\n",
      "[CV 1/3] END .....C=100, gamma=1, kernel=linear;, score=0.939 total time=   1.2s\n",
      "[CV 2/3] END .....C=100, gamma=1, kernel=linear;, score=0.941 total time=   1.8s\n",
      "[CV 3/3] END .....C=100, gamma=1, kernel=linear;, score=0.967 total time=   1.4s\n",
      "[CV 1/3] END ........C=100, gamma=1, kernel=rbf;, score=0.956 total time=   3.5s\n",
      "[CV 2/3] END ........C=100, gamma=1, kernel=rbf;, score=0.953 total time=   3.0s\n",
      "[CV 3/3] END ........C=100, gamma=1, kernel=rbf;, score=0.976 total time=   2.8s\n",
      "[CV 1/3] END ...C=100, gamma=0.1, kernel=linear;, score=0.939 total time=   1.5s\n",
      "[CV 2/3] END ...C=100, gamma=0.1, kernel=linear;, score=0.941 total time=   0.8s\n",
      "[CV 3/3] END ...C=100, gamma=0.1, kernel=linear;, score=0.967 total time=   1.4s\n",
      "[CV 1/3] END ......C=100, gamma=0.1, kernel=rbf;, score=0.943 total time=   1.0s\n",
      "[CV 2/3] END ......C=100, gamma=0.1, kernel=rbf;, score=0.948 total time=   0.9s\n",
      "[CV 3/3] END ......C=100, gamma=0.1, kernel=rbf;, score=0.969 total time=   1.2s\n",
      "[CV 1/3] END ..C=100, gamma=0.01, kernel=linear;, score=0.939 total time=   1.2s\n",
      "[CV 2/3] END ..C=100, gamma=0.01, kernel=linear;, score=0.941 total time=   0.9s\n",
      "[CV 3/3] END ..C=100, gamma=0.01, kernel=linear;, score=0.967 total time=   1.1s\n",
      "[CV 1/3] END .....C=100, gamma=0.01, kernel=rbf;, score=0.945 total time=   1.0s\n",
      "[CV 2/3] END .....C=100, gamma=0.01, kernel=rbf;, score=0.950 total time=   0.9s\n",
      "[CV 3/3] END .....C=100, gamma=0.01, kernel=rbf;, score=0.969 total time=   1.1s\n",
      "[CV 1/3] END .C=100, gamma=0.001, kernel=linear;, score=0.939 total time=   1.0s\n",
      "[CV 2/3] END .C=100, gamma=0.001, kernel=linear;, score=0.941 total time=   1.3s\n",
      "[CV 3/3] END .C=100, gamma=0.001, kernel=linear;, score=0.967 total time=   1.7s\n",
      "[CV 1/3] END ....C=100, gamma=0.001, kernel=rbf;, score=0.912 total time=   2.0s\n",
      "[CV 2/3] END ....C=100, gamma=0.001, kernel=rbf;, score=0.911 total time=   1.9s\n",
      "[CV 3/3] END ....C=100, gamma=0.001, kernel=rbf;, score=0.932 total time=   2.5s\n",
      "Best Parameters: {'C': 10, 'gamma': 1, 'kernel': 'rbf'}\n"
     ]
    }
   ],
   "source": [
    "param_grid = {'C': [0.1, 1, 10, 100], 'gamma': [1, 0.1, 0.01, 0.001], 'kernel': ['linear', 'rbf']}\n",
    "grid_search = GridSearchCV(SVC(), param_grid, refit=True, verbose=3, cv=3)\n",
    "grid_search.fit(X_train_tfidf, y_train)\n",
    "\n",
    "print(\"Best Parameters:\", grid_search.best_params_)"
   ]
  },
  {
   "cell_type": "code",
   "execution_count": null,
   "metadata": {},
   "outputs": [],
   "source": [
    "best_svm_model = grid_search.best_estimator_"
   ]
  },
  {
   "cell_type": "code",
   "execution_count": 148,
   "metadata": {},
   "outputs": [
    {
     "name": "stdout",
     "output_type": "stream",
     "text": [
      "Accuracy: 0.975\n",
      "Precision: 0.9577464788732394\n",
      "Recall: 0.9379310344827586\n",
      "F1 Score: 0.9477351916376306\n"
     ]
    }
   ],
   "source": [
    "optimized_model = grid_search.best_estimator_\n",
    "y_pred = optimized_model.predict(X_test_tfidf)\n"
   ]
  },
  {
   "cell_type": "code",
   "execution_count": 152,
   "metadata": {},
   "outputs": [
    {
     "name": "stdout",
     "output_type": "stream",
     "text": [
      "Metrics Comparison (Optimized Model):\n",
      "  In-Sample Accuracy: 99.96% | Out-of-Sample Accuracy: 97.50%\n",
      "  In-Sample Precision: 99.82% | Out-of-Sample Precision: 95.77%\n",
      "  In-Sample Recall: 100.00% | Out-of-Sample Recall: 93.79%\n",
      "  In-Sample F1 Score: 99.91% | Out-of-Sample F1 Score: 94.77%\n"
     ]
    }
   ],
   "source": [
    "y_train_pred = optimized_model.predict(X_train_tfidf)\n",
    "\n",
    "in_sample_accuracy = accuracy_score(y_train, y_train_pred)\n",
    "in_sample_precision = precision_score(y_train, y_train_pred)\n",
    "in_sample_recall = recall_score(y_train, y_train_pred)\n",
    "in_sample_f1 = f1_score(y_train, y_train_pred)\n",
    "\n",
    "y_pred = optimized_model.predict(X_test_tfidf)\n",
    "\n",
    "out_of_sample_accuracy = accuracy_score(y_test, y_pred)\n",
    "out_of_sample_precision = precision_score(y_test, y_pred)\n",
    "out_of_sample_recall = recall_score(y_test, y_pred)\n",
    "out_of_sample_f1 = f1_score(y_test, y_pred)\n",
    "\n",
    "print(\"Metrics Comparison (Optimized Model):\")\n",
    "print(f\"  In-Sample Accuracy: {in_sample_accuracy:.2%} | Out-of-Sample Accuracy: {out_of_sample_accuracy:.2%}\")\n",
    "print(f\"  In-Sample Precision: {in_sample_precision:.2%} | Out-of-Sample Precision: {out_of_sample_precision:.2%}\")\n",
    "print(f\"  In-Sample Recall: {in_sample_recall:.2%} | Out-of-Sample Recall: {out_of_sample_recall:.2%}\")\n",
    "print(f\"  In-Sample F1 Score: {in_sample_f1:.2%} | Out-of-Sample F1 Score: {out_of_sample_f1:.2%}\")\n",
    "\n"
   ]
  },
  {
   "cell_type": "code",
   "execution_count": 153,
   "metadata": {},
   "outputs": [
    {
     "data": {
      "text/plain": [
       "['spam_detection_model.joblib']"
      ]
     },
     "execution_count": 153,
     "metadata": {},
     "output_type": "execute_result"
    }
   ],
   "source": [
    "best_svm_model = grid_search.best_estimator_\n",
    "joblib.dump(best_svm_model, 'spam_detection_model.joblib')"
   ]
  },
  {
   "cell_type": "code",
   "execution_count": null,
   "metadata": {},
   "outputs": [],
   "source": []
  }
 ],
 "metadata": {
  "kernelspec": {
   "display_name": "Python 3",
   "language": "python",
   "name": "python3"
  },
  "language_info": {
   "codemirror_mode": {
    "name": "ipython",
    "version": 3
   },
   "file_extension": ".py",
   "mimetype": "text/x-python",
   "name": "python",
   "nbconvert_exporter": "python",
   "pygments_lexer": "ipython3",
   "version": "3.11.7"
  }
 },
 "nbformat": 4,
 "nbformat_minor": 2
}
