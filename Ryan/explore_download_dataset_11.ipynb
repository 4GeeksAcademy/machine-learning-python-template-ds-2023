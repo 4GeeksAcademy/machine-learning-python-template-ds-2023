{
    "cells": [
        {
            "cell_type": "markdown",
            "metadata": {},
            "source": [
                "# Explore here"
            ]
        },
        {
            "cell_type": "code",
            "execution_count": 1,
            "metadata": {},
            "outputs": [
                {
                    "name": "stdout",
                    "output_type": "stream",
                    "text": [
                        "   MedInc  HouseAge  AveRooms  AveBedrms  Population  AveOccup  Latitude  \\\n",
                        "0  8.3252      41.0  6.984127   1.023810       322.0  2.555556     37.88   \n",
                        "1  8.3014      21.0  6.238137   0.971880      2401.0  2.109842     37.86   \n",
                        "2  7.2574      52.0  8.288136   1.073446       496.0  2.802260     37.85   \n",
                        "3  5.6431      52.0  5.817352   1.073059       558.0  2.547945     37.85   \n",
                        "4  3.8462      52.0  6.281853   1.081081       565.0  2.181467     37.85   \n",
                        "\n",
                        "   Longitude  MedHouseVal  \n",
                        "0    -122.23        4.526  \n",
                        "1    -122.22        3.585  \n",
                        "2    -122.24        3.521  \n",
                        "3    -122.25        3.413  \n",
                        "4    -122.25        3.422  \n"
                    ]
                }
            ],
            "source": [
                "import requests\n",
                "import pandas as pd\n",
                "import io  # Make sure to import io for BytesIO\n",
                "\n",
                "# Step 1: Fetch the .csv content from the URL\n",
                "url = \"https://raw.githubusercontent.com/4GeeksAcademy/k-means-project-tutorial/main/housing.csv\"\n",
                "response = requests.get(url)\n",
                "response.raise_for_status()  # This will raise an exception if there's an error\n",
                "\n",
                "# Step 2: Convert the content into a pandas DataFrame\n",
                "content = response.content\n",
                "df = pd.read_csv(io.BytesIO(content))\n",
                "\n",
                "# Print the head of the DataFrame to inspect the first few rows\n",
                "print(df.head())\n",
                "\n",
                "# Step 3: Save the DataFrame to a .csv file in the desired folder\n",
                "path_to_save = \"/workspaces/machine-learning-python-template-ds-2023/Ryan/raw/housing.csv\"\n",
                "df.to_csv(path_to_save, index=False)\n"
            ]
        }
    ],
    "metadata": {
        "kernelspec": {
            "display_name": "Python 3.8.13 64-bit ('3.8.13')",
            "language": "python",
            "name": "python3"
        },
        "language_info": {
            "codemirror_mode": {
                "name": "ipython",
                "version": 3
            },
            "file_extension": ".py",
            "mimetype": "text/x-python",
            "name": "python",
            "nbconvert_exporter": "python",
            "pygments_lexer": "ipython3",
            "version": "3.11.4"
        },
        "orig_nbformat": 4,
        "vscode": {
            "interpreter": {
                "hash": "110cc1dee26208153f2972f08a2ad52b6a56238dc66d48e87fb757ef2996db56"
            }
        }
    },
    "nbformat": 4,
    "nbformat_minor": 2
}
