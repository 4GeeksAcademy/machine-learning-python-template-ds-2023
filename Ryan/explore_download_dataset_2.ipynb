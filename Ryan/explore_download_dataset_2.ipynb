{
    "cells": [
        {
            "cell_type": "markdown",
            "metadata": {},
            "source": [
                "# Explore here"
            ]
        },
        {
            "cell_type": "code",
            "execution_count": 1,
            "metadata": {},
            "outputs": [
                {
                    "name": "stdout",
                    "output_type": "stream",
                    "text": [
                        "  age;\"job\";\"marital\";\"education\";\"default\";\"housing\";\"loan\";\"contact\";\"month\";\"day_of_week\";\"duration\";\"campaign\";\"pdays\";\"previous\";\"poutcome\";\"emp.var.rate\";\"cons.price.idx\";\"cons.conf.idx\";\"euribor3m\";\"nr.employed\";\"y\"\n",
                        "0  56;\"housemaid\";\"married\";\"basic.4y\";\"no\";\"no\";...                                                                                                                                                                          \n",
                        "1  57;\"services\";\"married\";\"high.school\";\"unknown...                                                                                                                                                                          \n",
                        "2  37;\"services\";\"married\";\"high.school\";\"no\";\"ye...                                                                                                                                                                          \n",
                        "3  40;\"admin.\";\"married\";\"basic.6y\";\"no\";\"no\";\"no...                                                                                                                                                                          \n",
                        "4  56;\"services\";\"married\";\"high.school\";\"no\";\"no...                                                                                                                                                                          \n"
                    ]
                }
            ],
            "source": [
                "import requests\n",
                "import pandas as pd\n",
                "import io  # Make sure to import io for BytesIO\n",
                "\n",
                "# Step 1: Fetch the .csv content from the URL\n",
                "url = \"https://raw.githubusercontent.com/4GeeksAcademy/logistic-regression-project-tutorial/main/bank-marketing-campaign-data.csv\"\n",
                "response = requests.get(url)\n",
                "response.raise_for_status()  # This will raise an exception if there's an error\n",
                "\n",
                "# Step 2: Convert the content into a pandas DataFrame\n",
                "content = response.content\n",
                "df = pd.read_csv(io.BytesIO(content))\n",
                "\n",
                "# Print the head of the DataFrame to inspect the first few rows\n",
                "print(df.head())\n",
                "\n",
                "# Step 3: Save the DataFrame to a .csv file in the desired folder\n",
                "path_to_save = \"/workspaces/machine-learning-python-template-ds-2023/Ryan/raw/bank_data.csv\"\n",
                "df.to_csv(path_to_save, index=False)\n"
            ]
        }
    ],
    "metadata": {
        "kernelspec": {
            "display_name": "Python 3.8.13 64-bit ('3.8.13')",
            "language": "python",
            "name": "python3"
        },
        "language_info": {
            "codemirror_mode": {
                "name": "ipython",
                "version": 3
            },
            "file_extension": ".py",
            "mimetype": "text/x-python",
            "name": "python",
            "nbconvert_exporter": "python",
            "pygments_lexer": "ipython3",
            "version": "3.11.4"
        },
        "orig_nbformat": 4,
        "vscode": {
            "interpreter": {
                "hash": "110cc1dee26208153f2972f08a2ad52b6a56238dc66d48e87fb757ef2996db56"
            }
        }
    },
    "nbformat": 4,
    "nbformat_minor": 2
}
