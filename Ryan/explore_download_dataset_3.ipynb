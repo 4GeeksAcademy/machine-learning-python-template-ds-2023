{
    "cells": [
        {
            "cell_type": "markdown",
            "metadata": {},
            "source": [
                "# Explore here"
            ]
        },
        {
            "cell_type": "code",
            "execution_count": 2,
            "metadata": {},
            "outputs": [
                {
                    "name": "stdout",
                    "output_type": "stream",
                    "text": [
                        "   age     sex     bmi  children smoker     region      charges\n",
                        "0   19  female  27.900         0    yes  southwest  16884.92400\n",
                        "1   18    male  33.770         1     no  southeast   1725.55230\n",
                        "2   28    male  33.000         3     no  southeast   4449.46200\n",
                        "3   33    male  22.705         0     no  northwest  21984.47061\n",
                        "4   32    male  28.880         0     no  northwest   3866.85520\n"
                    ]
                }
            ],
            "source": [
                "import requests\n",
                "import pandas as pd\n",
                "import io  # Make sure to import io for BytesIO\n",
                "\n",
                "# Step 1: Fetch the .csv content from the URL\n",
                "url = \"https://raw.githubusercontent.com/4GeeksAcademy/linear-regression-project-tutorial/main/medical_insurance_cost.csv\"\n",
                "response = requests.get(url)\n",
                "response.raise_for_status()  # This will raise an exception if there's an error\n",
                "\n",
                "# Step 2: Convert the content into a pandas DataFrame\n",
                "content = response.content\n",
                "df = pd.read_csv(io.BytesIO(content))\n",
                "\n",
                "# Print the head of the DataFrame to inspect the first few rows\n",
                "print(df.head())\n",
                "\n",
                "# Step 3: Save the DataFrame to a .csv file in the desired folder\n",
                "path_to_save = \"/workspaces/machine-learning-python-template-ds-2023/Ryan/raw/medical_insurance.csv\"\n",
                "df.to_csv(path_to_save, index=False)\n"
            ]
        }
    ],
    "metadata": {
        "kernelspec": {
            "display_name": "Python 3.8.13 64-bit ('3.8.13')",
            "language": "python",
            "name": "python3"
        },
        "language_info": {
            "codemirror_mode": {
                "name": "ipython",
                "version": 3
            },
            "file_extension": ".py",
            "mimetype": "text/x-python",
            "name": "python",
            "nbconvert_exporter": "python",
            "pygments_lexer": "ipython3",
            "version": "3.11.4"
        },
        "orig_nbformat": 4,
        "vscode": {
            "interpreter": {
                "hash": "110cc1dee26208153f2972f08a2ad52b6a56238dc66d48e87fb757ef2996db56"
            }
        }
    },
    "nbformat": 4,
    "nbformat_minor": 2
}
