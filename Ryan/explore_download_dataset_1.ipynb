{
    "cells": [
        {
            "cell_type": "markdown",
            "metadata": {},
            "source": [
                "# Explore here"
            ]
        },
        {
            "cell_type": "code",
            "execution_count": 5,
            "metadata": {},
            "outputs": [
                {
                    "name": "stdout",
                    "output_type": "stream",
                    "text": [
                        "     id                                              name  host_id  \\\n",
                        "0  2539                Clean & quiet apt home by the park     2787   \n",
                        "1  2595                             Skylit Midtown Castle     2845   \n",
                        "2  3647               THE VILLAGE OF HARLEM....NEW YORK !     4632   \n",
                        "3  3831                   Cozy Entire Floor of Brownstone     4869   \n",
                        "4  5022  Entire Apt: Spacious Studio/Loft by central park     7192   \n",
                        "\n",
                        "     host_name neighbourhood_group neighbourhood  latitude  longitude  \\\n",
                        "0         John            Brooklyn    Kensington  40.64749  -73.97237   \n",
                        "1     Jennifer           Manhattan       Midtown  40.75362  -73.98377   \n",
                        "2    Elisabeth           Manhattan        Harlem  40.80902  -73.94190   \n",
                        "3  LisaRoxanne            Brooklyn  Clinton Hill  40.68514  -73.95976   \n",
                        "4        Laura           Manhattan   East Harlem  40.79851  -73.94399   \n",
                        "\n",
                        "         room_type  price  minimum_nights  number_of_reviews last_review  \\\n",
                        "0     Private room    149               1                  9  2018-10-19   \n",
                        "1  Entire home/apt    225               1                 45  2019-05-21   \n",
                        "2     Private room    150               3                  0         NaN   \n",
                        "3  Entire home/apt     89               1                270  2019-07-05   \n",
                        "4  Entire home/apt     80              10                  9  2018-11-19   \n",
                        "\n",
                        "   reviews_per_month  calculated_host_listings_count  availability_365  \n",
                        "0               0.21                               6               365  \n",
                        "1               0.38                               2               355  \n",
                        "2                NaN                               1               365  \n",
                        "3               4.64                               1               194  \n",
                        "4               0.10                               1                 0  \n"
                    ]
                }
            ],
            "source": [
                "import requests\n",
                "import pandas as pd\n",
                "import io  # Make sure to import io for BytesIO\n",
                "\n",
                "# Step 1: Fetch the .csv content from the URL\n",
                "url = \"https://raw.githubusercontent.com/4GeeksAcademy/data-preprocessing-project-tutorial/main/AB_NYC_2019.csv\"\n",
                "response = requests.get(url)\n",
                "response.raise_for_status()  # This will raise an exception if there's an error\n",
                "\n",
                "# Step 2: Convert the content into a pandas DataFrame\n",
                "content = response.content\n",
                "df = pd.read_csv(io.BytesIO(content))\n",
                "\n",
                "# Print the head of the DataFrame to inspect the first few rows\n",
                "print(df.head())\n",
                "\n",
                "# Step 3: Save the DataFrame to a .csv file in the desired folder\n",
                "path_to_save = \"/workspaces/machine-learning-python-template-ds-2023/Ryan/raw/NYC_AirBnB.csv\"\n",
                "df.to_csv(path_to_save, index=False)\n"
            ]
        }
    ],
    "metadata": {
        "kernelspec": {
            "display_name": "Python 3.8.13 64-bit ('3.8.13')",
            "language": "python",
            "name": "python3"
        },
        "language_info": {
            "codemirror_mode": {
                "name": "ipython",
                "version": 3
            },
            "file_extension": ".py",
            "mimetype": "text/x-python",
            "name": "python",
            "nbconvert_exporter": "python",
            "pygments_lexer": "ipython3",
            "version": "3.11.4"
        },
        "orig_nbformat": 4,
        "vscode": {
            "interpreter": {
                "hash": "110cc1dee26208153f2972f08a2ad52b6a56238dc66d48e87fb757ef2996db56"
            }
        }
    },
    "nbformat": 4,
    "nbformat_minor": 2
}
