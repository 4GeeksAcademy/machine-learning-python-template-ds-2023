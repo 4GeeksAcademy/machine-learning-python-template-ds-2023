{
 "cells": [
  {
   "cell_type": "code",
   "execution_count": 3,
   "metadata": {},
   "outputs": [],
   "source": [
    "import pandas as pd\n",
    "import numpy as np\n",
    "import sqlite3\n",
    "import ast\n",
    "import matplotlib.pyplot as plt\n",
    "import seaborn as sns\n",
    "from sklearn.preprocessing import OneHotEncoder\n",
    "from sklearn.model_selection import train_test_split\n",
    "from sklearn.neighbors import KNeighborsClassifier\n",
    "from sklearn.metrics import accuracy_score\n",
    "from sklearn.feature_extraction.text import TfidfVectorizer\n",
    "from sklearn.neighbors import NearestNeighbors\n",
    "from joblib import dump\n",
    "import json"
   ]
  },
  {
   "cell_type": "code",
   "execution_count": 4,
   "metadata": {},
   "outputs": [],
   "source": [
    "url_movies = 'https://raw.githubusercontent.com/4GeeksAcademy/k-nearest-neighbors-project-tutorial/main/tmdb_5000_movies.csv'\n",
    "url_credits = 'https://raw.githubusercontent.com/4GeeksAcademy/k-nearest-neighbors-project-tutorial/main/tmdb_5000_credits.csv'\n",
    "\n",
    "movies = pd.read_csv(url_movies)\n",
    "credits = pd.read_csv(url_credits)\n",
    "\n",
    "conn = sqlite3.connect('movie_database.db')\n",
    "\n",
    "movies.to_sql('movies_table', conn, index=False, if_exists='replace')\n",
    "credits.to_sql('credits_table', conn, index=False, if_exists='replace')\n",
    "\n",
    "query = '''\n",
    "    SELECT m.*, c.*\n",
    "    FROM movies_table m\n",
    "    JOIN credits_table c ON m.title = c.title\n",
    "'''\n",
    "\n",
    "df = pd.read_sql(query, conn)\n",
    "\n",
    "conn.close()\n"
   ]
  },
  {
   "cell_type": "code",
   "execution_count": 5,
   "metadata": {},
   "outputs": [],
   "source": [
    "df['cast'] = df['cast'].apply(lambda x: json.loads(x) if isinstance(x, str) and pd.notnull(x) else x)\n",
    "df['first_three_actors'] = df['cast'].apply(lambda cast_list: [actor['name'] for actor in cast_list[:3]] if cast_list else [])\n"
   ]
  },
  {
   "cell_type": "code",
   "execution_count": 6,
   "metadata": {},
   "outputs": [],
   "source": [
    "# conver json strings to lists of dictionaries\n",
    "df['crew'] = df['crew'].apply(lambda x: json.loads(x) if isinstance(x, str) and pd.notnull(x) else x)\n",
    "# extract names of directors\n",
    "df['director'] = df['crew'].apply(lambda crew_list: next((member['name'] for member in crew_list if member['job'] == 'Director'), None))"
   ]
  },
  {
   "cell_type": "code",
   "execution_count": 7,
   "metadata": {},
   "outputs": [],
   "source": [
    "df['overview_words'] = df['overview'].apply(lambda x: x.split() if isinstance(x, str) else [])"
   ]
  },
  {
   "cell_type": "code",
   "execution_count": 8,
   "metadata": {},
   "outputs": [],
   "source": [
    "df['keywords'] = df['keywords'].apply(ast.literal_eval)\n",
    "df['keywords'] = df['keywords'].apply(lambda x: [keyword['name'] for keyword in x] if x else [])\n"
   ]
  },
  {
   "cell_type": "code",
   "execution_count": 9,
   "metadata": {},
   "outputs": [],
   "source": [
    "df['genres'] = df['genres'].apply(ast.literal_eval)\n",
    "df['genres'] = df['genres'].apply(lambda x: [genre['name'] for genre in x] if x else [])"
   ]
  },
  {
   "cell_type": "code",
   "execution_count": 10,
   "metadata": {},
   "outputs": [],
   "source": [
    "df['genres'] = df['genres'].apply(lambda x: ' '.join(x) if isinstance(x, list) else '')\n",
    "df['first_three_actors'] = df['first_three_actors'].apply(lambda x: ' '.join(x) if isinstance(x, list) else '')\n",
    "df['keywords'] = df['keywords'].apply(lambda x: ' '.join(x) if isinstance(x, list) else '')"
   ]
  },
  {
   "cell_type": "code",
   "execution_count": 11,
   "metadata": {},
   "outputs": [],
   "source": [
    "df['tags'] = df['overview'] + ' ' + df['genres'] + ' ' + df['first_three_actors'] + ' ' + df['director'] + ' ' + df['keywords']\n",
    "df['tags'] = df['tags'].str.replace(',', ' ')"
   ]
  },
  {
   "cell_type": "code",
   "execution_count": 25,
   "metadata": {},
   "outputs": [],
   "source": [
    "df = df.drop_duplicates(subset='title', keep='first')\n"
   ]
  },
  {
   "cell_type": "code",
   "execution_count": 35,
   "metadata": {},
   "outputs": [],
   "source": [
    "duplicates = df[df.duplicated(subset='tags', keep=False)]\n"
   ]
  },
  {
   "cell_type": "code",
   "execution_count": 13,
   "metadata": {},
   "outputs": [],
   "source": [
    "df.drop(columns = [\"genres\", \"keywords\", \"cast\", \"crew\", \"overview\"], inplace = True)\n"
   ]
  },
  {
   "cell_type": "code",
   "execution_count": 19,
   "metadata": {},
   "outputs": [],
   "source": [
    "df = df.dropna(subset=['tags'])"
   ]
  },
  {
   "cell_type": "code",
   "execution_count": 44,
   "metadata": {},
   "outputs": [
    {
     "data": {
      "text/plain": [
       "Index(['budget', 'homepage', 'id', 'original_language', 'original_title',\n",
       "       'popularity', 'production_companies', 'production_countries',\n",
       "       'release_date', 'revenue', 'runtime', 'spoken_languages', 'status',\n",
       "       'tagline', 'vote_average', 'vote_count', 'movie_id',\n",
       "       'first_three_actors', 'director', 'overview_words', 'tags'],\n",
       "      dtype='object')"
      ]
     },
     "execution_count": 44,
     "metadata": {},
     "output_type": "execute_result"
    }
   ],
   "source": [
    "df.columns"
   ]
  },
  {
   "cell_type": "code",
   "execution_count": 41,
   "metadata": {},
   "outputs": [],
   "source": [
    "df.drop(\"title\", axis=1, inplace=True)"
   ]
  },
  {
   "cell_type": "code",
   "execution_count": 45,
   "metadata": {},
   "outputs": [],
   "source": [
    "vectorizer = TfidfVectorizer()\n",
    "tfidf_matrix = vectorizer.fit_transform(df[\"tags\"])\n",
    "\n",
    "model = NearestNeighbors(n_neighbors = 6, algorithm = \"brute\", metric = \"cosine\")\n",
    "model.fit(tfidf_matrix)\n",
    "\n",
    "def get_movie_recommendations(movie_title):\n",
    "    movie_index = df[df[\"original_title\"] == movie_title].index[0]\n",
    "    distances, indices = model.kneighbors(tfidf_matrix[movie_index])\n",
    "    similar_movies = [(df[\"original_title\"][i], distances[0][j]) for j, i in enumerate(indices[0])]\n",
    "    return similar_movies[1:]\n",
    "\n"
   ]
  },
  {
   "cell_type": "code",
   "execution_count": 46,
   "metadata": {},
   "outputs": [
    {
     "data": {
      "text/plain": [
       "[('City of Ghosts', 0.6979426555590698),\n",
       " ('Alien³', 0.730287739186475),\n",
       " ('Out of Africa', 0.7478753055618057),\n",
       " ('Mission to Mars', 0.7493196634595706),\n",
       " ('Into the Grizzly Maze', 0.7543915756012284)]"
      ]
     },
     "execution_count": 46,
     "metadata": {},
     "output_type": "execute_result"
    }
   ],
   "source": [
    "get_movie_recommendations(\"Avatar\")"
   ]
  },
  {
   "cell_type": "code",
   "execution_count": 47,
   "metadata": {},
   "outputs": [],
   "source": [
    "dump(model, open(\"./models/knn_neighbors.sav\", \"wb\"))"
   ]
  }
 ],
 "metadata": {
  "kernelspec": {
   "display_name": "Python 3",
   "language": "python",
   "name": "python3"
  },
  "language_info": {
   "codemirror_mode": {
    "name": "ipython",
    "version": 3
   },
   "file_extension": ".py",
   "mimetype": "text/x-python",
   "name": "python",
   "nbconvert_exporter": "python",
   "pygments_lexer": "ipython3",
   "version": "3.11.5"
  }
 },
 "nbformat": 4,
 "nbformat_minor": 2
}
